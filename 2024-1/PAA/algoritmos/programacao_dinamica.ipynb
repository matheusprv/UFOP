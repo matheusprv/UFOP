{
 "cells": [
  {
   "cell_type": "markdown",
   "metadata": {},
   "source": [
    "# Sequência crescente mais longa"
   ]
  },
  {
   "cell_type": "code",
   "execution_count": 76,
   "metadata": {},
   "outputs": [
    {
     "name": "stdout",
     "output_type": "stream",
     "text": [
      "([1, 1, 2, 2, 2, 3, 4, 4], [-1, -1, 0, 0, 1, 4, 5, 5], 4, 6)\n"
     ]
    }
   ],
   "source": [
    "def SCML(vetor):\n",
    "    n = len(vetor)\n",
    "    tamanho = [1] * n\n",
    "    prev = [-1] * n\n",
    "    max = 1\n",
    "    posmax = 0\n",
    "\n",
    "    for i in range(1, n):\n",
    "        for j in range(i):\n",
    "            if vetor[j] < vetor[i] and tamanho[i] < tamanho[j] + 1:\n",
    "                tamanho[i] = tamanho[j] + 1\n",
    "                prev[i] = j\n",
    "        \n",
    "        if tamanho[i] > max:\n",
    "            max = tamanho[i]\n",
    "            posmax = i\n",
    "\n",
    "    return tamanho, prev, max, posmax\n",
    "\n",
    "V = [5, 2, 8, 6, 3, 6, 9, 7]\n",
    "print(SCML(V))"
   ]
  },
  {
   "cell_type": "markdown",
   "metadata": {},
   "source": [
    "# Distância de edição"
   ]
  },
  {
   "cell_type": "code",
   "execution_count": 42,
   "metadata": {},
   "outputs": [
    {
     "name": "stdout",
     "output_type": "stream",
     "text": [
      "7\n"
     ]
    }
   ],
   "source": [
    "def disEdicao(x, y):\n",
    "    x = [''] + list(x)\n",
    "    y = [''] + list(y)\n",
    "    diff = lambda x, y: 0 if x == y else 1\n",
    "\n",
    "\n",
    "    m = len(x)\n",
    "    n = len(y)\n",
    "\n",
    "    T = [[0]*n for _ in range(m)]\n",
    "\n",
    "    for i in range(m): T[i][0] = i\n",
    "    for j in range(n): T[0][j] = j\n",
    "\n",
    "    for i in range(1, m):\n",
    "        for j in range(1, n):\n",
    "            cas = T[i-1][j-1] + diff(x[i], y[j])\n",
    "            ins = T[i][j-1] + 1\n",
    "            rem = T[i-1][j] + 1\n",
    "            T[i][j] = min(cas, ins, rem)\n",
    "    \n",
    "    return T[m-1][n-1], T\n",
    "\n",
    "\n",
    "_, T = disEdicao(\"Exponential\", \"Polinomial\")\n",
    "print(_)\n"
   ]
  },
  {
   "cell_type": "markdown",
   "metadata": {},
   "source": [
    "# Knapsack 0/1"
   ]
  },
  {
   "cell_type": "code",
   "execution_count": 71,
   "metadata": {},
   "outputs": [
    {
     "name": "stdout",
     "output_type": "stream",
     "text": [
      "9\n",
      " 1 2\n"
     ]
    }
   ],
   "source": [
    "def knapsak(w, v, capacidade):\n",
    "    n = len(w)\n",
    "    if n == 0 or capacidade == 0: return 0\n",
    "\n",
    "    T = [[0] * (capacidade + 1) for _ in range(n + 1)]\n",
    "\n",
    "    for i in range(1, n + 1):\n",
    "        for j in range(1, capacidade + 1):\n",
    "            if (w[i-1] > j):\n",
    "                T[i][j] = T[i-1][j]\n",
    "            else:\n",
    "                T[i][j] = max(\n",
    "                    T[i-1][j],\n",
    "                    T[i-1][j - w[i-1]] + v[i-1]\n",
    "                )\n",
    "\n",
    "    return T[n][capacidade], T\n",
    "\n",
    "def solucao(T, w, capacidade, i):\n",
    "    \n",
    "    if capacidade == 0 or i == 0:\n",
    "        return \"\"\n",
    "    \n",
    "    if T[i][capacidade] == T[i-1][capacidade]:\n",
    "        return solucao(T, w, capacidade, i-1)\n",
    "    else:\n",
    "        return solucao(T, w, capacidade - w[i-1], i-1) + \" \" + str(i-1)\n",
    "\n",
    "\n",
    "w = [1, 3, 4, 5]\n",
    "v = [1, 4, 5, 7]\n",
    "\n",
    "capacidade = 7\n",
    "lucro, T = knapsak(w, v, capacidade)\n",
    "print(lucro)\n",
    "\n",
    "resposta = solucao(T, w, capacidade, len(w))\n",
    "print(resposta)\n",
    "\n"
   ]
  }
 ],
 "metadata": {
  "kernelspec": {
   "display_name": "Python 3",
   "language": "python",
   "name": "python3"
  },
  "language_info": {
   "codemirror_mode": {
    "name": "ipython",
    "version": 3
   },
   "file_extension": ".py",
   "mimetype": "text/x-python",
   "name": "python",
   "nbconvert_exporter": "python",
   "pygments_lexer": "ipython3",
   "version": "3.10.12"
  }
 },
 "nbformat": 4,
 "nbformat_minor": 2
}
