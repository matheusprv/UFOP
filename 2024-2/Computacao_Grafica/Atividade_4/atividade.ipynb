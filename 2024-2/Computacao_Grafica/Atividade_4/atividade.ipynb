{
 "cells": [
  {
   "cell_type": "code",
   "execution_count": 1,
   "metadata": {},
   "outputs": [],
   "source": [
    "import matplotlib.pyplot as plt\n",
    "import numpy as np\n",
    "import math"
   ]
  },
  {
   "cell_type": "markdown",
   "metadata": {},
   "source": [
    "# Exercício 1"
   ]
  },
  {
   "cell_type": "markdown",
   "metadata": {},
   "source": [
    "Implemente um gradiente RGB onde R varia de 0 a 255 enquanto G e B permanecem constantes."
   ]
  },
  {
   "cell_type": "code",
   "execution_count": 2,
   "metadata": {},
   "outputs": [
    {
     "data": {
      "text/plain": [
       "<function matplotlib.pyplot.show(close=None, block=None)>"
      ]
     },
     "execution_count": 2,
     "metadata": {},
     "output_type": "execute_result"
    },
    {
     "data": {
      "image/png": "[encoded data removed]",
      "text/plain": [
       "<Figure size 640x480 with 1 Axes>"
      ]
     },
     "metadata": {},
     "output_type": "display_data"
    }
   ],
   "source": [
    "img = np.zeros((256, 256, 3))\n",
    "plt.imshow(img)\n",
    "plt.axis('off')\n",
    "plt.show"
   ]
  },
  {
   "cell_type": "code",
   "execution_count": null,
   "metadata": {},
   "outputs": [
    {
     "name": "stdout",
     "output_type": "stream",
     "text": [
      "(128,)\n",
      "(128,)\n"
     ]
    },
    {
     "data": {
      "text/plain": [
       "<function matplotlib.pyplot.show(close=None, block=None)>"
      ]
     },
     "execution_count": 10,
     "metadata": {},
     "output_type": "execute_result"
    },
    {
     "data": {
      "image/png": "[encoded data removed]",
      "text/plain": [
       "<Figure size 640x480 with 1 Axes>"
      ]
     },
     "metadata": {},
     "output_type": "display_data"
    }
   ],
   "source": [
    "g1 = np.linspace(0, 1, 128)\n",
    "g2 = np.linspace(1, 0, 128)\n",
    "\n",
    "print(g1.shape)\n",
    "print(g2.shape)\n",
    "\n",
    "gradiente = np.concatenate((g1, g2))\n",
    "img [:, :, 0] = gradiente\n",
    "plt.imshow(img)\n",
    "plt.axis('off')\n",
    "plt.show"
   ]
  },
  {
   "cell_type": "markdown",
   "metadata": {},
   "source": [
    "# Exercício 2"
   ]
  },
  {
   "cell_type": "markdown",
   "metadata": {},
   "source": [
    "Escreva um programa que receba um valor RGB como entrada e\n",
    "converta para HSV."
   ]
  },
  {
   "cell_type": "code",
   "execution_count": 4,
   "metadata": {},
   "outputs": [
    {
     "name": "stdout",
     "output_type": "stream",
     "text": [
      "(234, 78, 98)\n"
     ]
    }
   ],
   "source": [
    "def rgb_to_hsv(RGB):\n",
    "    r, g, b = RGB\n",
    "    \n",
    "    if not (0 < r < 255 and 0 < g < 255 and 0 < b < 255):\n",
    "        raise ValueError(\"Canal fora dos limites [0, 255]\")\n",
    "\n",
    "    maximo = max(r, g, b)\n",
    "    minimo = min(r, g, b)\n",
    "    delta = maximo - minimo\n",
    "\n",
    "    H = 0\n",
    "    if delta != 0:\n",
    "        if maximo == r:\n",
    "            H = 60 * (g-b)/delta\n",
    "        elif maximo == g:\n",
    "            H = 60 * (2 + (b-r)/delta)\n",
    "        else:\n",
    "            H = 60 * (4 + (r-g)/delta)\n",
    "\n",
    "    S = 0\n",
    "    if maximo != 0:\n",
    "        S = delta / maximo\n",
    "    \n",
    "    V = maximo / 255\n",
    "\n",
    "    H = round(H)\n",
    "    S = round(S * 100)\n",
    "    V = round(V * 100)\n",
    "\n",
    "    return H, S, V\n",
    "\n",
    "RGB = (55, 75, 250)\n",
    "print(rgb_to_hsv(RGB))\n"
   ]
  },
  {
   "cell_type": "markdown",
   "metadata": {},
   "source": [
    "# Exercício 3   "
   ]
  },
  {
   "cell_type": "markdown",
   "metadata": {},
   "source": [
    "Aplique uma cor R=255, G=128, B=64 em um modelo subtrativo e\n",
    "converta para CMYK."
   ]
  },
  {
   "cell_type": "code",
   "execution_count": 6,
   "metadata": {},
   "outputs": [
    {
     "name": "stdout",
     "output_type": "stream",
     "text": [
      "(0, 50, 75, 0)\n"
     ]
    }
   ],
   "source": [
    "def rgb_to_cmyk(RGB):\n",
    "    r, g, b = RGB\n",
    "    \n",
    "    if not (0 <= r <= 255 and 0 <= g <= 255 and 0 <= b <= 255):\n",
    "        raise ValueError(\"Canal fora dos limites [0, 255]\")\n",
    "    \n",
    "    if r == 0 and g == 0 and b == 0: return 0, 0, 0, 1\n",
    "\n",
    "    r, g, b = r / 255., g / 255., b / 255.\n",
    "\n",
    "    k = 1 - max(r, g, b)\n",
    "    c = (1 - r - k) / (1 - k)\n",
    "    m = (1 - g - k) / (1 - k)\n",
    "    y = (1 - b - k) / (1 - k)\n",
    "\n",
    "    k = round(k * 100)\n",
    "    c = round(c * 100)\n",
    "    m = round(m * 100)\n",
    "    y = round(y * 100)\n",
    "    \n",
    "    return c, m, y, k\n",
    "\n",
    "RGB = (255, 128, 64)\n",
    "print(rgb_to_cmyk(RGB))"
   ]
  }
 ],
 "metadata": {
  "kernelspec": {
   "display_name": "Python 3",
   "language": "python",
   "name": "python3"
  },
  "language_info": {
   "codemirror_mode": {
    "name": "ipython",
    "version": 3
   },
   "file_extension": ".py",
   "mimetype": "text/x-python",
   "name": "python",
   "nbconvert_exporter": "python",
   "pygments_lexer": "ipython3",
   "version": "3.10.12"
  }
 },
 "nbformat": 4,
 "nbformat_minor": 2
}
