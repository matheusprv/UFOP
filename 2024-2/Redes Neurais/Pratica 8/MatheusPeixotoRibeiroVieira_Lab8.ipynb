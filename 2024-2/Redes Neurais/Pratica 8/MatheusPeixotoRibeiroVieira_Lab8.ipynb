{
  "nbformat": 4,
  "nbformat_minor": 0,
  "metadata": {
    "colab": {
      "provenance": [],
      "gpuType": "T4"
    },
    "kernelspec": {
      "name": "python3",
      "display_name": "Python 3"
    },
    "language_info": {
      "name": "python"
    },
    "accelerator": "GPU"
  },
  "cells": [
    {
      "cell_type": "markdown",
      "source": [
        "# Lab 8 - BCC406\n",
        "\n",
        "## REDES NEURAIS E APRENDIZAGEM EM PROFUNDIDADE\n",
        "\n",
        "## *Word Embedding*\n",
        "\n",
        "### Prof. Eduardo e Prof. Pedro\n",
        "\n",
        "Objetivos:\n",
        "\n",
        "- Parte I : Uso de BoW para PLN\n",
        "\n",
        "- Parte II : Comparação com *word embedding* simples\n",
        "\n",
        "- Parte III: Visualizando as representações das palavras no espaço\n",
        "\n",
        "\n",
        "Data da entrega : 11/03\n",
        "\n",
        "- Complete o código (marcado com ToDo) e quando requisitado, escreva textos diretamente nos notebooks. Onde tiver *None*, substitua pelo seu código.\n",
        "- Execute todo notebook e salve tudo em um PDF **nomeado** como \"NomeSobrenome-Lab.pdf\"\n",
        "- Envie o PDF via google [FORM](https://forms.gle/gm1egpnfvTdQXYwp7)\n",
        "\n",
        "Este notebook é baseado em tensorflow e Keras."
      ],
      "metadata": {
        "id": "0EcNPTI11PXS"
      }
    },
    {
      "cell_type": "markdown",
      "source": [
        "# Representações de texto (*Bag-of-Words* vs. *Word Embeddings*) em NLP"
      ],
      "metadata": {
        "id": "h5OzALIdXDEy"
      }
    },
    {
      "cell_type": "markdown",
      "source": [
        "Neste exercício prático, vamos explorar duas abordagens diferentes para representar textos em português e treinar um modelo de classificação de texto simples. Usaremos um dataset desafiador de NLP em português – por exemplo, **[resenhas de filmes](https://https://drive.google.com/file/d/1KVIxGF6AVD6i43JPT0DBIZzYKJrBMoE5/view?usp=drive_link)** traduzidas para PT-BR, rotuladas como _positivas_ ou _negativas_.  O [dataset](https://https://drive.google.com/file/d/1KVIxGF6AVD6i43JPT0DBIZzYKJrBMoE5/view?usp=drive_link) contempla o review dado pelos usuários e o sentimento daquele review (positivo/negativo) com relação ao filme. O objetivo é, dado um review (ou resenha) em portugues, classificar o texto como positivo ou negativo.\n",
        "\n",
        "O exercício será dividido em duas etapas principais:  \n",
        "\n",
        "1. **Bag-of-Words + MLP:** Transformar os textos em vetores numéricos usando a técnica de **Bag-of-Words** (saco de palavras) baseada em frequência, e então treinar uma rede neural simples do tipo MLP (Perceptron Multicamadas) para classificar as resenhas.  \n",
        "2. **Word Embeddings + MLP:** Utilizar uma camada de **embedding** para converter palavras em vetores densos de dimensões menores, e treinar o mesmo modelo MLP, comparando os resultados com a abordagem de Bag-of-Words.  "
      ],
      "metadata": {
        "id": "19Vn3mjOXKYx"
      }
    },
    {
      "cell_type": "markdown",
      "source": [
        "## Importando as bibliotecas\n"
      ],
      "metadata": {
        "id": "DFqpYw56Xu1M"
      }
    },
    {
      "cell_type": "markdown",
      "source": [
        "Aqui, faremos a importação de todas as bibliotecas que serão usadas nesta prática."
      ],
      "metadata": {
        "id": "qeN9qmjwXwq8"
      }
    },
    {
      "cell_type": "code",
      "source": [
        "import matplotlib.pyplot as plt\n",
        "import numpy as np\n",
        "import pandas as pd\n",
        "\n",
        "from sklearn.decomposition import PCA\n",
        "from sklearn.feature_extraction.text import CountVectorizer\n",
        "from sklearn.manifold import TSNE\n",
        "from sklearn.model_selection import train_test_split\n",
        "from tensorflow.keras.models import Sequential\n",
        "from tensorflow.keras.layers import Dense, InputLayer, Dropout, BatchNormalization\n",
        "from tensorflow.keras.layers import Embedding, GlobalAveragePooling1D\n",
        "from tensorflow.keras.preprocessing.sequence import pad_sequences\n",
        "from tensorflow.keras.preprocessing.text import Tokenizer"
      ],
      "metadata": {
        "id": "_jEVYCSEX0Zi"
      },
      "execution_count": 1,
      "outputs": []
    },
    {
      "cell_type": "markdown",
      "source": [
        "## Preparando os dados\n"
      ],
      "metadata": {
        "id": "htJoCXz9Xl1C"
      }
    },
    {
      "cell_type": "markdown",
      "source": [
        "Aqui assumiremos um dataset de **resenhas de filmes em português**, já categorizadas como sendo de sentimento **positivo** ou **negativo**.\n",
        "\n",
        "O dataset está disponível em um arquivo CSV, [na pasta da prática](https://https://drive.google.com/file/d/1KVIxGF6AVD6i43JPT0DBIZzYKJrBMoE5/view?usp=drive_link). Os passos a seguir demonstram como carregar e inspecionar os dados.\n",
        "\n",
        "O primeiro passo é fazer o download do arquivo.\n"
      ],
      "metadata": {
        "id": "EUDv4DoeXnxD"
      }
    },
    {
      "cell_type": "code",
      "source": [
        "!gdown 1KVIxGF6AVD6i43JPT0DBIZzYKJrBMoE5"
      ],
      "metadata": {
        "id": "SH-rWHucX7Dx",
        "colab": {
          "base_uri": "https://localhost:8080/"
        },
        "outputId": "8b01ec26-c039-4e01-dc8c-adef7c907378"
      },
      "execution_count": 2,
      "outputs": [
        {
          "output_type": "stream",
          "name": "stdout",
          "text": [
            "Downloading...\n",
            "From (original): https://drive.google.com/uc?id=1KVIxGF6AVD6i43JPT0DBIZzYKJrBMoE5\n",
            "From (redirected): https://drive.google.com/uc?id=1KVIxGF6AVD6i43JPT0DBIZzYKJrBMoE5&confirm=t&uuid=0595ac30-90fb-4e57-8b33-999aae39deaa\n",
            "To: /content/imdb-reviews-pt-br.csv\n",
            "100% 127M/127M [00:02<00:00, 55.9MB/s]\n"
          ]
        }
      ]
    },
    {
      "cell_type": "markdown",
      "source": [
        "Fazer a leitura do arquivo das resenhas com o pacote Pandas."
      ],
      "metadata": {
        "id": "vhG8tyZhboCz"
      }
    },
    {
      "cell_type": "code",
      "source": [
        "df = pd.read_csv('imdb-reviews-pt-br.csv')"
      ],
      "metadata": {
        "id": "mid4i0OjXsz3"
      },
      "execution_count": 2,
      "outputs": []
    },
    {
      "cell_type": "markdown",
      "source": [
        "Inspecionando os dados."
      ],
      "metadata": {
        "id": "BKHSwumjbwIx"
      }
    },
    {
      "cell_type": "code",
      "source": [
        "# Verificar as primeiras linhas do dataset para entender sua estrutura\n",
        "print(f\"Número de exemplos: {len(df)}\")\n",
        "print(df.head(5))"
      ],
      "metadata": {
        "id": "TcGFPCPvbyGC",
        "colab": {
          "base_uri": "https://localhost:8080/"
        },
        "outputId": "cff14e4b-31f1-4ca6-e82e-92d8752e6055"
      },
      "execution_count": 4,
      "outputs": [
        {
          "output_type": "stream",
          "name": "stdout",
          "text": [
            "Número de exemplos: 49459\n",
            "   id                                            text_en  \\\n",
            "0   1  Once again Mr. Costner has dragged out a movie...   \n",
            "1   2  This is an example of why the majority of acti...   \n",
            "2   3  First of all I hate those moronic rappers, who...   \n",
            "3   4  Not even the Beatles could write songs everyon...   \n",
            "4   5  Brass pictures movies is not a fitting word fo...   \n",
            "\n",
            "                                             text_pt sentiment  \n",
            "0  Mais uma vez, o Sr. Costner arrumou um filme p...       neg  \n",
            "1  Este é um exemplo do motivo pelo qual a maiori...       neg  \n",
            "2  Primeiro de tudo eu odeio esses raps imbecis, ...       neg  \n",
            "3  Nem mesmo os Beatles puderam escrever músicas ...       neg  \n",
            "4  Filmes de fotos de latão não é uma palavra apr...       neg  \n"
          ]
        }
      ]
    },
    {
      "cell_type": "markdown",
      "source": [
        "**Explicação:** O código acima lê o arquivo CSV contendo as resenhas. Substitua `'imdb-reviews-pt-br.csv'` pelo caminho adequado do seu dataset. Usamos `df.head(5)` para ver as primeiras 5 entradas e inspecionar as colunas. Provavelmente, o dataset terá uma coluna para o texto da resenha (por exemplo, `review_pt` ou `texto`) e outra para o rótulo de sentimento (por exemplo, `sentiment` indicando *positivo/negativo*).  \n",
        "\n",
        "O próximo passo é  extrair as colunas de texto e rótulo para listas (ou arrays) separados, o que facilitará o manuseio posteriormente."
      ],
      "metadata": {
        "id": "F1jpdfyEb6-8"
      }
    },
    {
      "cell_type": "code",
      "source": [
        "texts = df['text_pt'].astype(str).values    # convertendo para string por segurança\n",
        "labels = df['sentiment'].map({'neg': 0, 'pos': 1}).values"
      ],
      "metadata": {
        "id": "axMoJtlUc2Ok"
      },
      "execution_count": 3,
      "outputs": []
    },
    {
      "cell_type": "markdown",
      "source": [
        "Fazendo uma análise do que foi carregado."
      ],
      "metadata": {
        "id": "r3COjFW-c8bi"
      }
    },
    {
      "cell_type": "code",
      "source": [
        "print(\"Total de textos:\", len(texts))\n",
        "print(\"Exemplo de texto:\", texts[0][:100], \"...\")  # imprime começo do primeiro texto\n",
        "print(\"Rótulo desse texto:\", labels[0])"
      ],
      "metadata": {
        "id": "sPaI_FtfdJO2",
        "colab": {
          "base_uri": "https://localhost:8080/"
        },
        "outputId": "f1a51e95-c3b7-4c9d-c44b-26a11c9ce83c"
      },
      "execution_count": 6,
      "outputs": [
        {
          "output_type": "stream",
          "name": "stdout",
          "text": [
            "Total de textos: 49459\n",
            "Exemplo de texto: Mais uma vez, o Sr. Costner arrumou um filme por muito mais tempo do que o necessário. Além das terr ...\n",
            "Rótulo desse texto: 0\n"
          ]
        }
      ]
    },
    {
      "cell_type": "markdown",
      "source": [
        "**Nota:** Caso seu dataset tenha rótulos como \"positivo\"/\"negativo\" ou \"pos\"/\"neg\", converta-os para valores numéricos (e.g., 1 para positivo, 0 para negativo) conforme mostrado no comentário acima, pois isso facilita o treinamento do modelo.  \n",
        "\n",
        "Para simplificar o exercício e reduzir tempo de processamento (deixando-o _leve_), podemos **opcionalmente** trabalhar com uma amostra menor do dataset. Por exemplo, usar apenas 10.000 exemplos se o conjunto completo for muito grande."
      ],
      "metadata": {
        "id": "uMGa1pwVdStE"
      }
    },
    {
      "cell_type": "code",
      "source": [
        "# OPCIONAL: usar somente uma parte dos dados para treinamento mais rápido (por exemplo, 10000 primeiras linhas)\n",
        "df = df.sample(10000, random_state=42)  # amostra aleatória de 10000 exemplos"
      ],
      "metadata": {
        "id": "DCp9fwq8dY7G"
      },
      "execution_count": 7,
      "outputs": []
    },
    {
      "cell_type": "markdown",
      "source": [
        "Agora que os dados estão carregados e prontos, vamos iniciar a **Parte 1: Bag-of-Words + MLP**."
      ],
      "metadata": {
        "id": "UHSxbBTZddOk"
      }
    },
    {
      "cell_type": "markdown",
      "source": [
        "## Bag-of-Words + MLP"
      ],
      "metadata": {
        "id": "Cxk1b_kIddw9"
      }
    },
    {
      "cell_type": "markdown",
      "source": [
        "Nesta parte, vamos converter cada texto em uma representação numérica usando a técnica de **Bag-of-Words (BoW)** e depois treinar um modelo de rede neural simples para classificar os textos.  "
      ],
      "metadata": {
        "id": "8AA2xs37dhz3"
      }
    },
    {
      "cell_type": "markdown",
      "source": [
        "### O que é Bag-of-Words?  "
      ],
      "metadata": {
        "id": "_hj0fLptdljA"
      }
    },
    {
      "cell_type": "markdown",
      "source": [
        "Bag-of-Words é uma das representações mais simples para texto. Nesta abordagem:  \n",
        "\n",
        "- **Vocabulário:** Primeiro definimos um vocabulário de palavras a partir do conjunto de textos de treino. O vocabulário pode ser todas as palavras distintas presentes ou um subconjunto (por exemplo, as N palavras mais frequentes).  \n",
        "- **Vetores de Frequência:** Cada texto é representado por um vetor de comprimento igual ao tamanho do vocabulário. Em cada posição do vetor colocamos a **frequência** (contagem) de ocorrência da palavra correspondente naquele texto. Por exemplo, se a palavra `filme` é a 5ª palavra do vocabulário, o elemento índice 5 do vetor conterá quantas vezes `filme` aparece na resenha.  \n",
        "- Por essa razão, é chamado de \"saco de palavras\": a ordem das palavras é **ignorada**. Apenas importa quantas vezes cada palavra apareceu. Em outras palavras, um documento é representado como um **multiconjunto** de palavras.  \n",
        "\n",
        "**Exemplo simples:**  \n",
        "Considere dois textos:  \n",
        "- Texto A: \"gostei do filme filme excelente\"  \n",
        "- Texto B: \"não gostei do filme\"  \n",
        "\n",
        "Suponha que o vocabulário construído seja: `[gostei, do, filme, excelente, não]`.  \n",
        "- Texto A teria representação BoW = `[1, 1, 2, 1, 0]` (1 ocorrência de \"gostei\", 1 de \"do\", 2 de \"filme\", 1 de \"excelente\", 0 de \"não\").  \n",
        "- Texto B teria representação BoW = `[1, 1, 1, 0, 1]` (1 \"gostei\", 1 \"do\", 1 \"filme\", 0 \"excelente\", 1 \"não\").  \n",
        "\n",
        "Observe que a posição de cada número corresponde a uma palavra do vocabulário.  "
      ],
      "metadata": {
        "id": "sFOB3MQCdnRr"
      }
    },
    {
      "cell_type": "markdown",
      "source": [
        "### Limitações do Bag-of-Words  "
      ],
      "metadata": {
        "id": "RSqwggEVdqfa"
      }
    },
    {
      "cell_type": "markdown",
      "source": [
        "Embora seja fácil de entender e implementar, a representação Bag-of-Words tem algumas limitações importantes:  \n",
        "\n",
        "- **Alta Dimensionalidade:** O vetor resultante tem dimensão igual ao tamanho do vocabulário, que pode ser muito grande (milhares ou dezenas de milhares de palavras). Isso pode causar **esparsidade**, já que cada texto individual usa apenas uma fração do vocabulário (muitos zeros no vetor), exigindo mais memória e podendo dificultar o aprendizado do modelo.  \n",
        "- **Sem ordem ou contexto:** Como a ordem das palavras é ignorada, informações contextuais importantes se perdem. Por exemplo, \"não, gostei\" e \"gostei não\" teriam a mesma contagem de palavras, apesar de o significado ser diferente por causa da ordem. Bag-of-words não captura estruturas sintáticas ou a proximidade entre palavras.  \n",
        "- **Não captura o significado ou similaridade das palavras:** Cada palavra é uma dimensão independente. Palavras como **\"ótimo\"** e **\"excelente\"** serão representadas em dimensões diferentes, mesmo tendo significado semelhante. O modelo precisaria aprender do zero que ambas indicam algo positivo, pois BoW não fornece nenhuma noção de que essas palavras estão relacionadas. Em resumo, BoW trata palavras como tokens independentes sem nenhuma relação intrínseca.  \n",
        "\n",
        "Apesar dessas limitações, Bag-of-Words costuma funcionar bem em tarefas simples e é um bom ponto de partida para entendermos representações de texto.  \n"
      ],
      "metadata": {
        "id": "2afUuDisdsSa"
      }
    },
    {
      "cell_type": "markdown",
      "source": [
        "### Implementação Bag-of-Words + MLP"
      ],
      "metadata": {
        "id": "MkDB2cQpdy4K"
      }
    },
    {
      "cell_type": "markdown",
      "source": [
        "Agora vamos colocar em prática: primeiro transformando nossos textos em vetores de frequência (BoW), depois treinando um modelo de classificação simples.  \n",
        "\n"
      ],
      "metadata": {
        "id": "19k62DMzd1bE"
      }
    },
    {
      "cell_type": "markdown",
      "source": [
        "#### **1. Vetorização com Bag-of-Words:**  "
      ],
      "metadata": {
        "id": "xyTreARmd9bD"
      }
    },
    {
      "cell_type": "markdown",
      "source": [
        "\n",
        "\n",
        "Usaremos a biblioteca **scikit-learn** ou utilitários do Keras para converter a lista de textos em uma matriz de características. Uma forma prática é usar `CountVectorizer` do scikit-learn, que faz todo o processo de: tokenizar os textos, construir o vocabulário e contar frequências.  \n",
        "\n",
        "Vamos limitar o tamanho do vocabulário para, digamos, as 5000 palavras mais frequentes, a fim de tornar a representação mais leve (ignorando palavras muito raras, que pouco contribuem e só aumentam a dimensão).  "
      ],
      "metadata": {
        "id": "uBkWdB_Jd8L7"
      }
    },
    {
      "cell_type": "code",
      "source": [
        "max_features = 5000  # tamanho máximo do vocabulário\n",
        "vectorizer = CountVectorizer(max_features=max_features, stop_words=None)  # podemos adicionar stop_words='portuguese' se quisermos remover stopwords"
      ],
      "metadata": {
        "id": "lJWkIMTBeoAy"
      },
      "execution_count": 18,
      "outputs": []
    },
    {
      "cell_type": "markdown",
      "source": [
        "Com os parâmetros definidos, é possível treinar o vetorizaor nos textos de treino e transformar os textos em matriz BoW, onde a matriz resultante será esparsa e com dimensão `(n_amostras, max_features)`"
      ],
      "metadata": {
        "id": "25bDCdvuewOF"
      }
    },
    {
      "cell_type": "code",
      "source": [
        "X_bow = vectorizer.fit_transform(texts)\n",
        "\n",
        "print(\"Formato da matriz BoW:\", X_bow.shape)"
      ],
      "metadata": {
        "id": "S3LHNkfsewny",
        "colab": {
          "base_uri": "https://localhost:8080/"
        },
        "outputId": "e48ec516-f628-463e-8f24-9233ed17ed72"
      },
      "execution_count": 19,
      "outputs": [
        {
          "output_type": "stream",
          "name": "stdout",
          "text": [
            "Formato da matriz BoW: (49459, 5000)\n"
          ]
        }
      ]
    },
    {
      "cell_type": "markdown",
      "source": [
        "Após essa etapa, `X_bow` é uma matriz esparsa onde cada linha corresponde a um texto, e cada coluna a uma palavra do vocabulário (de tamanho até 5000). O valor em `X_bow[i,j]` é a contagem da j-ésima palavra do vocabulário no i-ésimo texto.  \n",
        "\n",
        "Podemos inspecionar alguns exemplos para ter certeza de que faz sentido:  "
      ],
      "metadata": {
        "id": "TcPHgEMzfGgI"
      }
    },
    {
      "cell_type": "code",
      "source": [
        "# Ver algumas palavras do vocabulário\n",
        "print(\"Algumas palavras do vocabulário:\", vectorizer.get_feature_names_out()[:100])\n",
        "\n",
        "# Mostrar vetor BoW da primeira resenha (convertido para array denso apenas para visualizar)\n",
        "print(\"Vetor BoW da primeira resenha:\\n\", X_bow[0].toarray())\n",
        "\n",
        "# (Nota: a maioria dos elementos será zero; podemos também somar para ver o total de palavras contadas)\n",
        "print(\"Total de palavras na primeira resenha:\", int(X_bow[0].sum()))"
      ],
      "metadata": {
        "id": "nAyuuTN-fHM_",
        "colab": {
          "base_uri": "https://localhost:8080/"
        },
        "outputId": "e12715d0-6d92-457c-fe36-46ae8e8694e1"
      },
      "execution_count": 20,
      "outputs": [
        {
          "output_type": "stream",
          "name": "stdout",
          "text": [
            "Algumas palavras do vocabulário: ['00' '000' '10' '100' '11' '12' '13' '14' '15' '16' '17' '18' '19' '1930'\n",
            " '1940' '1950' '1960' '1970' '1972' '1979' '1980' '1990' '1995' '1996'\n",
            " '1999' '20' '2000' '2001' '2002' '2003' '2004' '2005' '2006' '2007' '21'\n",
            " '24' '25' '30' '35' '40' '45' '50' '60' '70' '80' '90' '99' 'abaixo'\n",
            " 'abandonado' 'abc' 'aberta' 'aberto' 'abertura' 'abordagem' 'aborrecido'\n",
            " 'abre' 'abrir' 'absoluta' 'absolutamente' 'absoluto' 'absurda' 'absurdo'\n",
            " 'abundância' 'abuso' 'acaba' 'acabado' 'acabam' 'acabar' 'acabaram'\n",
            " 'acabei' 'acabou' 'academia' 'acampamento' 'acaso' 'aceita' 'aceitar'\n",
            " 'aceitável' 'acha' 'acham' 'achar' 'achava' 'achei' 'acho' 'achou'\n",
            " 'acidentalmente' 'acidente' 'acima' 'acompanha' 'acompanhar' 'acontece'\n",
            " 'acontecem' 'acontecendo' 'acontecer' 'aconteceu' 'acontecido'\n",
            " 'acontecimentos' 'aconteça' 'acorda' 'acordado' 'acordo']\n",
            "Vetor BoW da primeira resenha:\n",
            " [[0 0 0 ... 1 0 0]]\n",
            "Total de palavras na primeira resenha: 132\n"
          ]
        }
      ]
    },
    {
      "cell_type": "markdown",
      "source": [
        "#### **2. Dividir dados em treino e teste:**  "
      ],
      "metadata": {
        "id": "wllWW4cffPEO"
      }
    },
    {
      "cell_type": "markdown",
      "source": [
        "Antes de treinar o modelo, é importante separar uma parte dos dados para teste (avaliação). Assim podemos medir o desempenho em dados não vistos durante o treino. Vamos dividir, por exemplo, 80% para treino e 20% para teste.  "
      ],
      "metadata": {
        "id": "q4hFM4zqfQm_"
      }
    },
    {
      "cell_type": "code",
      "source": [
        "X_train_bow, X_test_bow, y_train, y_test = train_test_split(\n",
        "    X_bow, labels, test_size=0.2, random_state=42)\n",
        "\n",
        "print(\"Conjunto de treino - textos:\", X_train_bow.shape, \" rótulos:\", y_train.shape)\n",
        "print(\"Conjunto de teste - textos:\", X_test_bow.shape, \" rótulos:\", y_test.shape)"
      ],
      "metadata": {
        "id": "ManN9gVifSn1",
        "colab": {
          "base_uri": "https://localhost:8080/"
        },
        "outputId": "3c729e02-5ff7-4f18-fe15-22a5de0ce7a0"
      },
      "execution_count": 21,
      "outputs": [
        {
          "output_type": "stream",
          "name": "stdout",
          "text": [
            "Conjunto de treino - textos: (39567, 5000)  rótulos: (39567,)\n",
            "Conjunto de teste - textos: (9892, 5000)  rótulos: (9892,)\n"
          ]
        }
      ]
    },
    {
      "cell_type": "markdown",
      "source": [
        "#### **3. Definir e treinar o modelo MLP:**"
      ],
      "metadata": {
        "id": "_B5zpqAnfYRp"
      }
    },
    {
      "cell_type": "markdown",
      "source": [
        "Usaremos uma rede neural simples (MLP) para classificação binária (positivo/negativo). Como entrada, o MLP receberá os vetores BoW de cada texto. Nossa arquitetura será simples para ser rápida de treinar: por exemplo, uma camada densa escondida com algumas unidades e ReLU, seguida de uma camada de saída com ativação sigmoide (para prever a probabilidade de classe positiva).  \n",
        "\n",
        "Detalhes:  \n",
        "- Input dimension = tamanho do vocabulário (5000 características neste caso).  \n",
        "- Uma camada oculta, digamos com 16 ou 32 neurônios, ativação ReLU. (Poderia ser mais complexa, mas manteremos simples).  \n",
        "- Saída: 1 neurônio com ativação sigmoide (porque é binário).  \n",
        "- Função de perda: `binary_crossentropy` (entropia cruzada binária).  \n",
        "- Otimizador: por exemplo, `adam`.  \n",
        "- Métrica: acurácia (para acompanhar desempenho).  \n",
        "\n",
        "Vamos construir o modelo usando Keras (TensorFlow):  "
      ],
      "metadata": {
        "id": "qrpcjTS9fay3"
      }
    },
    {
      "cell_type": "code",
      "source": [
        "# Construir modelo MLP para Bag-of-Words\n",
        "model_bow = Sequential()\n",
        "model_bow.add(Dense(16, activation='relu', input_shape=(X_train_bow.shape[1],)))\n",
        "model_bow.add(Dense(1, activation='sigmoid'))  # saída binária\n",
        "\n",
        "model_bow.compile(optimizer='adam', loss='binary_crossentropy', metrics=['accuracy'])\n",
        "model_bow.summary()"
      ],
      "metadata": {
        "id": "fBC89i4pfbaZ",
        "colab": {
          "base_uri": "https://localhost:8080/",
          "height": 232
        },
        "outputId": "273aa9a8-93b4-4c2e-c7df-24ead770bee5"
      },
      "execution_count": 22,
      "outputs": [
        {
          "output_type": "stream",
          "name": "stderr",
          "text": [
            "/usr/local/lib/python3.11/dist-packages/keras/src/layers/core/dense.py:87: UserWarning: Do not pass an `input_shape`/`input_dim` argument to a layer. When using Sequential models, prefer using an `Input(shape)` object as the first layer in the model instead.\n",
            "  super().__init__(activity_regularizer=activity_regularizer, **kwargs)\n"
          ]
        },
        {
          "output_type": "display_data",
          "data": {
            "text/plain": [
              "\u001b[1mModel: \"sequential_3\"\u001b[0m\n"
            ],
            "text/html": [
              "<pre style=\"white-space:pre;overflow-x:auto;line-height:normal;font-family:Menlo,'DejaVu Sans Mono',consolas,'Courier New',monospace\"><span style=\"font-weight: bold\">Model: \"sequential_3\"</span>\n",
              "</pre>\n"
            ]
          },
          "metadata": {}
        },
        {
          "output_type": "display_data",
          "data": {
            "text/plain": [
              "┏━━━━━━━━━━━━━━━━━━━━━━━━━━━━━━━━━━━━━━┳━━━━━━━━━━━━━━━━━━━━━━━━━━━━━┳━━━━━━━━━━━━━━━━━┓\n",
              "┃\u001b[1m \u001b[0m\u001b[1mLayer (type)                        \u001b[0m\u001b[1m \u001b[0m┃\u001b[1m \u001b[0m\u001b[1mOutput Shape               \u001b[0m\u001b[1m \u001b[0m┃\u001b[1m \u001b[0m\u001b[1m        Param #\u001b[0m\u001b[1m \u001b[0m┃\n",
              "┡━━━━━━━━━━━━━━━━━━━━━━━━━━━━━━━━━━━━━━╇━━━━━━━━━━━━━━━━━━━━━━━━━━━━━╇━━━━━━━━━━━━━━━━━┩\n",
              "│ dense_2 (\u001b[38;5;33mDense\u001b[0m)                      │ (\u001b[38;5;45mNone\u001b[0m, \u001b[38;5;34m16\u001b[0m)                  │          \u001b[38;5;34m80,016\u001b[0m │\n",
              "├──────────────────────────────────────┼─────────────────────────────┼─────────────────┤\n",
              "│ dense_3 (\u001b[38;5;33mDense\u001b[0m)                      │ (\u001b[38;5;45mNone\u001b[0m, \u001b[38;5;34m1\u001b[0m)                   │              \u001b[38;5;34m17\u001b[0m │\n",
              "└──────────────────────────────────────┴─────────────────────────────┴─────────────────┘\n"
            ],
            "text/html": [
              "<pre style=\"white-space:pre;overflow-x:auto;line-height:normal;font-family:Menlo,'DejaVu Sans Mono',consolas,'Courier New',monospace\">┏━━━━━━━━━━━━━━━━━━━━━━━━━━━━━━━━━━━━━━┳━━━━━━━━━━━━━━━━━━━━━━━━━━━━━┳━━━━━━━━━━━━━━━━━┓\n",
              "┃<span style=\"font-weight: bold\"> Layer (type)                         </span>┃<span style=\"font-weight: bold\"> Output Shape                </span>┃<span style=\"font-weight: bold\">         Param # </span>┃\n",
              "┡━━━━━━━━━━━━━━━━━━━━━━━━━━━━━━━━━━━━━━╇━━━━━━━━━━━━━━━━━━━━━━━━━━━━━╇━━━━━━━━━━━━━━━━━┩\n",
              "│ dense_2 (<span style=\"color: #0087ff; text-decoration-color: #0087ff\">Dense</span>)                      │ (<span style=\"color: #00d7ff; text-decoration-color: #00d7ff\">None</span>, <span style=\"color: #00af00; text-decoration-color: #00af00\">16</span>)                  │          <span style=\"color: #00af00; text-decoration-color: #00af00\">80,016</span> │\n",
              "├──────────────────────────────────────┼─────────────────────────────┼─────────────────┤\n",
              "│ dense_3 (<span style=\"color: #0087ff; text-decoration-color: #0087ff\">Dense</span>)                      │ (<span style=\"color: #00d7ff; text-decoration-color: #00d7ff\">None</span>, <span style=\"color: #00af00; text-decoration-color: #00af00\">1</span>)                   │              <span style=\"color: #00af00; text-decoration-color: #00af00\">17</span> │\n",
              "└──────────────────────────────────────┴─────────────────────────────┴─────────────────┘\n",
              "</pre>\n"
            ]
          },
          "metadata": {}
        },
        {
          "output_type": "display_data",
          "data": {
            "text/plain": [
              "\u001b[1m Total params: \u001b[0m\u001b[38;5;34m80,033\u001b[0m (312.63 KB)\n"
            ],
            "text/html": [
              "<pre style=\"white-space:pre;overflow-x:auto;line-height:normal;font-family:Menlo,'DejaVu Sans Mono',consolas,'Courier New',monospace\"><span style=\"font-weight: bold\"> Total params: </span><span style=\"color: #00af00; text-decoration-color: #00af00\">80,033</span> (312.63 KB)\n",
              "</pre>\n"
            ]
          },
          "metadata": {}
        },
        {
          "output_type": "display_data",
          "data": {
            "text/plain": [
              "\u001b[1m Trainable params: \u001b[0m\u001b[38;5;34m80,033\u001b[0m (312.63 KB)\n"
            ],
            "text/html": [
              "<pre style=\"white-space:pre;overflow-x:auto;line-height:normal;font-family:Menlo,'DejaVu Sans Mono',consolas,'Courier New',monospace\"><span style=\"font-weight: bold\"> Trainable params: </span><span style=\"color: #00af00; text-decoration-color: #00af00\">80,033</span> (312.63 KB)\n",
              "</pre>\n"
            ]
          },
          "metadata": {}
        },
        {
          "output_type": "display_data",
          "data": {
            "text/plain": [
              "\u001b[1m Non-trainable params: \u001b[0m\u001b[38;5;34m0\u001b[0m (0.00 B)\n"
            ],
            "text/html": [
              "<pre style=\"white-space:pre;overflow-x:auto;line-height:normal;font-family:Menlo,'DejaVu Sans Mono',consolas,'Courier New',monospace\"><span style=\"font-weight: bold\"> Non-trainable params: </span><span style=\"color: #00af00; text-decoration-color: #00af00\">0</span> (0.00 B)\n",
              "</pre>\n"
            ]
          },
          "metadata": {}
        }
      ]
    },
    {
      "cell_type": "markdown",
      "source": [
        "**Observação:** A camada de entrada (`Dense(16, ..., input_shape=(X_train_bow.shape[1],))`) espera um vetor de tamanho 5000 (no nosso caso) para cada exemplo. Esse será exatamente o vetor BoW de cada texto.  \n",
        "\n",
        "Agora treinamos o modelo por algumas épocas (epochs). Como o dataset pode ser grande, comece com um número pequeno de épocas, por exemplo 3 a 5, e veja o resultado. (Em um problema real, poderíamos treinar mais, mas queremos um experimento rápido.)  "
      ],
      "metadata": {
        "id": "2F3OuGbzffhu"
      }
    },
    {
      "cell_type": "code",
      "source": [
        "history_bow = model_bow.fit(X_train_bow.toarray(),\n",
        "                            np.asarray([0 if x == 'neg' else 1 for x in y_train]),  # convertendo X_train de esparso para denso para treinar\n",
        "                            epochs=5,\n",
        "                            batch_size=32,\n",
        "                            validation_data=(X_test_bow.toarray(), y_test))"
      ],
      "metadata": {
        "id": "D8LdbZy5fokU",
        "colab": {
          "base_uri": "https://localhost:8080/"
        },
        "outputId": "33479f29-641b-4c49-e212-c376811f4ec2"
      },
      "execution_count": 23,
      "outputs": [
        {
          "output_type": "stream",
          "name": "stdout",
          "text": [
            "Epoch 1/5\n",
            "\u001b[1m1237/1237\u001b[0m \u001b[32m━━━━━━━━━━━━━━━━━━━━\u001b[0m\u001b[37m\u001b[0m \u001b[1m7s\u001b[0m 4ms/step - accuracy: 0.9946 - loss: 0.0310 - val_accuracy: 0.4907 - val_loss: 11.6252\n",
            "Epoch 2/5\n",
            "\u001b[1m1237/1237\u001b[0m \u001b[32m━━━━━━━━━━━━━━━━━━━━\u001b[0m\u001b[37m\u001b[0m \u001b[1m4s\u001b[0m 3ms/step - accuracy: 1.0000 - loss: 2.7301e-04 - val_accuracy: 0.4907 - val_loss: 14.9292\n",
            "Epoch 3/5\n",
            "\u001b[1m1237/1237\u001b[0m \u001b[32m━━━━━━━━━━━━━━━━━━━━\u001b[0m\u001b[37m\u001b[0m \u001b[1m6s\u001b[0m 4ms/step - accuracy: 1.0000 - loss: 1.1146e-04 - val_accuracy: 0.4907 - val_loss: 17.3630\n",
            "Epoch 4/5\n",
            "\u001b[1m1237/1237\u001b[0m \u001b[32m━━━━━━━━━━━━━━━━━━━━\u001b[0m\u001b[37m\u001b[0m \u001b[1m4s\u001b[0m 3ms/step - accuracy: 1.0000 - loss: 3.7957e-05 - val_accuracy: 0.4907 - val_loss: 19.6177\n",
            "Epoch 5/5\n",
            "\u001b[1m1237/1237\u001b[0m \u001b[32m━━━━━━━━━━━━━━━━━━━━\u001b[0m\u001b[37m\u001b[0m \u001b[1m5s\u001b[0m 4ms/step - accuracy: 1.0000 - loss: 1.7896e-05 - val_accuracy: 0.4907 - val_loss: 21.7652\n"
          ]
        }
      ]
    },
    {
      "cell_type": "markdown",
      "source": [
        "**Nota:** Aqui convertemos explicitamente `X_train_bow` e `X_test_bow` para arrays densos (`toarray()`), porque o Keras requer entrada densa em NP array. Isso é viável se o vocabulário não for muito grande. Com `max_features=5000`, a matriz densificada ainda é gerenciável em termos de memória. Se o vocabulário fosse muito maior, poderíamos usar métodos mais avançados ou treinar com o próprio TensorFlow tfidf layer etc., mas não vamos complicar neste exercício inicial.  \n",
        "\n",
        "Durante o treinamento, observe a *loss* (função de perda) e *accuracy* tanto do treino quanto da validação a cada época. Após treinar, vamos avaliar a performance final no conjunto de teste:  \n"
      ],
      "metadata": {
        "id": "E8RLk-E3fsyF"
      }
    },
    {
      "cell_type": "code",
      "source": [
        "loss_bow, acc_bow = model_bow.evaluate(X_test_bow.toarray(), y_test, verbose=0)\n",
        "print(f\"Acurácia no conjunto de teste (BoW + MLP): {acc_bow:.4f}\")"
      ],
      "metadata": {
        "id": "tXra_mcthr4L",
        "colab": {
          "base_uri": "https://localhost:8080/"
        },
        "outputId": "b7cf3882-b931-4650-ba85-c434500bddac"
      },
      "execution_count": 24,
      "outputs": [
        {
          "output_type": "stream",
          "name": "stdout",
          "text": [
            "Acurácia no conjunto de teste (BoW + MLP): 0.4907\n"
          ]
        }
      ]
    },
    {
      "cell_type": "markdown",
      "source": [
        "Também podemos inspecionar algumas previsões do modelo para ver se ele faz sentido (lembrando que 1 são para as classes 'pos' e 0 (zero), 'neg'):"
      ],
      "metadata": {
        "id": "-V1VdWFjhwuG"
      }
    },
    {
      "cell_type": "code",
      "source": [
        "# Fazer previsões em alguns exemplos de teste\n",
        "pred_probs = model_bow.predict(X_test_bow.toarray()[:5])  # probabilidades previstas para 5 exemplos\n",
        "pred_classes = (pred_probs > 0.5).astype(int)             # classifica como 1 se prob > 0.5, senão 0\n",
        "\n",
        "print(\"Probabilidades previstas:\", pred_probs[:,0])\n",
        "print(\"Classes previstas:\", pred_classes[:,0])\n",
        "print(\"Classes verdadeiras :\", y_test[:5])"
      ],
      "metadata": {
        "id": "FuLUhJ9phyxr",
        "colab": {
          "base_uri": "https://localhost:8080/"
        },
        "outputId": "2daa2a3a-8985-44db-9c80-7a95470d8fec"
      },
      "execution_count": 25,
      "outputs": [
        {
          "output_type": "stream",
          "name": "stdout",
          "text": [
            "\u001b[1m1/1\u001b[0m \u001b[32m━━━━━━━━━━━━━━━━━━━━\u001b[0m\u001b[37m\u001b[0m \u001b[1m0s\u001b[0m 201ms/step\n",
            "Probabilidades previstas: [1.         1.         1.         0.99998784 1.        ]\n",
            "Classes previstas: [1 1 1 1 1]\n",
            "Classes verdadeiras : [1 0 1 0 1]\n"
          ]
        }
      ]
    },
    {
      "cell_type": "markdown",
      "source": [
        "Isso imprime as probabilidades que o modelo atribuiu à classe positiva e as classes finais comparadas com as verdadeiras para os primeiros 5 textos de teste.  \n",
        "\n",
        "**Discussão dos resultados (Parte 1):** Após o treinamento, devemos obter uma certa acurácia de teste (por exemplo, algo em torno de 80% a 85% para um bom modelo de sentimento com dados do IMDb traduzido, embora esse número possa variar). É importante notar:  \n",
        "\n",
        "- Se o desempenho não estiver tão bom, lembre-se das limitações do BoW. Palavras como *\"bom\"* e *\"ótimo\"* foram tratadas de forma independente. Talvez o modelo nunca viu a palavra *\"espetacular\"* no treino mas viu *\"excelente\"*, e não consegue generalizar bem, pois no BoW não há relação entre essas expressões de sentimento positivo.  \n",
        "- O modelo também não considera a ordem, então frases negativas com negações podem confundir (por exemplo, \"*não gostei*\" versus \"*gostei*\"). Podemos melhorar isso futuramente com processamento de texto (como remover ou tratar \"*não*\") ou usando métodos mais avançados.  \n",
        "- Apesar de simples, este BoW+MLP já consegue capturar padrões básicos: palavras positivas contribuem para aumentar a probabilidade de classe positiva e vice-versa para negativas, porque durante o treinamento os pesos da rede associam essas colunas (palavras) ao efeito no resultado.  \n"
      ],
      "metadata": {
        "id": "MpKFDwUMiAje"
      }
    },
    {
      "cell_type": "markdown",
      "source": [
        "## Word Embeddings + MLP"
      ],
      "metadata": {
        "id": "fib4N9iyiFBj"
      }
    },
    {
      "cell_type": "markdown",
      "source": [
        "Agora que entendemos e implementamos o modelo usando Bag-of-Words, vamos melhorar a representação do texto usando **Word Embeddings** (embeddings de palavras). Em vez de representarmos cada palavra como uma dimensão separada no vetor (como no BoW), vamos representar cada palavra por um vetor **denso** de características, aprendendo essas representações automaticamente durante o treinamento.  \n"
      ],
      "metadata": {
        "id": "kkDUnryBiHFK"
      }
    },
    {
      "cell_type": "markdown",
      "source": [
        "### Introdução a Word Embeddings"
      ],
      "metadata": {
        "id": "crPdb_CEiI1X"
      }
    },
    {
      "cell_type": "markdown",
      "source": [
        "**Word embeddings** são uma forma de representar palavras em um espaço vetorial de dimensionalidade reduzida (geralmente dezenas ou poucas centenas de dimensões), de tal forma que palavras com significados ou contextos semelhantes fiquem com vetores \"próximos\" uns dos outros nesse espaço.  \n",
        "\n",
        "Em vez de vetores esparsos enormes (como one-hot encoding ou BoW, onde \"excelente\" poderia ser `[0,0,...,1,...0]` com dimensão de milhares), um embedding aprende um vetor compacto, por exemplo, de dimensão 50 ou 100, onde cada elemento do vetor não é mais binário, mas sim um valor real que contribui para descrever algum aspecto do significado ou uso daquela palavra.  \n",
        "\n",
        "**Como funciona na prática?** No contexto de redes neurais, uma camada de embedding é essencialmente uma matriz de pesos que mapeia cada índice de palavra do vocabulário para um vetor denso. No começo do treino, esses vetores podem ser inicializados aleatoriamente. Durante o treinamento (por exemplo, de um modelo de classificação), a rede ajusta os valores desses vetores de forma que a representação das palavras ajude a resolver a tarefa final.  \n",
        "\n",
        "Benefícios dos embeddings sobre BoW:  \n",
        "\n",
        "- **Dimensionalidade menor:** Podemos escolher o tamanho do vetor de embedding (por exemplo, 50) independentemente do tamanho do vocabulário (que poderia ser 5000). Assim, cada palavra é representada por 50 números em vez de uma posição fixa em um vetor de 5000 dimensões. Isso reduz drasticamente a dimensionalidade da entrada do modelo e tende a diminuir a esparsidade.  \n",
        "- **Captura semântica:** Palavras que aparecem em contextos semelhantes terão vetores parecidos. Por exemplo, pode acontecer de o embedding de *\"excelente\"* ficar próximo do embedding de *\"ótimo\"*, porque ambas aparecem em contextos de elogio em várias resenhas. Assim, mesmo que uma palavra específica não apareça no conjunto de treino, o modelo pode generalizar melhor se palavras sinônimas apareceram.  \n",
        "- **Ordem e contexto local:** Embora a simples camada de embedding em si não capture a ordem global do texto (isso exigiria arquiteturas como redes recorrentes ou transformers), podemos, no mínimo, usar a sequência de embeddings para extrair informações. No nosso caso, faremos uma simplificação pegando uma média ou outra agregação dos embeddings das palavras do texto, mas poderíamos também ir além com modelos sequenciais. De qualquer forma, usar embeddings prepara o terreno para métodos mais avançados e já é um passo além do BoW.  \n",
        "\n",
        "Em resumo, os **embeddings aprendem representações distribuídas**: cada dimensão do vetor de embedding não representa uma palavra específica (ao contrário do BoW), mas captura alguma característica latente que pode ser compartilhada entre várias palavras.  "
      ],
      "metadata": {
        "id": "1BT1tNviiMc-"
      }
    },
    {
      "cell_type": "markdown",
      "source": [
        "### Implementação Word Embeddings + MLP"
      ],
      "metadata": {
        "id": "KlGxyDK1iOxD"
      }
    },
    {
      "cell_type": "markdown",
      "source": [
        "Vamos refazer o processo de classificação das resenhas, mas agora utilizando uma camada de embedding treinável.  "
      ],
      "metadata": {
        "id": "yIN5BWShiQMU"
      }
    },
    {
      "cell_type": "markdown",
      "source": [
        "#### **1. Tokenização e preparação das sequências:**  "
      ],
      "metadata": {
        "id": "N9snnqdxiSxp"
      }
    },
    {
      "cell_type": "markdown",
      "source": [
        "\n",
        "Para usar embeddings, precisamos primeiro converter cada texto em uma sequência de índices inteiros que representem as palavras. Ou seja, construiremos um vocabulário (como antes) mas em vez de uma matriz de contagens, vamos representar cada frase como uma sequência de números.  \n",
        "\n",
        "Podemos reutilizar o objeto `CountVectorizer`? Não diretamente para sequências. Em vez disso, usaremos a classe `Tokenizer` do Keras (ou `TextVectorization` do TensorFlow 2.x). O Tokenizer nos permite mapear cada palavra a um índice e também transformar textos em sequências de índices.  \n",
        "\n",
        "Vamos configurar um Tokenizer para considerar o mesmo tamanho de vocabulário (por exemplo, top 5000 palavras) e então gerar sequências:  "
      ],
      "metadata": {
        "id": "Z8aKbjLQiYyF"
      }
    },
    {
      "cell_type": "code",
      "source": [
        "# Definir um tokenizer para criar índices para as palavras (mesmo tamanho de vocabulário para comparação justa)\n",
        "max_words = 5000  # tamanho do vocabulário\n",
        "tokenizer = Tokenizer(num_words=max_words, oov_token=\"<OOV>\")\n",
        "# oov_token opcional para indicar token \"Out-Of-Vocabulary\" caso palavras fora dos 5000 apareçam\n",
        "\n",
        "# Treinar o tokenizer nos textos de treino (ajusta o vocabulário)\n",
        "tokenizer.fit_on_texts(texts)\n",
        "\n",
        "# Converter textos em sequências de índices\n",
        "sequences = tokenizer.texts_to_sequences(texts)\n",
        "\n",
        "print(\"Exemplo de sequência (antes do padding):\", sequences[0][:10])  # primeiros 10 tokens do primeiro texto"
      ],
      "metadata": {
        "id": "4kceViiJibFu",
        "colab": {
          "base_uri": "https://localhost:8080/"
        },
        "outputId": "7b2341c0-f9c2-48f4-b0a1-da7236338ee3"
      },
      "execution_count": 7,
      "outputs": [
        {
          "output_type": "stream",
          "name": "stdout",
          "text": [
            "Exemplo de sequência (antes do padding): [25, 12, 75, 5, 568, 1, 1, 7, 9, 21]\n"
          ]
        }
      ]
    },
    {
      "cell_type": "markdown",
      "source": [
        "Cada sequência agora é uma lista de números inteiros, onde cada inteiro corresponde a uma palavra específica do vocabulário. Porém, essas sequências têm comprimentos variáveis (uma resenha pode ter 100 palavras, outra 200, etc.). Redes neurais esperam entradas de tamanho fixo, então precisamos **padronizar** o comprimento das sequências.  \n",
        "\n",
        "Uma técnica comum é **padding**, ou seja, preenchimento: definimos um tamanho máximo de sequência e preenchemos com zeros (ou truncamos) as sequências para todas ficarem com o mesmo comprimento.  \n",
        "\n",
        "Vamos definir um `maxlen` (por exemplo, talvez 100 ou 200 palavras por resenha, dependendo da distribuição do tamanho das resenhas. Para segurança, podemos pegar algo como 100 palavras para não estourar memória).  \n"
      ],
      "metadata": {
        "id": "zWiW5abmib5O"
      }
    },
    {
      "cell_type": "code",
      "source": [
        "# Definir um tamanho máximo para as sequências (número máximo de palavras consideradas de cada texto)\n",
        "maxlen = 100  # ajustável; aqui cada texto será representado pelos primeiros 100 tokens (ou completado com pad se tiver menos)\n",
        "\n",
        "# Aplicar padding nas sequências para que todas tenham comprimento maxlen\n",
        "X_seq = pad_sequences(sequences, maxlen=maxlen, padding='post', truncating='post')\n",
        "\n",
        "print(\"Formato da matriz de sequências com padding:\", X_seq.shape)\n",
        "print(\"Sequência de exemplo (apos padding):\", X_seq[0])"
      ],
      "metadata": {
        "id": "_SLs1MhlifhL",
        "colab": {
          "base_uri": "https://localhost:8080/"
        },
        "outputId": "07df2a21-3eab-4665-ad27-abb98f867372"
      },
      "execution_count": 10,
      "outputs": [
        {
          "output_type": "stream",
          "name": "stdout",
          "text": [
            "Formato da matriz de sequências com padding: (49459, 100)\n",
            "Sequência de exemplo (apos padding): [  25   12   75    5  568    1    1    7    9   21   27   25   71   15\n",
            "    3    5 1376  156   69 1006 1516    2 3299   22 1700   69  666   56\n",
            "   27 1245   14  171   10   55    1   16  206   34   79    6  205    2\n",
            "  174   46 2090   22 4447    4    5  109    1    8 3849  599   22  370\n",
            "    4   77 2040   80   27   25  398   43   14   10   55 3107    5  109\n",
            "   16    5  268    1   84 1796    8   27 2649    4    1    1    1    5\n",
            "  361    8    3   23  868   18    7  603    3 1541    3    8   65   15\n",
            "    3   73]\n"
          ]
        }
      ]
    },
    {
      "cell_type": "markdown",
      "source": [
        "Agora `X_seq` é uma matriz de shape `(n_amostras, maxlen)`, onde cada linha é a sequência de índices de palavras de um texto, com zeros no fim se o texto original tinha menos que `maxlen` palavras (ou truncado se tinha mais).  \n",
        "\n",
        "**2. Dividir em treino e teste (novamente):**  \n",
        "\n",
        "Precisamos dividir também essas sequências em treino e teste, de forma consistente com o que fizemos antes. (Se quisermos comparar resultados, é bom que a divisão de treino/teste seja a mesma da parte 1; para isso, podemos usar o mesmo `train_test_split` passando os mesmos índices, ou simplesmente dividir `X_seq` e `labels` novamente com o mesmo random_state.)  \n"
      ],
      "metadata": {
        "id": "SyHHiDXiikk5"
      }
    },
    {
      "cell_type": "code",
      "source": [
        "X_train_seq, X_test_seq, y_train_seq, y_test_seq = train_test_split(\n",
        "    X_seq, labels, test_size=0.2, random_state=42)\n",
        "\n",
        "print(\"Treino seq shape:\", X_train_seq.shape, \"Teste seq shape:\", X_test_seq.shape)"
      ],
      "metadata": {
        "id": "3agpvqZuilMZ",
        "colab": {
          "base_uri": "https://localhost:8080/"
        },
        "outputId": "2615fa64-e02d-4673-cd61-12829fe2d28e"
      },
      "execution_count": 11,
      "outputs": [
        {
          "output_type": "stream",
          "name": "stdout",
          "text": [
            "Treino seq shape: (39567, 100) Teste seq shape: (9892, 100)\n"
          ]
        }
      ]
    },
    {
      "cell_type": "markdown",
      "source": [
        "#### **3. Definir o modelo com camada de Embedding:**"
      ],
      "metadata": {
        "id": "QE64ZeRyiotb"
      }
    },
    {
      "cell_type": "markdown",
      "source": [
        "Agora vem a diferença crucial: na entrada da rede, em vez de receber um vetor de contagens de tamanho fixo para cada texto, vamos passar a sequência de índices para uma **Embedding Layer**. Essa camada atuará como uma tabela de look-up que mapeia cada índice de palavra para um vetor denso (que será treinado).  \n",
        "\n",
        "Configurações para a camada de embedding:  \n",
        "- `input_dim = max_words` (tamanho do vocabulário, ou seja, índice máximo + 1).  \n",
        "- `output_dim = dimensão do embedding` (é um hiperparâmetro; podemos escolher, por exemplo, 50 ou 100). Dimensões típicas variam de 50 a 300; vamos usar 50 para ser leve.  \n",
        "- `input_length = maxlen` (o comprimento das sequências que estamos passando).  \n",
        "\n",
        "Depois da camada de embedding, obteremos uma saída de tamanho `(batch_size, maxlen, output_dim)` – essencialmente uma matriz de embeddings para cada palavra da sequência. Precisamos então combinar essas informações para passá-las à parte densa do MLP. Existem algumas estratégias simples que podemos usar sem complicar muito (já que não estamos implementando RNN ou Transformer aqui):  \n",
        "\n",
        "- **Usar uma camada de Pooling (GlobalAveragePooling1D ou GlobalMaxPooling1D):** Isso reduzirá a sequência de embeddings a um único vetor fixo, agregando as informações de cada palavra. Por exemplo, o GlobalAveragePooling1D faz a média vetor elemento a elemento de todos os embeddings da sequência, resultando em um vetor de mesma dimensão do embedding. Essa média representa aproximadamente o \"significado médio\" das palavras do texto. O GlobalMaxPooling1D pegaria o valor máximo em cada dimensão dentre todas as palavras (capturando talvez o aspecto mais forte presente).  \n",
        "- **Ou achatar (Flatten) a sequência de embeddings:** concatenando todos os embeddings em um vetor gigantesco de tamanho `maxlen * output_dim`. Porém, isso pode gerar um vetor muito grande (no nosso caso seria 100 * 50 = 5000, coincidentemente igual ao BoW de 5000 palavras). Flatten perde a invariância de posição (a rede teria que aprender quais posições do flatten importam, o que é como aprender ordem, o que seria mais complexo). Para simplificar, preferiremos um pooling global, que é eficaz e mantém o número de features baixo.  \n",
        "\n",
        "Vamos então montar o modelo:  "
      ],
      "metadata": {
        "id": "bm5UxDN7ipo6"
      }
    },
    {
      "cell_type": "code",
      "source": [
        "embedding_dim = 50\n",
        "\n",
        "model_emb = Sequential()\n",
        "model_emb.add(Embedding(input_dim=max_words, output_dim=embedding_dim, input_length=maxlen))\n",
        "model_emb.add(GlobalAveragePooling1D())\n",
        "model_emb.add(Dense(16, activation='relu'))\n",
        "model_emb.add(Dense(1, activation='sigmoid'))\n",
        "\n",
        "model_emb.compile(optimizer='adam', loss='binary_crossentropy', metrics=['accuracy'])\n",
        "model_emb.summary()"
      ],
      "metadata": {
        "id": "MaVeQaAsirsk",
        "colab": {
          "base_uri": "https://localhost:8080/",
          "height": 313
        },
        "outputId": "99233731-f011-482a-8e6f-75548de0ca7a"
      },
      "execution_count": 13,
      "outputs": [
        {
          "output_type": "stream",
          "name": "stderr",
          "text": [
            "/usr/local/lib/python3.11/dist-packages/keras/src/layers/core/embedding.py:90: UserWarning: Argument `input_length` is deprecated. Just remove it.\n",
            "  warnings.warn(\n"
          ]
        },
        {
          "output_type": "display_data",
          "data": {
            "text/plain": [
              "\u001b[1mModel: \"sequential_2\"\u001b[0m\n"
            ],
            "text/html": [
              "<pre style=\"white-space:pre;overflow-x:auto;line-height:normal;font-family:Menlo,'DejaVu Sans Mono',consolas,'Courier New',monospace\"><span style=\"font-weight: bold\">Model: \"sequential_2\"</span>\n",
              "</pre>\n"
            ]
          },
          "metadata": {}
        },
        {
          "output_type": "display_data",
          "data": {
            "text/plain": [
              "┏━━━━━━━━━━━━━━━━━━━━━━━━━━━━━━━━━━━━━━┳━━━━━━━━━━━━━━━━━━━━━━━━━━━━━┳━━━━━━━━━━━━━━━━━┓\n",
              "┃\u001b[1m \u001b[0m\u001b[1mLayer (type)                        \u001b[0m\u001b[1m \u001b[0m┃\u001b[1m \u001b[0m\u001b[1mOutput Shape               \u001b[0m\u001b[1m \u001b[0m┃\u001b[1m \u001b[0m\u001b[1m        Param #\u001b[0m\u001b[1m \u001b[0m┃\n",
              "┡━━━━━━━━━━━━━━━━━━━━━━━━━━━━━━━━━━━━━━╇━━━━━━━━━━━━━━━━━━━━━━━━━━━━━╇━━━━━━━━━━━━━━━━━┩\n",
              "│ embedding_1 (\u001b[38;5;33mEmbedding\u001b[0m)              │ ?                           │     \u001b[38;5;34m0\u001b[0m (unbuilt) │\n",
              "├──────────────────────────────────────┼─────────────────────────────┼─────────────────┤\n",
              "│ global_average_pooling1d             │ ?                           │               \u001b[38;5;34m0\u001b[0m │\n",
              "│ (\u001b[38;5;33mGlobalAveragePooling1D\u001b[0m)             │                             │                 │\n",
              "├──────────────────────────────────────┼─────────────────────────────┼─────────────────┤\n",
              "│ dense (\u001b[38;5;33mDense\u001b[0m)                        │ ?                           │     \u001b[38;5;34m0\u001b[0m (unbuilt) │\n",
              "├──────────────────────────────────────┼─────────────────────────────┼─────────────────┤\n",
              "│ dense_1 (\u001b[38;5;33mDense\u001b[0m)                      │ ?                           │     \u001b[38;5;34m0\u001b[0m (unbuilt) │\n",
              "└──────────────────────────────────────┴─────────────────────────────┴─────────────────┘\n"
            ],
            "text/html": [
              "<pre style=\"white-space:pre;overflow-x:auto;line-height:normal;font-family:Menlo,'DejaVu Sans Mono',consolas,'Courier New',monospace\">┏━━━━━━━━━━━━━━━━━━━━━━━━━━━━━━━━━━━━━━┳━━━━━━━━━━━━━━━━━━━━━━━━━━━━━┳━━━━━━━━━━━━━━━━━┓\n",
              "┃<span style=\"font-weight: bold\"> Layer (type)                         </span>┃<span style=\"font-weight: bold\"> Output Shape                </span>┃<span style=\"font-weight: bold\">         Param # </span>┃\n",
              "┡━━━━━━━━━━━━━━━━━━━━━━━━━━━━━━━━━━━━━━╇━━━━━━━━━━━━━━━━━━━━━━━━━━━━━╇━━━━━━━━━━━━━━━━━┩\n",
              "│ embedding_1 (<span style=\"color: #0087ff; text-decoration-color: #0087ff\">Embedding</span>)              │ ?                           │     <span style=\"color: #00af00; text-decoration-color: #00af00\">0</span> (unbuilt) │\n",
              "├──────────────────────────────────────┼─────────────────────────────┼─────────────────┤\n",
              "│ global_average_pooling1d             │ ?                           │               <span style=\"color: #00af00; text-decoration-color: #00af00\">0</span> │\n",
              "│ (<span style=\"color: #0087ff; text-decoration-color: #0087ff\">GlobalAveragePooling1D</span>)             │                             │                 │\n",
              "├──────────────────────────────────────┼─────────────────────────────┼─────────────────┤\n",
              "│ dense (<span style=\"color: #0087ff; text-decoration-color: #0087ff\">Dense</span>)                        │ ?                           │     <span style=\"color: #00af00; text-decoration-color: #00af00\">0</span> (unbuilt) │\n",
              "├──────────────────────────────────────┼─────────────────────────────┼─────────────────┤\n",
              "│ dense_1 (<span style=\"color: #0087ff; text-decoration-color: #0087ff\">Dense</span>)                      │ ?                           │     <span style=\"color: #00af00; text-decoration-color: #00af00\">0</span> (unbuilt) │\n",
              "└──────────────────────────────────────┴─────────────────────────────┴─────────────────┘\n",
              "</pre>\n"
            ]
          },
          "metadata": {}
        },
        {
          "output_type": "display_data",
          "data": {
            "text/plain": [
              "\u001b[1m Total params: \u001b[0m\u001b[38;5;34m0\u001b[0m (0.00 B)\n"
            ],
            "text/html": [
              "<pre style=\"white-space:pre;overflow-x:auto;line-height:normal;font-family:Menlo,'DejaVu Sans Mono',consolas,'Courier New',monospace\"><span style=\"font-weight: bold\"> Total params: </span><span style=\"color: #00af00; text-decoration-color: #00af00\">0</span> (0.00 B)\n",
              "</pre>\n"
            ]
          },
          "metadata": {}
        },
        {
          "output_type": "display_data",
          "data": {
            "text/plain": [
              "\u001b[1m Trainable params: \u001b[0m\u001b[38;5;34m0\u001b[0m (0.00 B)\n"
            ],
            "text/html": [
              "<pre style=\"white-space:pre;overflow-x:auto;line-height:normal;font-family:Menlo,'DejaVu Sans Mono',consolas,'Courier New',monospace\"><span style=\"font-weight: bold\"> Trainable params: </span><span style=\"color: #00af00; text-decoration-color: #00af00\">0</span> (0.00 B)\n",
              "</pre>\n"
            ]
          },
          "metadata": {}
        },
        {
          "output_type": "display_data",
          "data": {
            "text/plain": [
              "\u001b[1m Non-trainable params: \u001b[0m\u001b[38;5;34m0\u001b[0m (0.00 B)\n"
            ],
            "text/html": [
              "<pre style=\"white-space:pre;overflow-x:auto;line-height:normal;font-family:Menlo,'DejaVu Sans Mono',consolas,'Courier New',monospace\"><span style=\"font-weight: bold\"> Non-trainable params: </span><span style=\"color: #00af00; text-decoration-color: #00af00\">0</span> (0.00 B)\n",
              "</pre>\n"
            ]
          },
          "metadata": {}
        }
      ]
    },
    {
      "cell_type": "markdown",
      "source": [
        "Vamos explicar a arquitetura:  \n",
        "- A primeira camada `Embedding` transforma a sequência de 100 índices em uma sequência de 100 vetores de dimensão 50. (Parâmetros: `input_dim=5000`, `output_dim=50`, `input_length=100`.)  \n",
        "- `GlobalAveragePooling1D` toma a média dos 100 vetores de dimensão 50, resultando em **um vetor de dimensão 50** que é a entrada para a próxima camada. (Assim, reduzimos a sequência de embeddings a uma única representação fixa do texto.)  \n",
        "- Depois vem uma camada densa oculta com 16 neurônios (e ReLU), igual à usada no modelo anterior.  \n",
        "- Camada de saída sigmoide para prever positivo/negativo.  \n",
        "\n",
        "O número total de parâmetros na camada de embedding é `input_dim * output_dim` (5000 * 50 = 250k parâmetros), o que pode parecer muito, mas note que muitos deles podem não ser atualizados muito se algumas palavras não aparecerem. Ainda assim, 250k é manejável. A vantagem é que esses parâmetros **substituem** a necessidade de ter 5000 entradas distintas no vetor de input – aqui, 50 números *aprendidos* acabam codificando informações das 5000 palavras de forma distribuída.  "
      ],
      "metadata": {
        "id": "nCfGNrRHivg3"
      }
    },
    {
      "cell_type": "markdown",
      "source": [
        "#### **4. Treinar o modelo de Embedding:**  "
      ],
      "metadata": {
        "id": "QrQFjbc6ixHr"
      }
    },
    {
      "cell_type": "markdown",
      "source": [
        "Agora vamos treinar este modelo da mesma forma que antes.  "
      ],
      "metadata": {
        "id": "uv881VpQiyHA"
      }
    },
    {
      "cell_type": "code",
      "source": [
        "print(X_train_seq, X_train_seq.shape)\n",
        "print(y_train_seq, y_train_seq.shape)"
      ],
      "metadata": {
        "id": "9MkLXGPzjHVx",
        "colab": {
          "base_uri": "https://localhost:8080/"
        },
        "outputId": "14c92dd2-3a23-462e-9e6e-5201c9a17e14"
      },
      "execution_count": 14,
      "outputs": [
        {
          "output_type": "stream",
          "name": "stdout",
          "text": [
            "[[  28    9    8 ...    0    0    0]\n",
            " [  19    1 1864 ...  455  300  160]\n",
            " [ 817   96    3 ...    0    0    0]\n",
            " ...\n",
            " [  65  166  218 ...  118   70   37]\n",
            " [  14    1  229 ...   16    5 1072]\n",
            " [ 844  213 2773 ...  169  320 1404]] (39567, 100)\n",
            "[0 0 0 ... 1 0 1] (39567,)\n"
          ]
        }
      ]
    },
    {
      "cell_type": "code",
      "source": [
        "history_emb = model_emb.fit(X_train_seq,\n",
        "                            y_train_seq,\n",
        "                            epochs=10,\n",
        "                            batch_size=32,\n",
        "                            validation_data=(X_test_seq, y_test_seq))"
      ],
      "metadata": {
        "id": "qoUbe_6Ti0hW",
        "colab": {
          "base_uri": "https://localhost:8080/"
        },
        "outputId": "8d7c3f9a-4e0b-4467-954f-c7c642cbaeed"
      },
      "execution_count": 15,
      "outputs": [
        {
          "output_type": "stream",
          "name": "stdout",
          "text": [
            "Epoch 1/10\n",
            "\u001b[1m1237/1237\u001b[0m \u001b[32m━━━━━━━━━━━━━━━━━━━━\u001b[0m\u001b[37m\u001b[0m \u001b[1m8s\u001b[0m 4ms/step - accuracy: 0.6870 - loss: 0.5718 - val_accuracy: 0.8161 - val_loss: 0.4025\n",
            "Epoch 2/10\n",
            "\u001b[1m1237/1237\u001b[0m \u001b[32m━━━━━━━━━━━━━━━━━━━━\u001b[0m\u001b[37m\u001b[0m \u001b[1m4s\u001b[0m 3ms/step - accuracy: 0.8440 - loss: 0.3558 - val_accuracy: 0.8201 - val_loss: 0.3998\n",
            "Epoch 3/10\n",
            "\u001b[1m1237/1237\u001b[0m \u001b[32m━━━━━━━━━━━━━━━━━━━━\u001b[0m\u001b[37m\u001b[0m \u001b[1m4s\u001b[0m 4ms/step - accuracy: 0.8549 - loss: 0.3297 - val_accuracy: 0.8215 - val_loss: 0.4069\n",
            "Epoch 4/10\n",
            "\u001b[1m1237/1237\u001b[0m \u001b[32m━━━━━━━━━━━━━━━━━━━━\u001b[0m\u001b[37m\u001b[0m \u001b[1m3s\u001b[0m 3ms/step - accuracy: 0.8654 - loss: 0.3165 - val_accuracy: 0.8116 - val_loss: 0.4265\n",
            "Epoch 5/10\n",
            "\u001b[1m1237/1237\u001b[0m \u001b[32m━━━━━━━━━━━━━━━━━━━━\u001b[0m\u001b[37m\u001b[0m \u001b[1m3s\u001b[0m 3ms/step - accuracy: 0.8644 - loss: 0.3103 - val_accuracy: 0.8192 - val_loss: 0.4143\n",
            "Epoch 6/10\n",
            "\u001b[1m1237/1237\u001b[0m \u001b[32m━━━━━━━━━━━━━━━━━━━━\u001b[0m\u001b[37m\u001b[0m \u001b[1m4s\u001b[0m 3ms/step - accuracy: 0.8674 - loss: 0.3086 - val_accuracy: 0.8175 - val_loss: 0.4164\n",
            "Epoch 7/10\n",
            "\u001b[1m1237/1237\u001b[0m \u001b[32m━━━━━━━━━━━━━━━━━━━━\u001b[0m\u001b[37m\u001b[0m \u001b[1m4s\u001b[0m 3ms/step - accuracy: 0.8684 - loss: 0.3092 - val_accuracy: 0.8126 - val_loss: 0.4228\n",
            "Epoch 8/10\n",
            "\u001b[1m1237/1237\u001b[0m \u001b[32m━━━━━━━━━━━━━━━━━━━━\u001b[0m\u001b[37m\u001b[0m \u001b[1m3s\u001b[0m 3ms/step - accuracy: 0.8682 - loss: 0.3040 - val_accuracy: 0.8161 - val_loss: 0.4243\n",
            "Epoch 9/10\n",
            "\u001b[1m1237/1237\u001b[0m \u001b[32m━━━━━━━━━━━━━━━━━━━━\u001b[0m\u001b[37m\u001b[0m \u001b[1m3s\u001b[0m 3ms/step - accuracy: 0.8706 - loss: 0.3038 - val_accuracy: 0.8139 - val_loss: 0.4301\n",
            "Epoch 10/10\n",
            "\u001b[1m1237/1237\u001b[0m \u001b[32m━━━━━━━━━━━━━━━━━━━━\u001b[0m\u001b[37m\u001b[0m \u001b[1m5s\u001b[0m 3ms/step - accuracy: 0.8754 - loss: 0.2928 - val_accuracy: 0.8126 - val_loss: 0.4318\n"
          ]
        }
      ]
    },
    {
      "cell_type": "markdown",
      "source": [
        "Note que agora passamos diretamente `X_train_seq` (que é uma matriz de inteiros) ao modelo – a primeira camada do modelo (Embedding) cuidará de converter inteiros em vetores automaticamente durante o treinamento. Não precisamos transformar nada manualmente além do padding feito anteriormente.  \n",
        "\n",
        "Após o treinamento, avaliamos o modelo no conjunto de teste:"
      ],
      "metadata": {
        "id": "ICzzQJsSi2Kc"
      }
    },
    {
      "cell_type": "code",
      "source": [
        "loss_emb, acc_emb = model_emb.evaluate(X_test_seq, y_test_seq, verbose=0)\n",
        "print(f\"Acurácia no conjunto de teste (Embeddings + MLP): {acc_emb:.4f}\")\n"
      ],
      "metadata": {
        "id": "24exAHg6jFTM",
        "colab": {
          "base_uri": "https://localhost:8080/"
        },
        "outputId": "f5acb269-7c89-4c8f-efb7-2cbb7af51a56"
      },
      "execution_count": 16,
      "outputs": [
        {
          "output_type": "stream",
          "name": "stdout",
          "text": [
            "Acurácia no conjunto de teste (Embeddings + MLP): 0.8126\n"
          ]
        }
      ]
    },
    {
      "cell_type": "markdown",
      "source": [
        "Vamos também comparar as performances:  "
      ],
      "metadata": {
        "id": "vpByUtzljdrd"
      }
    },
    {
      "cell_type": "code",
      "source": [
        "print(f\"Acurácia BoW: {acc_bow:.4f} vs Acurácia Embedding: {acc_emb:.4f}\")"
      ],
      "metadata": {
        "id": "xjCQ19DAjfPU",
        "colab": {
          "base_uri": "https://localhost:8080/"
        },
        "outputId": "807c80fa-c697-4199-cd1d-b935fc531983"
      },
      "execution_count": 26,
      "outputs": [
        {
          "output_type": "stream",
          "name": "stdout",
          "text": [
            "Acurácia BoW: 0.4907 vs Acurácia Embedding: 0.8126\n"
          ]
        }
      ]
    },
    {
      "cell_type": "markdown",
      "source": [
        "E verificar novamente algumas previsões para ver se batem com as expectativas:  "
      ],
      "metadata": {
        "id": "p7LNZl32jhnE"
      }
    },
    {
      "cell_type": "code",
      "source": [
        "pred_probs_emb = model_emb.predict(X_test_seq[:5])\n",
        "pred_classes_emb = (pred_probs_emb > 0.5).astype(int)\n",
        "\n",
        "print(\"Classes previstas (BoW)     :\", pred_classes[:,0])\n",
        "print(\"Classes previstas (Embedd.):\", pred_classes_emb[:,0])\n",
        "print(\"Classes verdadeiras         :\", y_test_seq[:5])"
      ],
      "metadata": {
        "id": "bfKBjRfhjjUa",
        "colab": {
          "base_uri": "https://localhost:8080/"
        },
        "outputId": "16c97f77-9746-4b79-8cf0-d703c8280e28"
      },
      "execution_count": 27,
      "outputs": [
        {
          "output_type": "stream",
          "name": "stdout",
          "text": [
            "\u001b[1m1/1\u001b[0m \u001b[32m━━━━━━━━━━━━━━━━━━━━\u001b[0m\u001b[37m\u001b[0m \u001b[1m0s\u001b[0m 232ms/step\n",
            "Classes previstas (BoW)     : [1 1 1 1 1]\n",
            "Classes previstas (Embedd.): [0 0 0 0 1]\n",
            "Classes verdadeiras         : [1 0 1 0 1]\n"
          ]
        }
      ]
    },
    {
      "cell_type": "markdown",
      "source": [
        "#### **5. Análise dos Resultados e Comparação:**"
      ],
      "metadata": {
        "id": "v16jsGH5jlWm"
      }
    },
    {
      "cell_type": "markdown",
      "source": [
        "Agora temos dois modelos treinados em exatamente a mesma tarefa, mas usando representações de texto diferentes. Compare os seguintes aspectos:  \n",
        "\n",
        "- **Acurácia (ou outra métrica de desempenho):** Qual modelo performou melhor no conjunto de teste? O uso de embeddings melhorou a performance? Em muitos casos, o modelo com embeddings pode ter performance igual ou superior ao BoW, especialmente se o dataset de treinamento for razoavelmente grande, pois o modelo consegue generalizar melhor para combinações de palavras que não viu explicitamente juntas no treino.  \n",
        "- **Tamanho das entradas e eficiência:** O modelo BoW tinha entrada de dimensão 5000 para cada texto. Já o modelo com embedding lida internamente com vetores de tamanho 50 (depois da média). Isso significa que o modelo com embedding tem bem menos neurônios na primeira camada densa efetiva (50->16 vs 5000->16), potencialmente necessitando de menos dados para treinar eficientemente. De fato, a primeira camada do modelo BoW (Dense com input 5000 e 16 neurônios) tinha 5000*16 = 80 mil pesos só aí, enquanto no modelo com embedding, a camada densa tem apenas 50*16 = 800 pesos (mas lembre que a camada de embedding tem 250k, então no total o modelo com embedding tem mais parâmetros distribuídos de forma diferente).  \n",
        "- **Capacidade de generalização:** Tente pensar em exemplos de frases que não estavam no conjunto de treino. Qual modelo teria mais chance de classificá-las corretamente? Provavelmente o modelo com embeddings, pois ele pode inferir pelo significado das palavras. Por exemplo, se nunca viu a palavra \"fantástico\" durante o treino mas viu \"excelente\" e \"maravilhoso\", o modelo com embedding pode ter posicionado \"fantástico\" próximo dessas outras palavras no espaço vetorial (talvez via inicialização ou por aparecer no texto de alguma forma), enquanto o BoW trataria \"fantástico\" como completamente nova (só zeros e um 1 numa nova coluna).  \n",
        "\n",
        "**Limitações dos Embeddings Simples:** É válido notar que, embora os embeddings melhorem a representação de palavras, o nosso modelo ainda é relativamente simples em termos de capturar contexto da frase. Usamos uma média dos embeddings, o que perde informação sobre ordem. Por exemplo, \"*não gostei*\" e \"*gostei muito*\" podem acabar com médias semelhantes de embeddings, confundindo o modelo. Técnicas mais avançadas, como redes recorrentes (RNN/LSTM), CNNs 1D ou Transformers (como BERT), são capazes de olhar a sequência de palavras inteira e aprender dependências mais complexas. Entretanto, essas técnicas têm custo computacional maior e fogem do escopo deste laboratório.  \n",
        "\n",
        "Para um começo, entender BoW vs Embedding já fornece uma ótima base: você viu na prática a diferença entre **contar palavras isoladas** e **aprender representações das palavras**.  \n"
      ],
      "metadata": {
        "id": "SK6BYFaSjmxN"
      }
    },
    {
      "cell_type": "markdown",
      "source": [
        "### Recapitulando"
      ],
      "metadata": {
        "id": "SsnE1YefjpXR"
      }
    },
    {
      "cell_type": "markdown",
      "source": [
        "- **Bag-of-Words:** representação esparsa de alta dimensão, simples de obter, mas limitada por não capturar contexto ou similaridades semânticas entre palavras.  \n",
        "- **Word Embedding:** representação densa de baixa dimensão, que carrega relações semânticas (palavras semelhantes têm representações próximas). Necessita aprender os vetores de embedding, mas resulta em um modelo potencialmente mais generalizável.  \n",
        "\n",
        "Ambos os modelos que treinamos eram um **MLP** similar, a principal diferença foi na entrada (representação do texto). Ao comparar, devemos observar que *qualidade da representação de dados* muitas vezes é tão importante quanto o *modelo em si* em tarefas de aprendizado de máquina.  \n",
        "\n",
        "A **visualização de embeddings** é uma maneira poderosa de compreender como as palavras estão dispostas em um espaço vetorial depois do treinamento. A ideia é: após o modelo aprender (ou inicializar) os embeddings, pegamos os vetores de algumas palavras e projetamos esses vetores para 2D, de modo a gerar um gráfico que mostre a proximidade (ou distância) entre as palavras escolhidas.\n",
        "\n",
        "---"
      ],
      "metadata": {
        "id": "zZPJrR77js8W"
      }
    },
    {
      "cell_type": "markdown",
      "source": [
        "## Visualizando as representações das palavras no espaço"
      ],
      "metadata": {
        "id": "1aEcFVHhj3XB"
      }
    },
    {
      "cell_type": "markdown",
      "source": [
        "Após o treinamento de sua rede com camada de embedding, escolha de 5 a 10 palavras do vocabulário (preferencialmente palavras que você considere interessantes ou relevantes para o domínio do dataset). Em seguida, extraia os vetores de embedding dessas palavras e aplique um método de redução de dimensionalidade (por exemplo, *PCA* ou *t-SNE*) para projetar esses vetores em 2D.  \n",
        "\n",
        "1. Faça um *scatter plot* (diagrama de dispersão) desses pontos em 2D usando, por exemplo, o `matplotlib`.  \n",
        "2. Rotule cada ponto com a palavra correspondente.  \n",
        "3. Comente se, de acordo com sua intuição sobre essas palavras, o embedding conseguiu ou não agrupar palavras semelhantes.\n",
        "\n",
        "*Dica:* Escolha palavras que apareçam com frequência suficiente no seu dataset para que o modelo possa ter **aprendido** algo sobre elas (palavras raras podem não ter sido bem ajustadas)."
      ],
      "metadata": {
        "id": "zzvwKsQLj7gJ"
      }
    },
    {
      "cell_type": "markdown",
      "source": [
        "### Roteiro para visualização das palavras"
      ],
      "metadata": {
        "id": "TZdyPtHykDeN"
      }
    },
    {
      "cell_type": "markdown",
      "source": [
        "\n",
        "\n",
        "Abaixo segue um roteiro simplificado para visualizar as plavras. Suponha que você já tenha:\n",
        "\n",
        "1. Um modelo `model_emb` com uma camada Embedding (treinada ou pelo menos inicializada).  \n",
        "2. Um `tokenizer` que mapeia cada palavra para um índice.  \n",
        "3. Uma lista de palavras que deseja visualizar.\n"
      ],
      "metadata": {
        "id": "weuX4fg7kCcC"
      }
    },
    {
      "cell_type": "markdown",
      "source": [
        "### **1. Extraindo vetores de embedding do modelo**"
      ],
      "metadata": {
        "id": "-oaDqWhQkJHt"
      }
    },
    {
      "cell_type": "markdown",
      "source": [
        "Primeiro, precisamos recuperar a matriz de pesos da camada de embedding que foi treinada. Essa camada geralmente é a primeira do modelo, algo como:"
      ],
      "metadata": {
        "id": "HttmGFNWkLm3"
      }
    },
    {
      "cell_type": "code",
      "source": [
        "embedding_layer = model_emb.layers[0]  # se a camada de Embedding for a primeira\n",
        "embedding_weights = embedding_layer.get_weights()[0]"
      ],
      "metadata": {
        "id": "ykHBQOVvjmTl"
      },
      "execution_count": 28,
      "outputs": []
    },
    {
      "cell_type": "markdown",
      "source": [
        "- `embedding_weights` terá o formato `(vocab_size, embedding_dim)`.  \n",
        "- Cada linha `i` desse array corresponde ao vetor de embedding da palavra cujo índice é `i`."
      ],
      "metadata": {
        "id": "EAxs-H_gkQVZ"
      }
    },
    {
      "cell_type": "markdown",
      "source": [
        "### **2. Definindo as palavras de interesse**"
      ],
      "metadata": {
        "id": "smiWUkItkS4b"
      }
    },
    {
      "cell_type": "markdown",
      "source": [
        "Escolha manualmente algumas palavras que você sabe que estão presentes no vocabulário. Por exemplo, se você treina um classificador de resenhas de filmes, talvez escolha palavras como *\"filme\"*, *\"excelente\"*, *\"horrível\"*, *\"engraçado\"*, *\"ótimo\"*, *\"maravilhoso\"*, *\"medíocre\"* etc.\n",
        "\n",
        "Você pode verificar se elas estão no vocabulário do `tokenizer`:\n"
      ],
      "metadata": {
        "id": "Zo2VT52CkV3s"
      }
    },
    {
      "cell_type": "code",
      "source": [
        "chosen_words = [\"filme\", \"excelente\", \"horrível\", \"engraçado\", \"ótimo\", \"ruim\", \"bom\", \"adorei\"]"
      ],
      "metadata": {
        "id": "1TsIlIxGkYAh"
      },
      "execution_count": 29,
      "outputs": []
    },
    {
      "cell_type": "markdown",
      "source": [
        "**Observação**: Se alguma palavra não estiver no vocabulário ou estiver fora do `num_words` definido no `Tokenizer`, ela poderá ser mapeada para o *OOV token* (`<OOV>`). Para evitar problemas, vamos verificar o índice de cada palavra:"
      ],
      "metadata": {
        "id": "UtGT9qd0kZir"
      }
    },
    {
      "cell_type": "code",
      "source": [
        "word_index = tokenizer.word_index  # dicionário {palavra -> índice}\n",
        "# Se você definiu 'num_words=5000', alguns índices acima desse valor não são usados.\n",
        "# Precisamos nos certificar de pegar somente índices < max_words.\n",
        "\n",
        "valid_chosen_words = []\n",
        "for w in chosen_words:\n",
        "    if w in word_index and word_index[w] < embedding_weights.shape[0]:\n",
        "        valid_chosen_words.append(w)\n",
        "\n",
        "print(\"Palavras válidas no vocabulário:\", valid_chosen_words)"
      ],
      "metadata": {
        "id": "9RmpbT7Ikdnv",
        "colab": {
          "base_uri": "https://localhost:8080/"
        },
        "outputId": "d8c81438-0161-45d6-80fa-036125f9eb8b"
      },
      "execution_count": 30,
      "outputs": [
        {
          "output_type": "stream",
          "name": "stdout",
          "text": [
            "Palavras válidas no vocabulário: ['filme', 'excelente', 'horrível', 'engraçado', 'ótimo', 'ruim', 'bom', 'adorei']\n"
          ]
        }
      ]
    },
    {
      "cell_type": "markdown",
      "source": [
        "`valid_chosen_words` conterá só as palavras que realmente têm embedding aprendido.  "
      ],
      "metadata": {
        "id": "2Pl-0jeIkhC2"
      }
    },
    {
      "cell_type": "markdown",
      "source": [
        "### **3. Recuperar os vetores de embedding dessas palavras**"
      ],
      "metadata": {
        "id": "TaSYWiNNkg8z"
      }
    },
    {
      "cell_type": "markdown",
      "source": [
        "Para cada palavra válida, pegue seu índice e extraia o vetor de embedding:"
      ],
      "metadata": {
        "id": "y94_HcZcklJg"
      }
    },
    {
      "cell_type": "code",
      "source": [
        "vectors = []\n",
        "labels = []\n",
        "\n",
        "for w in valid_chosen_words:\n",
        "    idx = word_index[w]  # índice no tokenizer\n",
        "    emb_vector = embedding_weights[idx]\n",
        "    vectors.append(emb_vector)\n",
        "    labels.append(w)\n",
        "\n",
        "vectors = np.array(vectors)  # shape: (n_palavras_escolhidas, embedding_dim)"
      ],
      "metadata": {
        "id": "LzyPs1g1klq9"
      },
      "execution_count": 31,
      "outputs": []
    },
    {
      "cell_type": "markdown",
      "source": [
        "### **4. Redução de Dimensionalidade (PCA ou t-SNE)**"
      ],
      "metadata": {
        "id": "6TvFBAsGkopR"
      }
    },
    {
      "cell_type": "markdown",
      "source": [
        "Podemos usar **PCA** (mais rápido e simples) ou **t-SNE** (costuma gerar separações mais visíveis, mas é mais pesado e sensível a parâmetros). Abaixo vai um exemplo com PCA:"
      ],
      "metadata": {
        "id": "84ONTLb9krLX"
      }
    },
    {
      "cell_type": "code",
      "source": [
        "pca = PCA(n_components=2)\n",
        "vectors_2d = pca.fit_transform(vectors)  # shape: (n_palavras_escolhidas, 2)"
      ],
      "metadata": {
        "id": "WwQcUEsBkrvT"
      },
      "execution_count": 32,
      "outputs": []
    },
    {
      "cell_type": "markdown",
      "source": [
        "Se preferir **t-SNE**, ficaria algo como:"
      ],
      "metadata": {
        "id": "U_RnECP6ktq1"
      }
    },
    {
      "cell_type": "code",
      "source": [
        "tsne = TSNE(n_components=2, perplexity=5, learning_rate='auto')\n",
        "vectors_2d = tsne.fit_transform(vectors)"
      ],
      "metadata": {
        "id": "ZJE-Sxqqkuxb"
      },
      "execution_count": 36,
      "outputs": []
    },
    {
      "cell_type": "markdown",
      "source": [
        "Neste exemplo, PCA deve ser suficiente."
      ],
      "metadata": {
        "id": "aDuGACAOkwJL"
      }
    },
    {
      "cell_type": "markdown",
      "source": [
        "### **5. Plotar em 2D com Matplotlib**"
      ],
      "metadata": {
        "id": "83mqq8Q2ky-I"
      }
    },
    {
      "cell_type": "markdown",
      "source": [
        "Finalmente, desenhamos um scatter plot marcando cada ponto no plano 2D e rotulando com o texto da palavra:"
      ],
      "metadata": {
        "id": "CQAnm9ABk1IE"
      }
    },
    {
      "cell_type": "code",
      "source": [
        "plt.figure(figsize=(6, 6))\n",
        "plt.scatter(vectors_2d[:, 0], vectors_2d[:, 1])\n",
        "\n",
        "for i, label in enumerate(labels):\n",
        "    x, y = vectors_2d[i, 0], vectors_2d[i, 1]\n",
        "    plt.text(x+0.01, y+0.01, label)  # um deslocamento pequeno p/ não sobrepor o ponto\n",
        "\n",
        "plt.title(\"Projeção 2D das Word Embeddings\")\n",
        "plt.xlabel(\"Componente PCA 1\")\n",
        "plt.ylabel(\"Componente PCA 2\")\n",
        "plt.show()"
      ],
      "metadata": {
        "id": "oGvV9rZlk3DA",
        "colab": {
          "base_uri": "https://localhost:8080/",
          "height": 564
        },
        "outputId": "7aa50f92-ed4f-4b87-a2ca-c8f136cdfa19"
      },
      "execution_count": 37,
      "outputs": [
        {
          "output_type": "display_data",
          "data": {
            "text/plain": [
              "<Figure size 600x600 with 1 Axes>"
            ],
            "image/png": "[encoded data removed]"
          },
          "metadata": {}
        }
      ]
    },
    {
      "cell_type": "markdown",
      "source": [
        "Observe no gráfico se as palavras que você considera semanticamente próximas aparecem agrupadas. Se você treinou o embedding por pouco tempo ou em um dataset muito pequeno, a organização pode não ser tão clara. Em um conjunto de dados maior e após treino suficiente, é comum ver, por exemplo, palavras de conotação positiva mais próximas entre si, e as negativas agrupadas em outro canto.\n"
      ],
      "metadata": {
        "id": "dBPqwz1Hk42N"
      }
    },
    {
      "cell_type": "markdown",
      "source": [
        "## Testando outras coisas (100pt)"
      ],
      "metadata": {
        "id": "zVIsBffPk9Dg"
      }
    },
    {
      "cell_type": "markdown",
      "source": [
        "- Você pode tentar **ajustar hiperparâmetros** e ver o efeito: por exemplo, mudar o tamanho do vocabulário (`max_features`), a dimensão do embedding (`output_dim`), o tamanho das camadas densas, ou o número de épocas de treinamento.  \n",
        "- Teste também remover **stopwords** (palavras muito comuns como \"de\", \"o\", \"a\", \"é\", que às vezes atrapalham). O `CountVectorizer` e o `Tokenizer` permitem facilmente filtrar stopwords (no CountVectorizer usamos `stop_words='portuguese'` se quisermos). Veja se isso melhora algo.  \n",
        "- Experimente outras formas de combinar embeddings de palavras para representar a frase: em vez de média, poderíamos usar máxima, ou até mesmo concatenar (via Flatten) e deixar a rede tentar extrair os padrões – embora isso aumente a dimensionalidade e possivelmente a necessidade de dados.  \n",
        "- Tente usar a camada Flatten ao invés de GlobalAveragePooling apos a camada de word embedding"
      ],
      "metadata": {
        "id": "cwOsLuyjk-rv"
      }
    },
    {
      "cell_type": "markdown",
      "source": [
        "### Carregando os dados novamente"
      ],
      "metadata": {
        "id": "GttfhojUmqWY"
      }
    },
    {
      "cell_type": "code",
      "source": [
        "# Separa colunas de texto e rótulos\n",
        "texts = df['text_pt'].values\n",
        "# Convert labels to numerical values (0 for 'neg', 1 for 'pos')\n",
        "labels = df['sentiment'].map({'neg': 0, 'pos': 1}).values"
      ],
      "metadata": {
        "id": "-VqezP-0mpGL"
      },
      "execution_count": 4,
      "outputs": []
    },
    {
      "cell_type": "markdown",
      "source": [
        "### Parte 1 - *Bag-of-Words* + MLP (35pt)"
      ],
      "metadata": {
        "id": "YhhdF2Lflnt6"
      }
    },
    {
      "cell_type": "code",
      "source": [
        "unique_words = set()\n",
        "for text in texts:\n",
        "    t = text.split()\n",
        "    unique_words.update(t)\n",
        "\n",
        "print(len(unique_words))"
      ],
      "metadata": {
        "colab": {
          "base_uri": "https://localhost:8080/"
        },
        "id": "b_DxzMoxGYYI",
        "outputId": "7f5c165a-0c30-46e8-b6ee-6f29395aa346"
      },
      "execution_count": 5,
      "outputs": [
        {
          "output_type": "stream",
          "name": "stdout",
          "text": [
            "348285\n"
          ]
        }
      ]
    },
    {
      "cell_type": "code",
      "source": [
        "# ============================================\n",
        "# PARTE 1: Bag-of-Words + MLP\n",
        "# ============================================\n",
        "\n",
        "# 1) Vetorização Bag-of-Words\n",
        "max_features = 10_000\n",
        "vectorizer = CountVectorizer(max_features=max_features)\n",
        "\n",
        "X_bow = vectorizer.fit_transform(texts)"
      ],
      "metadata": {
        "id": "yb2RGPo2GRFB"
      },
      "execution_count": 6,
      "outputs": []
    },
    {
      "cell_type": "code",
      "source": [
        "# 2) Dividir em treino e teste\n",
        "X_train_bow, X_test_bow, y_train, y_test = train_test_split(\n",
        "    X_bow, labels, test_size=0.2, random_state=42)\n",
        "\n",
        "print(\"Conjunto de treino - textos:\", X_train_bow.shape, \" rótulos:\", y_train.shape)\n",
        "print(\"Conjunto de teste - textos:\", X_test_bow.shape, \" rótulos:\", y_test.shape)"
      ],
      "metadata": {
        "colab": {
          "base_uri": "https://localhost:8080/"
        },
        "id": "AG-cJO-PIPO6",
        "outputId": "ef13b71a-1b0f-4fa8-deb9-2dbdc14edf2f"
      },
      "execution_count": 7,
      "outputs": [
        {
          "output_type": "stream",
          "name": "stdout",
          "text": [
            "Conjunto de treino - textos: (39567, 10000)  rótulos: (39567,)\n",
            "Conjunto de teste - textos: (9892, 10000)  rótulos: (9892,)\n"
          ]
        }
      ]
    },
    {
      "cell_type": "code",
      "source": [
        "# 3) Definir e montar o modelo MLP\n",
        "model_bow = Sequential([\n",
        "    InputLayer(shape=(X_train_bow.shape[1],)),\n",
        "    Dense(512, activation = 'relu'),\n",
        "    Dropout(0.3),\n",
        "    Dense(128, activation = 'gelu'),\n",
        "    Dropout(0.2),\n",
        "    Dense(32, activation = 'swish'),\n",
        "    Dense(1, activation = 'sigmoid')\n",
        "])\n",
        "\n",
        "model_bow.compile(optimizer='sgd', loss='binary_crossentropy', metrics=['accuracy'])\n",
        "model_bow.summary()"
      ],
      "metadata": {
        "colab": {
          "base_uri": "https://localhost:8080/",
          "height": 326
        },
        "id": "Ykj51w72IcUT",
        "outputId": "dc27d172-d832-478d-c100-99b2a9f6a09e"
      },
      "execution_count": 8,
      "outputs": [
        {
          "output_type": "display_data",
          "data": {
            "text/plain": [
              "\u001b[1mModel: \"sequential\"\u001b[0m\n"
            ],
            "text/html": [
              "<pre style=\"white-space:pre;overflow-x:auto;line-height:normal;font-family:Menlo,'DejaVu Sans Mono',consolas,'Courier New',monospace\"><span style=\"font-weight: bold\">Model: \"sequential\"</span>\n",
              "</pre>\n"
            ]
          },
          "metadata": {}
        },
        {
          "output_type": "display_data",
          "data": {
            "text/plain": [
              "┏━━━━━━━━━━━━━━━━━━━━━━━━━━━━━━━━━━━━━━┳━━━━━━━━━━━━━━━━━━━━━━━━━━━━━┳━━━━━━━━━━━━━━━━━┓\n",
              "┃\u001b[1m \u001b[0m\u001b[1mLayer (type)                        \u001b[0m\u001b[1m \u001b[0m┃\u001b[1m \u001b[0m\u001b[1mOutput Shape               \u001b[0m\u001b[1m \u001b[0m┃\u001b[1m \u001b[0m\u001b[1m        Param #\u001b[0m\u001b[1m \u001b[0m┃\n",
              "┡━━━━━━━━━━━━━━━━━━━━━━━━━━━━━━━━━━━━━━╇━━━━━━━━━━━━━━━━━━━━━━━━━━━━━╇━━━━━━━━━━━━━━━━━┩\n",
              "│ dense (\u001b[38;5;33mDense\u001b[0m)                        │ (\u001b[38;5;45mNone\u001b[0m, \u001b[38;5;34m512\u001b[0m)                 │       \u001b[38;5;34m5,120,512\u001b[0m │\n",
              "├──────────────────────────────────────┼─────────────────────────────┼─────────────────┤\n",
              "│ dropout (\u001b[38;5;33mDropout\u001b[0m)                    │ (\u001b[38;5;45mNone\u001b[0m, \u001b[38;5;34m512\u001b[0m)                 │               \u001b[38;5;34m0\u001b[0m │\n",
              "├──────────────────────────────────────┼─────────────────────────────┼─────────────────┤\n",
              "│ dense_1 (\u001b[38;5;33mDense\u001b[0m)                      │ (\u001b[38;5;45mNone\u001b[0m, \u001b[38;5;34m128\u001b[0m)                 │          \u001b[38;5;34m65,664\u001b[0m │\n",
              "├──────────────────────────────────────┼─────────────────────────────┼─────────────────┤\n",
              "│ dropout_1 (\u001b[38;5;33mDropout\u001b[0m)                  │ (\u001b[38;5;45mNone\u001b[0m, \u001b[38;5;34m128\u001b[0m)                 │               \u001b[38;5;34m0\u001b[0m │\n",
              "├──────────────────────────────────────┼─────────────────────────────┼─────────────────┤\n",
              "│ dense_2 (\u001b[38;5;33mDense\u001b[0m)                      │ (\u001b[38;5;45mNone\u001b[0m, \u001b[38;5;34m32\u001b[0m)                  │           \u001b[38;5;34m4,128\u001b[0m │\n",
              "├──────────────────────────────────────┼─────────────────────────────┼─────────────────┤\n",
              "│ dense_3 (\u001b[38;5;33mDense\u001b[0m)                      │ (\u001b[38;5;45mNone\u001b[0m, \u001b[38;5;34m1\u001b[0m)                   │              \u001b[38;5;34m33\u001b[0m │\n",
              "└──────────────────────────────────────┴─────────────────────────────┴─────────────────┘\n"
            ],
            "text/html": [
              "<pre style=\"white-space:pre;overflow-x:auto;line-height:normal;font-family:Menlo,'DejaVu Sans Mono',consolas,'Courier New',monospace\">┏━━━━━━━━━━━━━━━━━━━━━━━━━━━━━━━━━━━━━━┳━━━━━━━━━━━━━━━━━━━━━━━━━━━━━┳━━━━━━━━━━━━━━━━━┓\n",
              "┃<span style=\"font-weight: bold\"> Layer (type)                         </span>┃<span style=\"font-weight: bold\"> Output Shape                </span>┃<span style=\"font-weight: bold\">         Param # </span>┃\n",
              "┡━━━━━━━━━━━━━━━━━━━━━━━━━━━━━━━━━━━━━━╇━━━━━━━━━━━━━━━━━━━━━━━━━━━━━╇━━━━━━━━━━━━━━━━━┩\n",
              "│ dense (<span style=\"color: #0087ff; text-decoration-color: #0087ff\">Dense</span>)                        │ (<span style=\"color: #00d7ff; text-decoration-color: #00d7ff\">None</span>, <span style=\"color: #00af00; text-decoration-color: #00af00\">512</span>)                 │       <span style=\"color: #00af00; text-decoration-color: #00af00\">5,120,512</span> │\n",
              "├──────────────────────────────────────┼─────────────────────────────┼─────────────────┤\n",
              "│ dropout (<span style=\"color: #0087ff; text-decoration-color: #0087ff\">Dropout</span>)                    │ (<span style=\"color: #00d7ff; text-decoration-color: #00d7ff\">None</span>, <span style=\"color: #00af00; text-decoration-color: #00af00\">512</span>)                 │               <span style=\"color: #00af00; text-decoration-color: #00af00\">0</span> │\n",
              "├──────────────────────────────────────┼─────────────────────────────┼─────────────────┤\n",
              "│ dense_1 (<span style=\"color: #0087ff; text-decoration-color: #0087ff\">Dense</span>)                      │ (<span style=\"color: #00d7ff; text-decoration-color: #00d7ff\">None</span>, <span style=\"color: #00af00; text-decoration-color: #00af00\">128</span>)                 │          <span style=\"color: #00af00; text-decoration-color: #00af00\">65,664</span> │\n",
              "├──────────────────────────────────────┼─────────────────────────────┼─────────────────┤\n",
              "│ dropout_1 (<span style=\"color: #0087ff; text-decoration-color: #0087ff\">Dropout</span>)                  │ (<span style=\"color: #00d7ff; text-decoration-color: #00d7ff\">None</span>, <span style=\"color: #00af00; text-decoration-color: #00af00\">128</span>)                 │               <span style=\"color: #00af00; text-decoration-color: #00af00\">0</span> │\n",
              "├──────────────────────────────────────┼─────────────────────────────┼─────────────────┤\n",
              "│ dense_2 (<span style=\"color: #0087ff; text-decoration-color: #0087ff\">Dense</span>)                      │ (<span style=\"color: #00d7ff; text-decoration-color: #00d7ff\">None</span>, <span style=\"color: #00af00; text-decoration-color: #00af00\">32</span>)                  │           <span style=\"color: #00af00; text-decoration-color: #00af00\">4,128</span> │\n",
              "├──────────────────────────────────────┼─────────────────────────────┼─────────────────┤\n",
              "│ dense_3 (<span style=\"color: #0087ff; text-decoration-color: #0087ff\">Dense</span>)                      │ (<span style=\"color: #00d7ff; text-decoration-color: #00d7ff\">None</span>, <span style=\"color: #00af00; text-decoration-color: #00af00\">1</span>)                   │              <span style=\"color: #00af00; text-decoration-color: #00af00\">33</span> │\n",
              "└──────────────────────────────────────┴─────────────────────────────┴─────────────────┘\n",
              "</pre>\n"
            ]
          },
          "metadata": {}
        },
        {
          "output_type": "display_data",
          "data": {
            "text/plain": [
              "\u001b[1m Total params: \u001b[0m\u001b[38;5;34m5,190,337\u001b[0m (19.80 MB)\n"
            ],
            "text/html": [
              "<pre style=\"white-space:pre;overflow-x:auto;line-height:normal;font-family:Menlo,'DejaVu Sans Mono',consolas,'Courier New',monospace\"><span style=\"font-weight: bold\"> Total params: </span><span style=\"color: #00af00; text-decoration-color: #00af00\">5,190,337</span> (19.80 MB)\n",
              "</pre>\n"
            ]
          },
          "metadata": {}
        },
        {
          "output_type": "display_data",
          "data": {
            "text/plain": [
              "\u001b[1m Trainable params: \u001b[0m\u001b[38;5;34m5,190,337\u001b[0m (19.80 MB)\n"
            ],
            "text/html": [
              "<pre style=\"white-space:pre;overflow-x:auto;line-height:normal;font-family:Menlo,'DejaVu Sans Mono',consolas,'Courier New',monospace\"><span style=\"font-weight: bold\"> Trainable params: </span><span style=\"color: #00af00; text-decoration-color: #00af00\">5,190,337</span> (19.80 MB)\n",
              "</pre>\n"
            ]
          },
          "metadata": {}
        },
        {
          "output_type": "display_data",
          "data": {
            "text/plain": [
              "\u001b[1m Non-trainable params: \u001b[0m\u001b[38;5;34m0\u001b[0m (0.00 B)\n"
            ],
            "text/html": [
              "<pre style=\"white-space:pre;overflow-x:auto;line-height:normal;font-family:Menlo,'DejaVu Sans Mono',consolas,'Courier New',monospace\"><span style=\"font-weight: bold\"> Non-trainable params: </span><span style=\"color: #00af00; text-decoration-color: #00af00\">0</span> (0.00 B)\n",
              "</pre>\n"
            ]
          },
          "metadata": {}
        }
      ]
    },
    {
      "cell_type": "code",
      "source": [
        "# 4) Treinar (convertemos a matriz esparsa em densa com toarray())\n",
        "history_bow = model_bow.fit(X_train_bow.toarray(),\n",
        "                            np.asarray([0 if x == 'neg' else 1 for x in y_train]),  # convertendo X_train de esparso para denso para treinar\n",
        "                            epochs=5,\n",
        "                            batch_size=32,\n",
        "                            validation_data=(X_test_bow.toarray(), y_test))"
      ],
      "metadata": {
        "colab": {
          "base_uri": "https://localhost:8080/"
        },
        "id": "K973arHpJUD6",
        "outputId": "1618c80a-b24a-4461-b0c8-96ed7e63b0ef"
      },
      "execution_count": 9,
      "outputs": [
        {
          "output_type": "stream",
          "name": "stdout",
          "text": [
            "Epoch 1/5\n",
            "\u001b[1m1237/1237\u001b[0m \u001b[32m━━━━━━━━━━━━━━━━━━━━\u001b[0m\u001b[37m\u001b[0m \u001b[1m13s\u001b[0m 7ms/step - accuracy: 0.9956 - loss: 0.0588 - val_accuracy: 0.4907 - val_loss: 9.7749\n",
            "Epoch 2/5\n",
            "\u001b[1m1237/1237\u001b[0m \u001b[32m━━━━━━━━━━━━━━━━━━━━\u001b[0m\u001b[37m\u001b[0m \u001b[1m14s\u001b[0m 4ms/step - accuracy: 1.0000 - loss: 0.0021 - val_accuracy: 0.4907 - val_loss: 12.0862\n",
            "Epoch 3/5\n",
            "\u001b[1m1237/1237\u001b[0m \u001b[32m━━━━━━━━━━━━━━━━━━━━\u001b[0m\u001b[37m\u001b[0m \u001b[1m5s\u001b[0m 4ms/step - accuracy: 1.0000 - loss: 0.0010 - val_accuracy: 0.4907 - val_loss: 13.5961\n",
            "Epoch 4/5\n",
            "\u001b[1m1237/1237\u001b[0m \u001b[32m━━━━━━━━━━━━━━━━━━━━\u001b[0m\u001b[37m\u001b[0m \u001b[1m10s\u001b[0m 4ms/step - accuracy: 1.0000 - loss: 7.9862e-04 - val_accuracy: 0.4907 - val_loss: 14.7187\n",
            "Epoch 5/5\n",
            "\u001b[1m1237/1237\u001b[0m \u001b[32m━━━━━━━━━━━━━━━━━━━━\u001b[0m\u001b[37m\u001b[0m \u001b[1m6s\u001b[0m 5ms/step - accuracy: 1.0000 - loss: 6.3492e-04 - val_accuracy: 0.4907 - val_loss: 15.6211\n"
          ]
        }
      ]
    },
    {
      "cell_type": "code",
      "source": [
        "# 5) Avaliar\n",
        "loss_bow, acc_bow = model_bow.evaluate(X_test_bow.toarray(), y_test, verbose=0)\n",
        "print(f\"Acurácia no conjunto de teste (BoW + MLP): {acc_bow:.4f}\")"
      ],
      "metadata": {
        "colab": {
          "base_uri": "https://localhost:8080/"
        },
        "id": "0v-aecQvKpzc",
        "outputId": "d0c8d84c-d5f1-4f10-99b1-7a7639ca9b90"
      },
      "execution_count": 10,
      "outputs": [
        {
          "output_type": "stream",
          "name": "stdout",
          "text": [
            "Acurácia no conjunto de teste (BoW + MLP): 0.4907\n"
          ]
        }
      ]
    },
    {
      "cell_type": "markdown",
      "source": [
        "### Parte 2 - *Word Embeddings* + MLP (35pt)"
      ],
      "metadata": {
        "id": "P28vlJmQmjTR"
      }
    },
    {
      "cell_type": "code",
      "source": [
        "# ============================================\n",
        "# PARTE 2: Word Embeddings + MLP\n",
        "# ============================================\n",
        "\n",
        "# 1) Tokenizar e transformar em sequências\n",
        "\n",
        "max_words = 10_000\n",
        "tokenizer = Tokenizer(num_words=max_words, oov_token=\"<OOV>\")\n",
        "tokenizer.fit_on_texts(texts)\n",
        "sequences = tokenizer.texts_to_sequences(texts)\n",
        "\n",
        "maxlen = 150\n",
        "X_seq = pad_sequences(sequences, maxlen=maxlen, padding='post', truncating='post')"
      ],
      "metadata": {
        "id": "6zVtKFPKK3wA"
      },
      "execution_count": 12,
      "outputs": []
    },
    {
      "cell_type": "code",
      "source": [
        "# 2) Dividir em treino e teste\n",
        "X_train_seq, X_test_seq, y_train_seq, y_test_seq = train_test_split(\n",
        "    X_seq, labels, test_size=0.2, random_state=42)\n",
        "\n",
        "print(\"Treino seq shape:\", X_train_seq.shape, \"Teste seq shape:\", X_test_seq.shape)"
      ],
      "metadata": {
        "colab": {
          "base_uri": "https://localhost:8080/"
        },
        "id": "-TftH4O1LaZT",
        "outputId": "e44302d2-8066-4443-c8f6-ee61be9327bf"
      },
      "execution_count": 13,
      "outputs": [
        {
          "output_type": "stream",
          "name": "stdout",
          "text": [
            "Treino seq shape: (39567, 150) Teste seq shape: (9892, 150)\n"
          ]
        }
      ]
    },
    {
      "cell_type": "code",
      "source": [
        "# 3) Construir o modelo com camada de Embedding\n",
        "embedding_dim = 150\n",
        "model_emb = Sequential([\n",
        "    InputLayer(shape=(X_train_seq.shape[1],)),\n",
        "    Embedding(input_dim=max_words,\n",
        "              output_dim=embedding_dim,\n",
        "              input_length=maxlen),\n",
        "    GlobalAveragePooling1D(),\n",
        "    Dense(64, activation = \"relu\"),\n",
        "    Dense(8, activation = \"relu\"),\n",
        "    Dense(1, activation = \"sigmoid\"),\n",
        "])\n",
        "\n",
        "model_emb.compile(optimizer='adam', loss='binary_crossentropy', metrics=['accuracy'])\n",
        "model_emb.summary()"
      ],
      "metadata": {
        "colab": {
          "base_uri": "https://localhost:8080/",
          "height": 346
        },
        "id": "3on4qEqBLjQz",
        "outputId": "d0843ad5-5821-4b67-e849-1a583a106e8a"
      },
      "execution_count": 39,
      "outputs": [
        {
          "output_type": "stream",
          "name": "stderr",
          "text": [
            "/usr/local/lib/python3.11/dist-packages/keras/src/layers/core/embedding.py:90: UserWarning: Argument `input_length` is deprecated. Just remove it.\n",
            "  warnings.warn(\n"
          ]
        },
        {
          "output_type": "display_data",
          "data": {
            "text/plain": [
              "\u001b[1mModel: \"sequential_8\"\u001b[0m\n"
            ],
            "text/html": [
              "<pre style=\"white-space:pre;overflow-x:auto;line-height:normal;font-family:Menlo,'DejaVu Sans Mono',consolas,'Courier New',monospace\"><span style=\"font-weight: bold\">Model: \"sequential_8\"</span>\n",
              "</pre>\n"
            ]
          },
          "metadata": {}
        },
        {
          "output_type": "display_data",
          "data": {
            "text/plain": [
              "┏━━━━━━━━━━━━━━━━━━━━━━━━━━━━━━━━━━━━━━┳━━━━━━━━━━━━━━━━━━━━━━━━━━━━━┳━━━━━━━━━━━━━━━━━┓\n",
              "┃\u001b[1m \u001b[0m\u001b[1mLayer (type)                        \u001b[0m\u001b[1m \u001b[0m┃\u001b[1m \u001b[0m\u001b[1mOutput Shape               \u001b[0m\u001b[1m \u001b[0m┃\u001b[1m \u001b[0m\u001b[1m        Param #\u001b[0m\u001b[1m \u001b[0m┃\n",
              "┡━━━━━━━━━━━━━━━━━━━━━━━━━━━━━━━━━━━━━━╇━━━━━━━━━━━━━━━━━━━━━━━━━━━━━╇━━━━━━━━━━━━━━━━━┩\n",
              "│ embedding_7 (\u001b[38;5;33mEmbedding\u001b[0m)              │ (\u001b[38;5;45mNone\u001b[0m, \u001b[38;5;34m150\u001b[0m, \u001b[38;5;34m150\u001b[0m)            │       \u001b[38;5;34m1,500,000\u001b[0m │\n",
              "├──────────────────────────────────────┼─────────────────────────────┼─────────────────┤\n",
              "│ global_average_pooling1d_4           │ (\u001b[38;5;45mNone\u001b[0m, \u001b[38;5;34m150\u001b[0m)                 │               \u001b[38;5;34m0\u001b[0m │\n",
              "│ (\u001b[38;5;33mGlobalAveragePooling1D\u001b[0m)             │                             │                 │\n",
              "├──────────────────────────────────────┼─────────────────────────────┼─────────────────┤\n",
              "│ dense_28 (\u001b[38;5;33mDense\u001b[0m)                     │ (\u001b[38;5;45mNone\u001b[0m, \u001b[38;5;34m64\u001b[0m)                  │           \u001b[38;5;34m9,664\u001b[0m │\n",
              "├──────────────────────────────────────┼─────────────────────────────┼─────────────────┤\n",
              "│ dense_29 (\u001b[38;5;33mDense\u001b[0m)                     │ (\u001b[38;5;45mNone\u001b[0m, \u001b[38;5;34m8\u001b[0m)                   │             \u001b[38;5;34m520\u001b[0m │\n",
              "├──────────────────────────────────────┼─────────────────────────────┼─────────────────┤\n",
              "│ dense_30 (\u001b[38;5;33mDense\u001b[0m)                     │ (\u001b[38;5;45mNone\u001b[0m, \u001b[38;5;34m1\u001b[0m)                   │               \u001b[38;5;34m9\u001b[0m │\n",
              "└──────────────────────────────────────┴─────────────────────────────┴─────────────────┘\n"
            ],
            "text/html": [
              "<pre style=\"white-space:pre;overflow-x:auto;line-height:normal;font-family:Menlo,'DejaVu Sans Mono',consolas,'Courier New',monospace\">┏━━━━━━━━━━━━━━━━━━━━━━━━━━━━━━━━━━━━━━┳━━━━━━━━━━━━━━━━━━━━━━━━━━━━━┳━━━━━━━━━━━━━━━━━┓\n",
              "┃<span style=\"font-weight: bold\"> Layer (type)                         </span>┃<span style=\"font-weight: bold\"> Output Shape                </span>┃<span style=\"font-weight: bold\">         Param # </span>┃\n",
              "┡━━━━━━━━━━━━━━━━━━━━━━━━━━━━━━━━━━━━━━╇━━━━━━━━━━━━━━━━━━━━━━━━━━━━━╇━━━━━━━━━━━━━━━━━┩\n",
              "│ embedding_7 (<span style=\"color: #0087ff; text-decoration-color: #0087ff\">Embedding</span>)              │ (<span style=\"color: #00d7ff; text-decoration-color: #00d7ff\">None</span>, <span style=\"color: #00af00; text-decoration-color: #00af00\">150</span>, <span style=\"color: #00af00; text-decoration-color: #00af00\">150</span>)            │       <span style=\"color: #00af00; text-decoration-color: #00af00\">1,500,000</span> │\n",
              "├──────────────────────────────────────┼─────────────────────────────┼─────────────────┤\n",
              "│ global_average_pooling1d_4           │ (<span style=\"color: #00d7ff; text-decoration-color: #00d7ff\">None</span>, <span style=\"color: #00af00; text-decoration-color: #00af00\">150</span>)                 │               <span style=\"color: #00af00; text-decoration-color: #00af00\">0</span> │\n",
              "│ (<span style=\"color: #0087ff; text-decoration-color: #0087ff\">GlobalAveragePooling1D</span>)             │                             │                 │\n",
              "├──────────────────────────────────────┼─────────────────────────────┼─────────────────┤\n",
              "│ dense_28 (<span style=\"color: #0087ff; text-decoration-color: #0087ff\">Dense</span>)                     │ (<span style=\"color: #00d7ff; text-decoration-color: #00d7ff\">None</span>, <span style=\"color: #00af00; text-decoration-color: #00af00\">64</span>)                  │           <span style=\"color: #00af00; text-decoration-color: #00af00\">9,664</span> │\n",
              "├──────────────────────────────────────┼─────────────────────────────┼─────────────────┤\n",
              "│ dense_29 (<span style=\"color: #0087ff; text-decoration-color: #0087ff\">Dense</span>)                     │ (<span style=\"color: #00d7ff; text-decoration-color: #00d7ff\">None</span>, <span style=\"color: #00af00; text-decoration-color: #00af00\">8</span>)                   │             <span style=\"color: #00af00; text-decoration-color: #00af00\">520</span> │\n",
              "├──────────────────────────────────────┼─────────────────────────────┼─────────────────┤\n",
              "│ dense_30 (<span style=\"color: #0087ff; text-decoration-color: #0087ff\">Dense</span>)                     │ (<span style=\"color: #00d7ff; text-decoration-color: #00d7ff\">None</span>, <span style=\"color: #00af00; text-decoration-color: #00af00\">1</span>)                   │               <span style=\"color: #00af00; text-decoration-color: #00af00\">9</span> │\n",
              "└──────────────────────────────────────┴─────────────────────────────┴─────────────────┘\n",
              "</pre>\n"
            ]
          },
          "metadata": {}
        },
        {
          "output_type": "display_data",
          "data": {
            "text/plain": [
              "\u001b[1m Total params: \u001b[0m\u001b[38;5;34m1,510,193\u001b[0m (5.76 MB)\n"
            ],
            "text/html": [
              "<pre style=\"white-space:pre;overflow-x:auto;line-height:normal;font-family:Menlo,'DejaVu Sans Mono',consolas,'Courier New',monospace\"><span style=\"font-weight: bold\"> Total params: </span><span style=\"color: #00af00; text-decoration-color: #00af00\">1,510,193</span> (5.76 MB)\n",
              "</pre>\n"
            ]
          },
          "metadata": {}
        },
        {
          "output_type": "display_data",
          "data": {
            "text/plain": [
              "\u001b[1m Trainable params: \u001b[0m\u001b[38;5;34m1,510,193\u001b[0m (5.76 MB)\n"
            ],
            "text/html": [
              "<pre style=\"white-space:pre;overflow-x:auto;line-height:normal;font-family:Menlo,'DejaVu Sans Mono',consolas,'Courier New',monospace\"><span style=\"font-weight: bold\"> Trainable params: </span><span style=\"color: #00af00; text-decoration-color: #00af00\">1,510,193</span> (5.76 MB)\n",
              "</pre>\n"
            ]
          },
          "metadata": {}
        },
        {
          "output_type": "display_data",
          "data": {
            "text/plain": [
              "\u001b[1m Non-trainable params: \u001b[0m\u001b[38;5;34m0\u001b[0m (0.00 B)\n"
            ],
            "text/html": [
              "<pre style=\"white-space:pre;overflow-x:auto;line-height:normal;font-family:Menlo,'DejaVu Sans Mono',consolas,'Courier New',monospace\"><span style=\"font-weight: bold\"> Non-trainable params: </span><span style=\"color: #00af00; text-decoration-color: #00af00\">0</span> (0.00 B)\n",
              "</pre>\n"
            ]
          },
          "metadata": {}
        }
      ]
    },
    {
      "cell_type": "code",
      "source": [
        "# 4) Treinar\n",
        "history_emb = model_emb.fit(X_train_seq,\n",
        "                            y_train_seq,\n",
        "                            epochs=10,\n",
        "                            batch_size=32,\n",
        "                            validation_data=(X_test_seq, y_test_seq))"
      ],
      "metadata": {
        "colab": {
          "base_uri": "https://localhost:8080/"
        },
        "id": "BtAJ_zoLMSrQ",
        "outputId": "ed6ed4a6-8c90-4763-bac0-c9c2e63d6061"
      },
      "execution_count": 40,
      "outputs": [
        {
          "output_type": "stream",
          "name": "stdout",
          "text": [
            "Epoch 1/10\n",
            "\u001b[1m1237/1237\u001b[0m \u001b[32m━━━━━━━━━━━━━━━━━━━━\u001b[0m\u001b[37m\u001b[0m \u001b[1m7s\u001b[0m 4ms/step - accuracy: 0.7384 - loss: 0.5071 - val_accuracy: 0.8474 - val_loss: 0.3489\n",
            "Epoch 2/10\n",
            "\u001b[1m1237/1237\u001b[0m \u001b[32m━━━━━━━━━━━━━━━━━━━━\u001b[0m\u001b[37m\u001b[0m \u001b[1m8s\u001b[0m 3ms/step - accuracy: 0.8791 - loss: 0.2925 - val_accuracy: 0.8559 - val_loss: 0.3420\n",
            "Epoch 3/10\n",
            "\u001b[1m1237/1237\u001b[0m \u001b[32m━━━━━━━━━━━━━━━━━━━━\u001b[0m\u001b[37m\u001b[0m \u001b[1m5s\u001b[0m 4ms/step - accuracy: 0.8976 - loss: 0.2491 - val_accuracy: 0.8223 - val_loss: 0.4258\n",
            "Epoch 4/10\n",
            "\u001b[1m1237/1237\u001b[0m \u001b[32m━━━━━━━━━━━━━━━━━━━━\u001b[0m\u001b[37m\u001b[0m \u001b[1m4s\u001b[0m 3ms/step - accuracy: 0.9114 - loss: 0.2254 - val_accuracy: 0.8438 - val_loss: 0.3728\n",
            "Epoch 5/10\n",
            "\u001b[1m1237/1237\u001b[0m \u001b[32m━━━━━━━━━━━━━━━━━━━━\u001b[0m\u001b[37m\u001b[0m \u001b[1m4s\u001b[0m 3ms/step - accuracy: 0.9169 - loss: 0.2095 - val_accuracy: 0.8480 - val_loss: 0.4032\n",
            "Epoch 6/10\n",
            "\u001b[1m1237/1237\u001b[0m \u001b[32m━━━━━━━━━━━━━━━━━━━━\u001b[0m\u001b[37m\u001b[0m \u001b[1m6s\u001b[0m 4ms/step - accuracy: 0.9267 - loss: 0.1788 - val_accuracy: 0.8447 - val_loss: 0.4142\n",
            "Epoch 7/10\n",
            "\u001b[1m1237/1237\u001b[0m \u001b[32m━━━━━━━━━━━━━━━━━━━━\u001b[0m\u001b[37m\u001b[0m \u001b[1m4s\u001b[0m 3ms/step - accuracy: 0.9357 - loss: 0.1496 - val_accuracy: 0.8376 - val_loss: 0.4792\n",
            "Epoch 8/10\n",
            "\u001b[1m1237/1237\u001b[0m \u001b[32m━━━━━━━━━━━━━━━━━━━━\u001b[0m\u001b[37m\u001b[0m \u001b[1m4s\u001b[0m 3ms/step - accuracy: 0.9445 - loss: 0.1270 - val_accuracy: 0.8359 - val_loss: 0.6089\n",
            "Epoch 9/10\n",
            "\u001b[1m1237/1237\u001b[0m \u001b[32m━━━━━━━━━━━━━━━━━━━━\u001b[0m\u001b[37m\u001b[0m \u001b[1m4s\u001b[0m 3ms/step - accuracy: 0.9513 - loss: 0.1052 - val_accuracy: 0.8314 - val_loss: 0.6566\n",
            "Epoch 10/10\n",
            "\u001b[1m1237/1237\u001b[0m \u001b[32m━━━━━━━━━━━━━━━━━━━━\u001b[0m\u001b[37m\u001b[0m \u001b[1m5s\u001b[0m 3ms/step - accuracy: 0.9590 - loss: 0.0890 - val_accuracy: 0.8335 - val_loss: 0.7704\n"
          ]
        }
      ]
    },
    {
      "cell_type": "code",
      "source": [
        "# 5) Avaliar\n",
        "loss_emb, acc_emb = model_emb.evaluate(X_test_seq, y_test_seq, verbose=0)\n",
        "print(f\"Acurácia no conjunto de teste (Embeddings + MLP): {acc_emb:.4f}\")\n"
      ],
      "metadata": {
        "id": "lZSNsLsomidP",
        "colab": {
          "base_uri": "https://localhost:8080/"
        },
        "outputId": "a77760fe-4b2d-4d3d-f4bb-b388f2c4fcdd"
      },
      "execution_count": 41,
      "outputs": [
        {
          "output_type": "stream",
          "name": "stdout",
          "text": [
            "Acurácia no conjunto de teste (Embeddings + MLP): 0.8335\n"
          ]
        }
      ]
    },
    {
      "cell_type": "markdown",
      "source": [
        "### Parte 3 - Visualizando as representações criadas (30 pt)"
      ],
      "metadata": {
        "id": "G0nkWGUZnJPN"
      }
    },
    {
      "cell_type": "code",
      "source": [
        "# ============================================\n",
        "# PARTE 3: Visualização das embeddings criadas\n",
        "# ============================================\n",
        "\n",
        "# 1) Pegar os embeddings do modelo treinado\n",
        "embedding_layer = model_emb.layers[0]\n",
        "embedding_weights = embedding_layer.get_weights()[0]\n",
        "\n",
        "\n",
        "# 2) Escolher as palavras para avaliar\n",
        "# ToDo\n",
        "#   - Sugestão de palavras (escolha mais)\n",
        "#       - filme        - amei\n",
        "#       - excelente    - ótimo\n",
        "#       - bom          - horrível\n",
        "#       - engraçado    - beleza\n",
        "#       - estranho     - agradável\n",
        "#       - avassalador  - ruim\n",
        "#       - medonho      - terrível\n",
        "#       - bom          - adorei\n",
        "\n",
        "chosen_words = [\"excelente\", \"incrível\", \"terrível\", \"horroroso\", \"excepcional\", \"péssimo\", \"bom\", \"ruim\", \"legal\", \"chato\"]\n",
        "\n",
        "# 3) Certificar de pegar somente as palavras válidas\n",
        "word_index = tokenizer.word_index\n",
        "valid_chosen_words = []\n",
        "for w in chosen_words:\n",
        "    if w in word_index and word_index[w] < embedding_weights.shape[0]:\n",
        "        valid_chosen_words.append(w)\n",
        "print(\"Palavras válidas no vocabulário:\", valid_chosen_words)\n",
        "print(\"palavras não presentes no vocabulário:\", set(chosen_words) - set(valid_chosen_words))\n",
        "\n",
        "# 4) Gerar as embeddings e os labels correspondentes para cada palavra\n",
        "vectors = []\n",
        "labels = []\n",
        "for w in valid_chosen_words:\n",
        "    idx = word_index[w]\n",
        "    emb_vector = embedding_weights[idx]\n",
        "    vectors.append(emb_vector)\n",
        "    labels.append(w)\n",
        "\n",
        "vectors = np.array(vectors)\n",
        "\n",
        "# 5) Reduzir a dimensionalidade das embeddings para somente duas dimensões\n",
        "tsne = TSNE(n_components=2, perplexity=5, learning_rate='auto')\n",
        "vectors_2d = tsne.fit_transform(vectors)\n",
        "\n",
        "# 6) Plotar as palavras escolhidas\n",
        "plt.figure(figsize=(6, 6))\n",
        "plt.scatter(vectors_2d[:, 0], vectors_2d[:, 1])\n",
        "\n",
        "for i, label in enumerate(labels):\n",
        "    x, y = vectors_2d[i, 0], vectors_2d[i, 1]\n",
        "    plt.text(x+0.01, y+0.01, label)\n",
        "\n",
        "plt.title(\"Projeção 2D das Word Embeddings\")\n",
        "plt.xlabel(\"Componente PCA 1\")\n",
        "plt.ylabel(\"Componente PCA 2\")\n",
        "plt.show()"
      ],
      "metadata": {
        "id": "4r_qURGznTKL",
        "colab": {
          "base_uri": "https://localhost:8080/",
          "height": 600
        },
        "outputId": "cdf71ebf-d432-4b4a-a675-145d278149b6"
      },
      "execution_count": 42,
      "outputs": [
        {
          "output_type": "stream",
          "name": "stdout",
          "text": [
            "Palavras válidas no vocabulário: ['excelente', 'incrível', 'terrível', 'excepcional', 'péssimo', 'bom', 'ruim', 'legal', 'chato']\n",
            "palavras não presentes no vocabulário: {'horroroso'}\n"
          ]
        },
        {
          "output_type": "display_data",
          "data": {
            "text/plain": [
              "<Figure size 600x600 with 1 Axes>"
            ],
            "image/png": "[encoded data removed]"
          },
          "metadata": {}
        }
      ]
    }
  ]
}