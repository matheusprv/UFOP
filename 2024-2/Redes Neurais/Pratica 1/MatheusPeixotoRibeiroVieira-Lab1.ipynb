{
  "nbformat": 4,
  "nbformat_minor": 0,
  "metadata": {
    "colab": {
      "provenance": [],
      "collapsed_sections": [
        "5Q19Albv5NG_",
        "nYo7EkRl3BRY",
        "P8IZfZas3L1u",
        "hKwrDhBj3X7u",
        "ddtB7BUf4G3P",
        "-JG7uzFF4Ksf",
        "UiXQNUab4R9G",
        "O6KcW5Yf422m"
      ]
    },
    "kernelspec": {
      "name": "python3",
      "display_name": "Python 3"
    },
    "language_info": {
      "name": "python"
    }
  },
  "cells": [
    {
      "cell_type": "markdown",
      "source": [
        "# Lab 1 - BCC406/PCC177\n",
        "\n",
        "## REDES NEURAIS E APRENDIZAGEM EM PROFUNDIDADE\n",
        "\n",
        "## Pacote *NumPy*\n",
        "\n",
        "### Prof. Eduardo e Prof. Pedro\n",
        "\n",
        "Objetivos:\n",
        "\n",
        "- Uso de *NumPy*.\n",
        "\n",
        "Data da entrega : 10/12/2024\n",
        "\n",
        "- Complete o código (marcado com 'ToDo') e quando requisitado, escreva textos diretamente nos notebooks. Onde tiver *None*, substitua pelo seu código.\n",
        "- Execute todo notebook e salve tudo em um PDF **nomeado** como \"NomeSobrenome-LabX.pdf\"\n",
        "- Envie o PDF e o o *.ipynb* via [Formulário Google](https://forms.gle/1oi7xfJHesmso8mS6).\n",
        "\n",
        "Sugestão de leitura:\n",
        "\n",
        "- Ler [Capítulo 2 do livro texto](https://pt.d2l.ai/chapter_preliminaries/index.html). Dê ênfase para as seções 2.3 e 2.4. **Sugerimos fortemente** abrir com o Colab e executar estas duas seções passo a passo.\n"
      ],
      "metadata": {
        "id": "X9fHBqFr2AoZ"
      }
    },
    {
      "cell_type": "markdown",
      "source": [
        "## ***NumPy***"
      ],
      "metadata": {
        "id": "eDZEOwGdS_fY"
      }
    },
    {
      "cell_type": "markdown",
      "metadata": {
        "id": "rgbVriCaYte2"
      },
      "source": [
        "*NumPy* é uma das bibliotecas mais populares para computação científica. Ela foi desenvolvida para dar suporte a operações com *arrays* de *N* dimensões e implementa métodos úteis para operações de álgebra linear, geração de números aleatórios, etc."
      ]
    },
    {
      "cell_type": "markdown",
      "source": [
        "### Criando arrays (5pt)"
      ],
      "metadata": {
        "id": "ExS_LMr9TC3P"
      }
    },
    {
      "cell_type": "code",
      "metadata": {
        "id": "_BahTvnI2YfB"
      },
      "source": [
        "# Primeiramente, vamos importar a biblioteca\n",
        "import numpy as np"
      ],
      "execution_count": 1,
      "outputs": []
    },
    {
      "cell_type": "code",
      "metadata": {
        "id": "GZ7qRwmy11Vv",
        "colab": {
          "base_uri": "https://localhost:8080/"
        },
        "outputId": "f6a1e173-c3f1-4bdf-a4ca-67e3b9ea499a"
      },
      "source": [
        "# Usaremos a função zeros para criar um array de uma dimensão de tamanho 5\n",
        "np.zeros(5)"
      ],
      "execution_count": null,
      "outputs": [
        {
          "output_type": "execute_result",
          "data": {
            "text/plain": [
              "array([0., 0., 0., 0., 0.])"
            ]
          },
          "metadata": {},
          "execution_count": 2
        }
      ]
    },
    {
      "cell_type": "code",
      "metadata": {
        "id": "AZFe47z7c1c_",
        "colab": {
          "base_uri": "https://localhost:8080/"
        },
        "outputId": "974ede9d-0e88-4a6b-e186-3bf386791882"
      },
      "source": [
        "# Da mesma forma, para criar um array de duas dimensões:\n",
        "np.zeros((3,4))"
      ],
      "execution_count": null,
      "outputs": [
        {
          "output_type": "execute_result",
          "data": {
            "text/plain": [
              "array([[0., 0., 0., 0.],\n",
              "       [0., 0., 0., 0.],\n",
              "       [0., 0., 0., 0.]])"
            ]
          },
          "metadata": {},
          "execution_count": 3
        }
      ]
    },
    {
      "cell_type": "code",
      "source": [
        "# ToDo: Crie um array de três dimensões com o shape (3, 3, 3)\n",
        "np.zeros((3, 3, 3))"
      ],
      "metadata": {
        "id": "GCTkdOYLdSiz",
        "colab": {
          "base_uri": "https://localhost:8080/"
        },
        "outputId": "0172ac60-a812-4ec2-80e8-abbb6566bafd"
      },
      "execution_count": null,
      "outputs": [
        {
          "output_type": "execute_result",
          "data": {
            "text/plain": [
              "array([[[0., 0., 0.],\n",
              "        [0., 0., 0.],\n",
              "        [0., 0., 0.]],\n",
              "\n",
              "       [[0., 0., 0.],\n",
              "        [0., 0., 0.],\n",
              "        [0., 0., 0.]],\n",
              "\n",
              "       [[0., 0., 0.],\n",
              "        [0., 0., 0.],\n",
              "        [0., 0., 0.]]])"
            ]
          },
          "metadata": {},
          "execution_count": 4
        }
      ]
    },
    {
      "cell_type": "markdown",
      "source": [
        "### Vocabulário comum (25pt)"
      ],
      "metadata": {
        "id": "pyg4oHLMTrV2"
      }
    },
    {
      "cell_type": "markdown",
      "metadata": {
        "id": "M8KT-jbZc_6k"
      },
      "source": [
        "* Em *NumPy*, cada dimensão é chamada eixo (***axis***).\n",
        "* Um array é uma lista de axis e uma lista de tamanho dos axis é o que chamamos de **shape** do array.\n",
        "    * Por exemplo, o shape da matrix acima é `(3, 4)`.\n",
        "    \n",
        "* O tamanho (***size***) de uma array é o número total de elementos, por exemplo, no array 2D acima = `3 * 4 = 12`."
      ]
    },
    {
      "cell_type": "code",
      "metadata": {
        "id": "1YWyPHbuc_SN",
        "colab": {
          "base_uri": "https://localhost:8080/"
        },
        "outputId": "9ffb88e2-d246-4006-89cf-550c2e47b1a0"
      },
      "source": [
        "# Criando e mostrando o array\n",
        "a = np.zeros((3,4))\n",
        "a"
      ],
      "execution_count": null,
      "outputs": [
        {
          "output_type": "execute_result",
          "data": {
            "text/plain": [
              "array([[0., 0., 0., 0.],\n",
              "       [0., 0., 0., 0.],\n",
              "       [0., 0., 0., 0.]])"
            ]
          },
          "metadata": {},
          "execution_count": 9
        }
      ]
    },
    {
      "cell_type": "code",
      "metadata": {
        "id": "UUvZr2bBcwC7",
        "colab": {
          "base_uri": "https://localhost:8080/"
        },
        "outputId": "21977448-66f2-46c8-d3d0-ac25217a0136"
      },
      "source": [
        "# Verificando o shape do array\n",
        "a.shape"
      ],
      "execution_count": null,
      "outputs": [
        {
          "output_type": "execute_result",
          "data": {
            "text/plain": [
              "(3, 4)"
            ]
          },
          "metadata": {},
          "execution_count": 10
        }
      ]
    },
    {
      "cell_type": "code",
      "metadata": {
        "id": "5Vrzg2yMeaiS",
        "colab": {
          "base_uri": "https://localhost:8080/"
        },
        "outputId": "587c938b-410d-478e-92c5-cd6baee7d729"
      },
      "source": [
        "# Verificando a quantidade de dimensões de um array\n",
        "a.ndim"
      ],
      "execution_count": null,
      "outputs": [
        {
          "output_type": "execute_result",
          "data": {
            "text/plain": [
              "2"
            ]
          },
          "metadata": {},
          "execution_count": 11
        }
      ]
    },
    {
      "cell_type": "code",
      "metadata": {
        "id": "0dIVxyT6eeFp",
        "colab": {
          "base_uri": "https://localhost:8080/"
        },
        "outputId": "6a7f4679-5e55-40ed-ecbc-b4b4a9fe5298"
      },
      "source": [
        "# Verificando a quantidade de elemntos no array\n",
        "a.size"
      ],
      "execution_count": null,
      "outputs": [
        {
          "output_type": "execute_result",
          "data": {
            "text/plain": [
              "12"
            ]
          },
          "metadata": {},
          "execution_count": 12
        }
      ]
    },
    {
      "cell_type": "code",
      "metadata": {
        "id": "6r6XyebuexGL",
        "colab": {
          "base_uri": "https://localhost:8080/"
        },
        "outputId": "5cc53655-7861-4093-8407-0a3ba6c9fde4"
      },
      "source": [
        "# ToDo : Criar um array de 3 dimensões, de shape (2,3,4) e mostrar o shape, quantidade de dimensões e o número de elemetos\n",
        "arr = np.zeros((2, 3, 4))\n",
        "arr.shape, arr.ndim, arr.size"
      ],
      "execution_count": null,
      "outputs": [
        {
          "output_type": "execute_result",
          "data": {
            "text/plain": [
              "((2, 3, 4), 3, 24)"
            ]
          },
          "metadata": {},
          "execution_count": 8
        }
      ]
    },
    {
      "cell_type": "code",
      "source": [
        "# ToDo : Criar um array de 3 dimensões mas trocando a função zeros por ones e mostrar o shape, quantidade de dimensões e o número de elemetos\n",
        "arr = np.ones((2, 3, 4))\n",
        "arr.shape, arr.ndim, arr.size"
      ],
      "metadata": {
        "id": "1GW4U4OeeEIL",
        "colab": {
          "base_uri": "https://localhost:8080/"
        },
        "outputId": "e860e443-4c17-4dd5-aba0-2ed14cc2ad29"
      },
      "execution_count": null,
      "outputs": [
        {
          "output_type": "execute_result",
          "data": {
            "text/plain": [
              "((2, 3, 4), 3, 24)"
            ]
          },
          "metadata": {},
          "execution_count": 25
        }
      ]
    },
    {
      "cell_type": "code",
      "source": [
        "# ToDo : Criar um array de 3 dimensões mas trocando a função zeros por full e mostrar o shape, quantidade de dimensões e o número de elemetos\n",
        "arr = np.full((2, 3, 4), 5)\n",
        "print(arr)\n",
        "arr.shape, arr.ndim, arr.size"
      ],
      "metadata": {
        "id": "6-SmdqTMeD-3",
        "colab": {
          "base_uri": "https://localhost:8080/"
        },
        "outputId": "f41c0f7b-7d69-4be1-b0fd-5611e885f8a9"
      },
      "execution_count": null,
      "outputs": [
        {
          "output_type": "stream",
          "name": "stdout",
          "text": [
            "[[[5 5 5 5]\n",
            "  [5 5 5 5]\n",
            "  [5 5 5 5]]\n",
            "\n",
            " [[5 5 5 5]\n",
            "  [5 5 5 5]\n",
            "  [5 5 5 5]]]\n"
          ]
        },
        {
          "output_type": "execute_result",
          "data": {
            "text/plain": [
              "((2, 3, 4), 3, 24)"
            ]
          },
          "metadata": {},
          "execution_count": 27
        }
      ]
    },
    {
      "cell_type": "code",
      "metadata": {
        "id": "ZDy7vZuWfIto",
        "colab": {
          "base_uri": "https://localhost:8080/"
        },
        "outputId": "e149b058-aaa7-486b-ac60-928b76b6cd8c"
      },
      "source": [
        "# ToDo : Criar um array de 3 dimensões mas trocando a função zeros por empty e mostrar o shape, quantidade de dimensões e o número de elemetos\n",
        "arr = np.empty((2, 3, 4))\n",
        "print(arr)\n",
        "arr.shape, arr.ndim, arr.size"
      ],
      "execution_count": null,
      "outputs": [
        {
          "output_type": "stream",
          "name": "stdout",
          "text": [
            "[[[0. 0. 0. 0.]\n",
            "  [0. 0. 0. 0.]\n",
            "  [0. 0. 0. 0.]]\n",
            "\n",
            " [[0. 0. 0. 0.]\n",
            "  [0. 0. 0. 0.]\n",
            "  [0. 0. 0. 0.]]]\n"
          ]
        },
        {
          "output_type": "execute_result",
          "data": {
            "text/plain": [
              "((2, 3, 4), 3, 24)"
            ]
          },
          "metadata": {},
          "execution_count": 26
        }
      ]
    },
    {
      "cell_type": "markdown",
      "source": [
        "> **ToDo**: O que você pode dizer sobre cada uma das quatro funções que você usou?\n",
        "> ```\n",
        "Todas as funções têm a finalidade de criar um array com determinadas dimensões. Todavia, o np.zeros cria o array somente com valores zero, o np.ones cria o array somente com valores um, o np.full cria o array com um valor arbitrário passado pelo usuário e o np.empty cria um array com valores não inicializados, dessa forma, os dados podem ser diferentes a cada execução.\n",
        "```"
      ],
      "metadata": {
        "id": "YKAY7gdxeVzs"
      }
    },
    {
      "cell_type": "markdown",
      "source": [
        "### O comando ***np.arange*** (5pt)"
      ],
      "metadata": {
        "id": "nkjmI9MeTyjL"
      }
    },
    {
      "cell_type": "markdown",
      "metadata": {
        "id": "_TzkxvDDfgWc"
      },
      "source": [
        "Você pode criar um array usando a função arange, similar a função range do Python."
      ]
    },
    {
      "cell_type": "code",
      "metadata": {
        "id": "vSxyvBeEftcC",
        "colab": {
          "base_uri": "https://localhost:8080/"
        },
        "outputId": "2a4d5755-7a1a-4a4d-c3cf-58a28cdf4b3d"
      },
      "source": [
        "# Criando um array\n",
        "np.arange(1, 5)"
      ],
      "execution_count": null,
      "outputs": [
        {
          "output_type": "execute_result",
          "data": {
            "text/plain": [
              "array([1, 2, 3, 4])"
            ]
          },
          "metadata": {},
          "execution_count": 28
        }
      ]
    },
    {
      "cell_type": "code",
      "metadata": {
        "id": "QQYKeQ4HfvzP",
        "colab": {
          "base_uri": "https://localhost:8080/"
        },
        "outputId": "07d11003-4f48-472f-d31b-d7f920b943ff"
      },
      "source": [
        "# Para criar com ponto flutuante\n",
        "np.arange(1.0, 5.0)"
      ],
      "execution_count": null,
      "outputs": [
        {
          "output_type": "execute_result",
          "data": {
            "text/plain": [
              "array([1., 2., 3., 4.])"
            ]
          },
          "metadata": {},
          "execution_count": 29
        }
      ]
    },
    {
      "cell_type": "code",
      "metadata": {
        "id": "6U8y37khjYOM",
        "colab": {
          "base_uri": "https://localhost:8080/"
        },
        "outputId": "1bb5081b-9ad0-44c5-c66c-7e13822d1d0a"
      },
      "source": [
        "# ToDo : crie um array com arange, variando de 1 a 5, com um passo de 0.5\n",
        "np.arange(1, 5, 0.5)"
      ],
      "execution_count": null,
      "outputs": [
        {
          "output_type": "execute_result",
          "data": {
            "text/plain": [
              "array([1. , 1.5, 2. , 2.5, 3. , 3.5, 4. , 4.5])"
            ]
          },
          "metadata": {},
          "execution_count": 30
        }
      ]
    },
    {
      "cell_type": "markdown",
      "source": [
        "### Os comandos ***np.rand*** e ***np.randn*** (5pt)"
      ],
      "metadata": {
        "id": "QRAQgy0PUDc4"
      }
    },
    {
      "cell_type": "markdown",
      "metadata": {
        "id": "a3FACJL6jxIc"
      },
      "source": [
        "O *NumPy* tem várias funções para criação de números aleatórios. Estas funções são muito úteis para inicialização dos pesos das redes neurais. Por exemplo, abaixo criamos uma matrix `(3, 4)` inicializada com números em ponto flutuante (*floats*) e distribuição uniforme:"
      ]
    },
    {
      "cell_type": "code",
      "metadata": {
        "id": "xgCOeCnLkWnT",
        "colab": {
          "base_uri": "https://localhost:8080/"
        },
        "outputId": "f00cd779-37e3-4657-995f-36d06330eb1d"
      },
      "source": [
        "np.random.rand(3,4)"
      ],
      "execution_count": null,
      "outputs": [
        {
          "output_type": "execute_result",
          "data": {
            "text/plain": [
              "array([[0.7602757 , 0.02111394, 0.32905191, 0.7960685 ],\n",
              "       [0.50795559, 0.63346452, 0.74581834, 0.55521584],\n",
              "       [0.20389059, 0.01919086, 0.43726752, 0.68728086]])"
            ]
          },
          "metadata": {},
          "execution_count": 31
        }
      ]
    },
    {
      "cell_type": "markdown",
      "metadata": {
        "id": "wJ5O6QOvNYOv"
      },
      "source": [
        "Abaixo um matriz inicializada com distribuição gaussiana ([normal distribution](https://en.wikipedia.org/wiki/Normal_distribution)) com média 0 e variância 1"
      ]
    },
    {
      "cell_type": "code",
      "metadata": {
        "id": "YzbgYn_4kbTp",
        "colab": {
          "base_uri": "https://localhost:8080/"
        },
        "outputId": "44808d90-76dc-4917-b7b7-6991cfe76128"
      },
      "source": [
        "np.random.randn(3,4)"
      ],
      "execution_count": null,
      "outputs": [
        {
          "output_type": "execute_result",
          "data": {
            "text/plain": [
              "array([[-0.16063135, -0.88306013, -0.0101034 , -0.70084827],\n",
              "       [ 0.87521827,  0.06817194,  0.09125965, -1.63923991],\n",
              "       [ 0.03520767, -0.42240487,  1.00899785, -0.5030477 ]])"
            ]
          },
          "metadata": {},
          "execution_count": 32
        }
      ]
    },
    {
      "cell_type": "code",
      "source": [
        "# ToDo : crie um array aleatório com o shape (1, 2, 3, 4)\n",
        "np.random.rand(1, 2, 3, 4)"
      ],
      "metadata": {
        "id": "ABvDRpYFfaSr",
        "colab": {
          "base_uri": "https://localhost:8080/"
        },
        "outputId": "46027892-870b-4bad-8e10-9ec603fe7853"
      },
      "execution_count": null,
      "outputs": [
        {
          "output_type": "execute_result",
          "data": {
            "text/plain": [
              "array([[[[0.64874423, 0.2436377 , 0.20717099, 0.94130833],\n",
              "         [0.06044594, 0.23421054, 0.22104799, 0.83949689],\n",
              "         [0.09506331, 0.28749473, 0.14611944, 0.33257559]],\n",
              "\n",
              "        [[0.14678961, 0.36113759, 0.59564543, 0.93870563],\n",
              "         [0.13541196, 0.00763982, 0.53572155, 0.68410892],\n",
              "         [0.03403972, 0.60074604, 0.09140654, 0.8426105 ]]]])"
            ]
          },
          "metadata": {},
          "execution_count": 33
        }
      ]
    },
    {
      "cell_type": "markdown",
      "source": [
        "### A biblioteca *MatplotLib* (5pt)"
      ],
      "metadata": {
        "id": "sby7_674UWCW"
      }
    },
    {
      "cell_type": "markdown",
      "metadata": {
        "id": "NHZ0hdo5mpir"
      },
      "source": [
        "Vamos usar a biblioteca matplotlib (para mais detalhes veja o [tutorial de *matplotlib*](https://drive.google.com/file/d/1f3Y_gm-URBVov5wIOs-JrdNw0gK86EXL/view?usp=sharing)) para plotar dois arrays de tamanho 10.000, um inicializado com distribuição normal e o outro com uniforme"
      ]
    },
    {
      "cell_type": "code",
      "metadata": {
        "id": "Pk6XqokcnBLs"
      },
      "source": [
        "%matplotlib inline\n",
        "import matplotlib.pyplot as plt"
      ],
      "execution_count": null,
      "outputs": []
    },
    {
      "cell_type": "markdown",
      "source": [
        "Primeiro os dados que serão plotados precisam ser criados"
      ],
      "metadata": {
        "id": "ZvBz0bCBjNr_"
      }
    },
    {
      "cell_type": "code",
      "metadata": {
        "id": "yAjUzzS5nFNY"
      },
      "source": [
        "array_a = np.random.rand(10_000, ) # ToDo : criar um array de shape (10.000,)\n",
        "array_b = np.random.randn(10_000, )# ToDo : criar um array de shape (10.000,)"
      ],
      "execution_count": null,
      "outputs": []
    },
    {
      "cell_type": "markdown",
      "source": [
        "Depois eles podem ser plotados"
      ],
      "metadata": {
        "id": "Rz2WWH-1jRTb"
      }
    },
    {
      "cell_type": "code",
      "metadata": {
        "id": "QaVSaHDanFX7",
        "colab": {
          "base_uri": "https://localhost:8080/",
          "height": 474
        },
        "outputId": "a76d4a7d-da0b-4ccd-ebaf-2d39d076afd4"
      },
      "source": [
        "plt.hist(array_a, density=True, bins=100, histtype=\"step\", color=\"blue\", label=\"rand\")\n",
        "plt.hist(array_b, density=True, bins=100, histtype=\"step\", color=\"red\", label=\"randn\")\n",
        "plt.axis([-2.5, 2.5, 0, 1.1])\n",
        "plt.legend(loc = \"upper left\")\n",
        "plt.title(\"Distribuições aleatṍrias\")\n",
        "plt.xlabel(\"Valor\")\n",
        "plt.ylabel(\"Densidade\")\n",
        "plt.show()"
      ],
      "execution_count": null,
      "outputs": [
        {
          "output_type": "display_data",
          "data": {
            "text/plain": [
              "<Figure size 640x480 with 1 Axes>"
            ],
            "image/png": "[encoded data removed]"
          },
          "metadata": {}
        }
      ]
    },
    {
      "cell_type": "markdown",
      "source": [
        "### Tipo de dados (***dtype***) (5pt)"
      ],
      "metadata": {
        "id": "xNJLRAtyUt5v"
      }
    },
    {
      "cell_type": "markdown",
      "metadata": {
        "id": "hqg3Mkz3nt6i"
      },
      "source": [
        "Você pode ver qual o tipo de dado pelo atributo `dtype`. Verifique abaixo:"
      ]
    },
    {
      "cell_type": "code",
      "metadata": {
        "id": "_8RjI5j-n38c",
        "colab": {
          "base_uri": "https://localhost:8080/"
        },
        "outputId": "83ec2c7e-3732-4247-c53b-20db196c1408"
      },
      "source": [
        "c = np.arange(1, 5)\n",
        "print(c.dtype, c)"
      ],
      "execution_count": null,
      "outputs": [
        {
          "output_type": "stream",
          "name": "stdout",
          "text": [
            "int64 [1 2 3 4]\n"
          ]
        }
      ]
    },
    {
      "cell_type": "code",
      "metadata": {
        "id": "FE2DlBhkn9CE",
        "colab": {
          "base_uri": "https://localhost:8080/"
        },
        "outputId": "b35e23b5-2c11-4ab6-a2d0-7af54114d839"
      },
      "source": [
        "# ToDo: Crie um um array aleatório de shape (2, 3, 4) e verifique o seu tipo\n",
        "arr = np.random.rand(2, 3, 4)\n",
        "print(arr.dtype)"
      ],
      "execution_count": null,
      "outputs": [
        {
          "output_type": "stream",
          "name": "stdout",
          "text": [
            "float64\n"
          ]
        }
      ]
    },
    {
      "cell_type": "markdown",
      "metadata": {
        "id": "ylFtnobMoDof"
      },
      "source": [
        "Tipos disponĩveis: `int8`, `int16`, `int32`, `int64`, `uint8`|`16`|`32`|`64`, `float16`|`32`|`64` e `complex64`|`128`. Veja a [documentação](http://docs.scipy.org/doc/numpy-1.10.1/user/basics.types.html) para a lista completa.\n"
      ]
    },
    {
      "cell_type": "markdown",
      "source": [
        "### Atributo ***itemsize*** (5pt)"
      ],
      "metadata": {
        "id": "sWI7oAE7VFrL"
      }
    },
    {
      "cell_type": "markdown",
      "source": [
        "O atributo `itemsize` retorna o tamanho em bytes"
      ],
      "metadata": {
        "id": "aJnMiG2oVHhc"
      }
    },
    {
      "cell_type": "code",
      "metadata": {
        "id": "94eTv9JWoCDi",
        "colab": {
          "base_uri": "https://localhost:8080/"
        },
        "outputId": "831c2857-69a7-464c-f430-ba1455a07797"
      },
      "source": [
        "e = np.arange(1, 5, dtype=np.complex64)\n",
        "e.itemsize"
      ],
      "execution_count": null,
      "outputs": [
        {
          "output_type": "execute_result",
          "data": {
            "text/plain": [
              "8"
            ]
          },
          "metadata": {},
          "execution_count": 41
        }
      ]
    },
    {
      "cell_type": "code",
      "metadata": {
        "id": "GqBdud2Kocn4",
        "colab": {
          "base_uri": "https://localhost:8080/"
        },
        "outputId": "d9e504e5-5858-4679-f334-a213e358bd57"
      },
      "source": [
        "# Na memória, um array é armazenado de forma contígua\n",
        "f = np.array([[1,2],[1000, 2000]], dtype=np.int32)\n",
        "f.data"
      ],
      "execution_count": null,
      "outputs": [
        {
          "output_type": "execute_result",
          "data": {
            "text/plain": [
              "<memory at 0x7c377c8b0e10>"
            ]
          },
          "metadata": {},
          "execution_count": 42
        }
      ]
    },
    {
      "cell_type": "code",
      "source": [
        "# ToDo: Crie arrays de shape (2, 2) dos tipos int8, int64, float16, float64, complex64 e complex128\n",
        "\n",
        "types = [ np.int8,np.int64, np.float16, np.float64, np.complex64, np.complex128]\n",
        "\n",
        "for t in types:\n",
        "    arr = np.empty((2,2)).astype(t)\n",
        "    print(arr.dtype, arr.itemsize, arr.data)"
      ],
      "metadata": {
        "id": "sLnVgJQJjzxU",
        "colab": {
          "base_uri": "https://localhost:8080/"
        },
        "outputId": "92688410-fa9c-4005-ab2f-69d1a56e1a7f"
      },
      "execution_count": 79,
      "outputs": [
        {
          "output_type": "stream",
          "name": "stdout",
          "text": [
            "int8 1 <memory at 0x7a22c0ae1970>\n",
            "int64 8 <memory at 0x7a22c0ae1970>\n",
            "float16 2 <memory at 0x7a22c0ae1970>\n",
            "float64 8 <memory at 0x7a22c0ae1970>\n",
            "complex64 8 <memory at 0x7a22c0ae1970>\n",
            "complex128 16 <memory at 0x7a22c0ae1970>\n"
          ]
        }
      ]
    },
    {
      "cell_type": "markdown",
      "source": [
        "> **ToDo**: O que você pode dizer sobre esses arrays criados?\n",
        "> ```\n",
        "  Os arrays são similares, mas com os tipos diferentes. Ademais, os tamanhos deles em bytes também serão variados de acordo com o tipo de cada e o espaço que necessitam em memória.\n",
        "```"
      ],
      "metadata": {
        "id": "4p7ZKX-VkGeA"
      }
    },
    {
      "cell_type": "markdown",
      "source": [
        "### ***Reshaping*** (5pt)"
      ],
      "metadata": {
        "id": "OUlszIjTVWeJ"
      }
    },
    {
      "cell_type": "markdown",
      "metadata": {
        "id": "HlJ5vj9Gol53"
      },
      "source": [
        "Alterar o shape de uma array é muto fácil com NumPy e muito útil para adequação das matrizes para métodos de machine learning. Contudo, o tamanho (size) não pode ser alterado."
      ]
    },
    {
      "cell_type": "code",
      "metadata": {
        "id": "uXu0PAwgo811",
        "colab": {
          "base_uri": "https://localhost:8080/"
        },
        "outputId": "21d6bb60-a259-426e-bdd0-96a9c15daed7"
      },
      "source": [
        "# O núemro de dimensões também é chamado de rank\n",
        "g = np.arange(24)\n",
        "print(g)\n",
        "print(\"Rank:\", g.ndim)"
      ],
      "execution_count": null,
      "outputs": [
        {
          "output_type": "stream",
          "name": "stdout",
          "text": [
            "[ 0  1  2  3  4  5  6  7  8  9 10 11 12 13 14 15 16 17 18 19 20 21 22 23]\n",
            "Rank: 1\n"
          ]
        }
      ]
    },
    {
      "cell_type": "code",
      "metadata": {
        "id": "xRWmC6FUpDHX",
        "colab": {
          "base_uri": "https://localhost:8080/"
        },
        "outputId": "1161947b-664d-4e69-ce95-7638c1049cee"
      },
      "source": [
        "g.shape = (6, 4)\n",
        "print(g)\n",
        "print(\"Rank:\", g.ndim)"
      ],
      "execution_count": null,
      "outputs": [
        {
          "output_type": "stream",
          "name": "stdout",
          "text": [
            "[[ 0  1  2  3]\n",
            " [ 4  5  6  7]\n",
            " [ 8  9 10 11]\n",
            " [12 13 14 15]\n",
            " [16 17 18 19]\n",
            " [20 21 22 23]]\n",
            "Rank: 2\n"
          ]
        }
      ]
    },
    {
      "cell_type": "code",
      "metadata": {
        "id": "mH34bpWSpG9O",
        "colab": {
          "base_uri": "https://localhost:8080/"
        },
        "outputId": "06d31e01-5244-4fda-82e9-cbbbb95c8331"
      },
      "source": [
        "g.shape = (2, 3, 4)\n",
        "print(g)\n",
        "print(\"Rank:\", g.ndim)"
      ],
      "execution_count": null,
      "outputs": [
        {
          "output_type": "stream",
          "name": "stdout",
          "text": [
            "[[[ 0  1  2  3]\n",
            "  [ 4  5  6  7]\n",
            "  [ 8  9 10 11]]\n",
            "\n",
            " [[12 13 14 15]\n",
            "  [16 17 18 19]\n",
            "  [20 21 22 23]]]\n",
            "Rank: 3\n"
          ]
        }
      ]
    },
    {
      "cell_type": "markdown",
      "metadata": {
        "id": "R9nZuFMVpMg7"
      },
      "source": [
        "Mudando o formato do dado (***reshape***)"
      ]
    },
    {
      "cell_type": "code",
      "metadata": {
        "id": "7z_UhY_FpLYl",
        "colab": {
          "base_uri": "https://localhost:8080/"
        },
        "outputId": "b26466a1-477b-4386-d1c2-e2ecb34ccef1"
      },
      "source": [
        "g2 = g.reshape(4,6)\n",
        "print(g2)\n",
        "print(\"Rank:\", g2.ndim)"
      ],
      "execution_count": null,
      "outputs": [
        {
          "output_type": "stream",
          "name": "stdout",
          "text": [
            "[[ 0  1  2  3  4  5]\n",
            " [ 6  7  8  9 10 11]\n",
            " [12 13 14 15 16 17]\n",
            " [18 19 20 21 22 23]]\n",
            "Rank: 2\n"
          ]
        }
      ]
    },
    {
      "cell_type": "code",
      "metadata": {
        "id": "_n_4kK7JpRW7",
        "colab": {
          "base_uri": "https://localhost:8080/"
        },
        "outputId": "6cf1bece-c44b-4739-9a9f-ce275d66ff42"
      },
      "source": [
        "# Pode-se alterar diretamente um item da matriz, pelo índice\n",
        "g2[1, 2] = 999\n",
        "g2"
      ],
      "execution_count": null,
      "outputs": [
        {
          "output_type": "execute_result",
          "data": {
            "text/plain": [
              "array([[  0,   1,   2,   3,   4,   5],\n",
              "       [  6,   7, 999,   9,  10,  11],\n",
              "       [ 12,  13,  14,  15,  16,  17],\n",
              "       [ 18,  19,  20,  21,  22,  23]])"
            ]
          },
          "metadata": {},
          "execution_count": 56
        }
      ]
    },
    {
      "cell_type": "markdown",
      "source": [
        "Repare que o objeto `'g'` foi modificado também!"
      ],
      "metadata": {
        "id": "ooR4UMX3Cczq"
      }
    },
    {
      "cell_type": "code",
      "metadata": {
        "id": "gHX2ECfDpYUb",
        "colab": {
          "base_uri": "https://localhost:8080/"
        },
        "outputId": "63a244cc-cf1b-4b3d-c721-dff063ed7c44"
      },
      "source": [
        "g"
      ],
      "execution_count": null,
      "outputs": [
        {
          "output_type": "execute_result",
          "data": {
            "text/plain": [
              "array([[[  0,   1,   2,   3],\n",
              "        [  4,   5,   6,   7],\n",
              "        [999,   9,  10,  11]],\n",
              "\n",
              "       [[ 12,  13,  14,  15],\n",
              "        [ 16,  17,  18,  19],\n",
              "        [ 20,  21,  22,  23]]])"
            ]
          },
          "metadata": {},
          "execution_count": 57
        }
      ]
    },
    {
      "cell_type": "markdown",
      "metadata": {
        "id": "cAxT-zxVps9R"
      },
      "source": [
        "Todas a operçãoes aritméticas comuns podem ser feitas com o *ndarray*"
      ]
    },
    {
      "cell_type": "code",
      "metadata": {
        "id": "9FxqdcOWpz1R",
        "colab": {
          "base_uri": "https://localhost:8080/"
        },
        "outputId": "fdbd429f-6769-477d-9eef-6ed1937e0ae1"
      },
      "source": [
        "a = np.array([14, 23, 32, 41])\n",
        "arr = np.array([5,  4,  3,  2])\n",
        "print(\"a + b  =\", a + arr)\n",
        "print(\"a - b  =\", a - arr)\n",
        "print(\"a * b  =\", a * arr)\n",
        "print(\"a / b  =\", a / arr)\n",
        "print(\"a // b  =\", a // arr)\n",
        "print(\"a % b  =\", a % arr)\n",
        "print(\"a ** b =\", a ** arr)"
      ],
      "execution_count": null,
      "outputs": [
        {
          "output_type": "stream",
          "name": "stdout",
          "text": [
            "a + b  = [19 27 35 43]\n",
            "a - b  = [ 9 19 29 39]\n",
            "a * b  = [70 92 96 82]\n",
            "a / b  = [ 2.8         5.75       10.66666667 20.5       ]\n",
            "a // b  = [ 2  5 10 20]\n",
            "a % b  = [4 3 2 1]\n",
            "a ** b = [537824 279841  32768   1681]\n"
          ]
        }
      ]
    },
    {
      "cell_type": "markdown",
      "metadata": {
        "id": "KvavA4ZLp5Do"
      },
      "source": [
        "Repare que a multiplicação acima **NÃO** é um multiplicação de martizes\n",
        "\n",
        "Arrays devem ter o mesmo shape, caso contrário, NumPy vai aplicar a regra de *broadcasting* (Ver seção 2.1.3 do [livro texto](http://d2l.ai/chapter_preliminaries/ndarray.html)). Pesquise sobre a operação ed bradcasting do NumPy e explique com suas palavras, abaixo:"
      ]
    },
    {
      "cell_type": "markdown",
      "source": [
        "> **ToDo**: Explique o conceito de *broadcasting*.\n",
        "> ```\n",
        "  Operações em numpy, geralmente, são feitas de elemento a elemento, o que faria com que os itens devessem ter o mesmo shape. Mas como isso nem sempre acontece, o broadcasting irá 'replicar' os valores do array de 'menor' tamanho para o maior. Para que seja possível o broadcast, os eixos do array devem ser compatíveis ou um deles ser 1\n",
        "```"
      ],
      "metadata": {
        "id": "H8vABCLXkUZJ"
      }
    },
    {
      "cell_type": "markdown",
      "source": [
        "### Iteração e Concatenação de arrays de *NumPy* (5pt)"
      ],
      "metadata": {
        "id": "6bxKHkldVyvt"
      }
    },
    {
      "cell_type": "markdown",
      "metadata": {
        "id": "KrNWG2EBqokb"
      },
      "source": [
        "Repare que você pode iterar pelos `ndarrays`, e que ela é feita pelos *axis*."
      ]
    },
    {
      "cell_type": "code",
      "metadata": {
        "id": "NufhSS2Cqree",
        "colab": {
          "base_uri": "https://localhost:8080/"
        },
        "outputId": "a48ab8dd-166e-4f2a-cdc1-1560103d3302"
      },
      "source": [
        "c = np.arange(24).reshape(2, 3, 4)  # Um array 3D (coposto de duas matrizes de 3x4)\n",
        "c"
      ],
      "execution_count": null,
      "outputs": [
        {
          "output_type": "execute_result",
          "data": {
            "text/plain": [
              "array([[[ 0,  1,  2,  3],\n",
              "        [ 4,  5,  6,  7],\n",
              "        [ 8,  9, 10, 11]],\n",
              "\n",
              "       [[12, 13, 14, 15],\n",
              "        [16, 17, 18, 19],\n",
              "        [20, 21, 22, 23]]])"
            ]
          },
          "metadata": {},
          "execution_count": 59
        }
      ]
    },
    {
      "cell_type": "code",
      "metadata": {
        "id": "Kuyq7oUjp4vg",
        "colab": {
          "base_uri": "https://localhost:8080/"
        },
        "outputId": "82325375-75de-4759-dbb4-15fe041f6fd7"
      },
      "source": [
        "for m in c:\n",
        "    print(\"Item:\")\n",
        "    print(m)"
      ],
      "execution_count": null,
      "outputs": [
        {
          "output_type": "stream",
          "name": "stdout",
          "text": [
            "Item:\n",
            "[[ 0  1  2  3]\n",
            " [ 4  5  6  7]\n",
            " [ 8  9 10 11]]\n",
            "Item:\n",
            "[[12 13 14 15]\n",
            " [16 17 18 19]\n",
            " [20 21 22 23]]\n"
          ]
        }
      ]
    },
    {
      "cell_type": "code",
      "metadata": {
        "id": "rS5NbTS2rArD",
        "colab": {
          "base_uri": "https://localhost:8080/"
        },
        "outputId": "d86f5bd0-117b-481a-8d20-c0987dbea04c"
      },
      "source": [
        "for i in range(len(c)):  # Observe que len(c) == c.shape[0]\n",
        "    print(\"Item:\")\n",
        "    print(c[i])"
      ],
      "execution_count": null,
      "outputs": [
        {
          "output_type": "stream",
          "name": "stdout",
          "text": [
            "Item:\n",
            "[[ 0  1  2  3]\n",
            " [ 4  5  6  7]\n",
            " [ 8  9 10 11]]\n",
            "Item:\n",
            "[[12 13 14 15]\n",
            " [16 17 18 19]\n",
            " [20 21 22 23]]\n"
          ]
        }
      ]
    },
    {
      "cell_type": "code",
      "metadata": {
        "id": "hXMSTO3MrDP4",
        "colab": {
          "base_uri": "https://localhost:8080/"
        },
        "outputId": "b65c5f82-3b85-417e-c4d1-82228bcbee70"
      },
      "source": [
        "# Para iterar por todos os elementos\n",
        "for i in c.flat:\n",
        "    print(\"Item:\", i)"
      ],
      "execution_count": null,
      "outputs": [
        {
          "output_type": "stream",
          "name": "stdout",
          "text": [
            "Item: 0\n",
            "Item: 1\n",
            "Item: 2\n",
            "Item: 3\n",
            "Item: 4\n",
            "Item: 5\n",
            "Item: 6\n",
            "Item: 7\n",
            "Item: 8\n",
            "Item: 9\n",
            "Item: 10\n",
            "Item: 11\n",
            "Item: 12\n",
            "Item: 13\n",
            "Item: 14\n",
            "Item: 15\n",
            "Item: 16\n",
            "Item: 17\n",
            "Item: 18\n",
            "Item: 19\n",
            "Item: 20\n",
            "Item: 21\n",
            "Item: 22\n",
            "Item: 23\n"
          ]
        }
      ]
    },
    {
      "cell_type": "markdown",
      "metadata": {
        "id": "1RznKDthrLfn"
      },
      "source": [
        "Também é possível concatenar `ndarrays`, e isso pode ser feito em um eixo específico."
      ]
    },
    {
      "cell_type": "code",
      "metadata": {
        "id": "WRQVwQxnrM-f",
        "colab": {
          "base_uri": "https://localhost:8080/"
        },
        "outputId": "9d73d627-048f-41b2-9597-eaf860a7d367"
      },
      "source": [
        "# Pode-se concatenar arrays pelos axis\n",
        "q1 = np.full((3,4), 1.0)\n",
        "\n",
        "q2 = np.full((4,4), 2.0)\n",
        "\n",
        "q3 = np.full((3,4), 3.0)\n",
        "\n",
        "q = np.concatenate((q1, q2, q3), axis=0)\n",
        "\n",
        "q"
      ],
      "execution_count": null,
      "outputs": [
        {
          "output_type": "execute_result",
          "data": {
            "text/plain": [
              "array([[1., 1., 1., 1.],\n",
              "       [1., 1., 1., 1.],\n",
              "       [1., 1., 1., 1.],\n",
              "       [2., 2., 2., 2.],\n",
              "       [2., 2., 2., 2.],\n",
              "       [2., 2., 2., 2.],\n",
              "       [2., 2., 2., 2.],\n",
              "       [3., 3., 3., 3.],\n",
              "       [3., 3., 3., 3.],\n",
              "       [3., 3., 3., 3.]])"
            ]
          },
          "metadata": {},
          "execution_count": 63
        }
      ]
    },
    {
      "cell_type": "code",
      "source": [
        "# ToDo: imprima o shape resultante da concatenação dos arrays de shape a = (2, 3, 4) e b = (2, 3, 4) em cada eixo separadamente\n",
        "a = np.zeros((2, 3, 4))\n",
        "b = np.ones((2, 3, 4))\n",
        "\n",
        "print(\"Axis 0:\", np.concatenate((a, b), axis=0))\n",
        "print(\"Axis 1:\", np.concatenate((a, b), axis=1))\n",
        "print(\"Axis 2:\", np.concatenate((a, b), axis=2))\n"
      ],
      "metadata": {
        "id": "oP16-SvolCPR",
        "colab": {
          "base_uri": "https://localhost:8080/"
        },
        "outputId": "b10bcfa1-eafa-4d96-d5e1-daebfd852da9"
      },
      "execution_count": null,
      "outputs": [
        {
          "output_type": "stream",
          "name": "stdout",
          "text": [
            "Axis 0: [[[0. 0. 0. 0.]\n",
            "  [0. 0. 0. 0.]\n",
            "  [0. 0. 0. 0.]]\n",
            "\n",
            " [[0. 0. 0. 0.]\n",
            "  [0. 0. 0. 0.]\n",
            "  [0. 0. 0. 0.]]\n",
            "\n",
            " [[1. 1. 1. 1.]\n",
            "  [1. 1. 1. 1.]\n",
            "  [1. 1. 1. 1.]]\n",
            "\n",
            " [[1. 1. 1. 1.]\n",
            "  [1. 1. 1. 1.]\n",
            "  [1. 1. 1. 1.]]]\n",
            "Axis 1: [[[0. 0. 0. 0.]\n",
            "  [0. 0. 0. 0.]\n",
            "  [0. 0. 0. 0.]\n",
            "  [1. 1. 1. 1.]\n",
            "  [1. 1. 1. 1.]\n",
            "  [1. 1. 1. 1.]]\n",
            "\n",
            " [[0. 0. 0. 0.]\n",
            "  [0. 0. 0. 0.]\n",
            "  [0. 0. 0. 0.]\n",
            "  [1. 1. 1. 1.]\n",
            "  [1. 1. 1. 1.]\n",
            "  [1. 1. 1. 1.]]]\n",
            "Axis 2: [[[0. 0. 0. 0. 1. 1. 1. 1.]\n",
            "  [0. 0. 0. 0. 1. 1. 1. 1.]\n",
            "  [0. 0. 0. 0. 1. 1. 1. 1.]]\n",
            "\n",
            " [[0. 0. 0. 0. 1. 1. 1. 1.]\n",
            "  [0. 0. 0. 0. 1. 1. 1. 1.]\n",
            "  [0. 0. 0. 0. 1. 1. 1. 1.]]]\n"
          ]
        }
      ]
    },
    {
      "cell_type": "markdown",
      "metadata": {
        "id": "s3XuK6yLrgBk"
      },
      "source": [
        "### Transposta (5pt)\n"
      ]
    },
    {
      "cell_type": "code",
      "metadata": {
        "id": "q7dSfS0zrhVi",
        "colab": {
          "base_uri": "https://localhost:8080/"
        },
        "outputId": "f6653418-d0c9-443b-f400-28836690eccd"
      },
      "source": [
        "m1 = np.arange(10).reshape(2,5)\n",
        "m1"
      ],
      "execution_count": null,
      "outputs": [
        {
          "output_type": "execute_result",
          "data": {
            "text/plain": [
              "array([[0, 1, 2, 3, 4],\n",
              "       [5, 6, 7, 8, 9]])"
            ]
          },
          "metadata": {},
          "execution_count": 66
        }
      ]
    },
    {
      "cell_type": "code",
      "metadata": {
        "id": "B6R2PFoirpKd",
        "colab": {
          "base_uri": "https://localhost:8080/"
        },
        "outputId": "a392fa0b-2078-4a8d-f42c-98ef278f69e1"
      },
      "source": [
        "# ToDo : imprima a matriz transposta de m1\n",
        "print(m1.T)"
      ],
      "execution_count": null,
      "outputs": [
        {
          "output_type": "stream",
          "name": "stdout",
          "text": [
            "[[0 5]\n",
            " [1 6]\n",
            " [2 7]\n",
            " [3 8]\n",
            " [4 9]]\n"
          ]
        }
      ]
    },
    {
      "cell_type": "markdown",
      "metadata": {
        "id": "pgGS5pqJr9lR"
      },
      "source": [
        "### Produto de matrizes (5pt)"
      ]
    },
    {
      "cell_type": "code",
      "metadata": {
        "id": "TGqupKabr-yf",
        "colab": {
          "base_uri": "https://localhost:8080/"
        },
        "outputId": "90bbcaa8-6281-4a30-80a3-60142182f7e4"
      },
      "source": [
        "n1 = np.arange(10).reshape(2, 5)\n",
        "n1"
      ],
      "execution_count": null,
      "outputs": [
        {
          "output_type": "execute_result",
          "data": {
            "text/plain": [
              "array([[0, 1, 2, 3, 4],\n",
              "       [5, 6, 7, 8, 9]])"
            ]
          },
          "metadata": {},
          "execution_count": 68
        }
      ]
    },
    {
      "cell_type": "code",
      "metadata": {
        "id": "pp96FkvQsAlh",
        "colab": {
          "base_uri": "https://localhost:8080/"
        },
        "outputId": "c91ccc5d-d3f2-4f9e-ed5f-674e3829f609"
      },
      "source": [
        "n2 = np.arange(15).reshape(5, 3)\n",
        "n2"
      ],
      "execution_count": null,
      "outputs": [
        {
          "output_type": "execute_result",
          "data": {
            "text/plain": [
              "array([[ 0,  1,  2],\n",
              "       [ 3,  4,  5],\n",
              "       [ 6,  7,  8],\n",
              "       [ 9, 10, 11],\n",
              "       [12, 13, 14]])"
            ]
          },
          "metadata": {},
          "execution_count": 69
        }
      ]
    },
    {
      "cell_type": "code",
      "metadata": {
        "id": "2d1Ds0AVsDa7",
        "colab": {
          "base_uri": "https://localhost:8080/"
        },
        "outputId": "3c3bf1bc-4821-4697-b8ee-dca704b9ec0d"
      },
      "source": [
        "n1.dot(n2)"
      ],
      "execution_count": null,
      "outputs": [
        {
          "output_type": "execute_result",
          "data": {
            "text/plain": [
              "array([[ 90, 100, 110],\n",
              "       [240, 275, 310]])"
            ]
          },
          "metadata": {},
          "execution_count": 70
        }
      ]
    },
    {
      "cell_type": "code",
      "source": [
        "# ToDo: Crie um array de 1 a 25 com shape (5, 5) e faça a multiplicação por uma matriz de zeros de (5, 1).\n",
        "a = np.arange(1, 26).reshape((5, 5))\n",
        "z = np.zeros((5, 1))\n",
        "\n",
        "np.dot(a, z)"
      ],
      "metadata": {
        "id": "i-gOiMYUljXq",
        "colab": {
          "base_uri": "https://localhost:8080/"
        },
        "outputId": "cab07b12-7857-4638-b5e6-6c73a2b6f267"
      },
      "execution_count": null,
      "outputs": [
        {
          "output_type": "execute_result",
          "data": {
            "text/plain": [
              "array([[0.],\n",
              "       [0.],\n",
              "       [0.],\n",
              "       [0.],\n",
              "       [0.]])"
            ]
          },
          "metadata": {},
          "execution_count": 75
        }
      ]
    },
    {
      "cell_type": "markdown",
      "metadata": {
        "id": "frQ6zLAsx1pt"
      },
      "source": [
        "### Matriz Inversa (5pt)"
      ]
    },
    {
      "cell_type": "code",
      "metadata": {
        "id": "gyUBiYy8x4Zb",
        "colab": {
          "base_uri": "https://localhost:8080/"
        },
        "outputId": "e5cd4c46-c9a0-485f-b3bd-540cf969ed6b"
      },
      "source": [
        "import numpy.linalg as linalg\n",
        "\n",
        "m3 = np.array([[1,2,3],[5,7,11],[21,29,31]])\n",
        "\n",
        "m3"
      ],
      "execution_count": 2,
      "outputs": [
        {
          "output_type": "execute_result",
          "data": {
            "text/plain": [
              "array([[ 1,  2,  3],\n",
              "       [ 5,  7, 11],\n",
              "       [21, 29, 31]])"
            ]
          },
          "metadata": {},
          "execution_count": 2
        }
      ]
    },
    {
      "cell_type": "code",
      "metadata": {
        "id": "Fmofch4Nx6rG",
        "colab": {
          "base_uri": "https://localhost:8080/"
        },
        "outputId": "8d5b2920-a896-41d3-9696-a8d2fd67403c"
      },
      "source": [
        "linalg.inv(m3)"
      ],
      "execution_count": null,
      "outputs": [
        {
          "output_type": "execute_result",
          "data": {
            "text/plain": [
              "array([[-2.31818182,  0.56818182,  0.02272727],\n",
              "       [ 1.72727273, -0.72727273,  0.09090909],\n",
              "       [-0.04545455,  0.29545455, -0.06818182]])"
            ]
          },
          "metadata": {},
          "execution_count": 9
        }
      ]
    },
    {
      "cell_type": "markdown",
      "source": [
        "> **ToDo**: O que a função `linalg.inv` faz?\n",
        "> ```\n",
        "  A função `linalg.inv` calcula a matriz inversa da matriz quadrada passada. Caso a matriz não seja quadrada, ocorrerá o erro LinAlgError\n",
        "```"
      ],
      "metadata": {
        "id": "0ZG2aSg3l3nF"
      }
    },
    {
      "cell_type": "markdown",
      "metadata": {
        "id": "akbN2w1yyAs0"
      },
      "source": [
        "### Matriz identidade (5pt)"
      ]
    },
    {
      "cell_type": "code",
      "metadata": {
        "id": "XCdstJwQx_4J",
        "colab": {
          "base_uri": "https://localhost:8080/"
        },
        "outputId": "6764863a-52d8-4fee-bc48-d64af89cf86e"
      },
      "source": [
        "m3.dot(linalg.inv(m3))"
      ],
      "execution_count": null,
      "outputs": [
        {
          "output_type": "execute_result",
          "data": {
            "text/plain": [
              "array([[ 1.00000000e+00, -1.66533454e-16,  0.00000000e+00],\n",
              "       [ 6.31439345e-16,  1.00000000e+00, -1.38777878e-16],\n",
              "       [ 5.21110932e-15, -2.38697950e-15,  1.00000000e+00]])"
            ]
          },
          "metadata": {},
          "execution_count": 78
        }
      ]
    },
    {
      "cell_type": "code",
      "source": [
        "# ToDo: Crie uma matriz identidade de tamanho (5, 5)\n",
        "np.identity(5)"
      ],
      "metadata": {
        "id": "8Sw8Vp9-m2Ue",
        "colab": {
          "base_uri": "https://localhost:8080/"
        },
        "outputId": "2764ea6a-b64b-4ffe-8e57-f111f2d33d00"
      },
      "execution_count": null,
      "outputs": [
        {
          "output_type": "execute_result",
          "data": {
            "text/plain": [
              "array([[1., 0., 0., 0., 0.],\n",
              "       [0., 1., 0., 0., 0.],\n",
              "       [0., 0., 1., 0., 0.],\n",
              "       [0., 0., 0., 1., 0.],\n",
              "       [0., 0., 0., 0., 1.]])"
            ]
          },
          "metadata": {},
          "execution_count": 79
        }
      ]
    },
    {
      "cell_type": "markdown",
      "source": [
        "### Exercícios (15pt)"
      ],
      "metadata": {
        "id": "C2uIubKSnCM7"
      }
    },
    {
      "cell_type": "markdown",
      "source": [
        "Para os próximos exercícios, use o numpy."
      ],
      "metadata": {
        "id": "-7VRI99qnqzB"
      }
    },
    {
      "cell_type": "markdown",
      "source": [
        "**Questão 1:** Escreva uma função recursiva que calcule o determinante de uma matriz $n \\times n$ usando o teorema de Laplace.\n"
      ],
      "metadata": {
        "id": "gXsn7anFnNFS"
      }
    },
    {
      "cell_type": "code",
      "source": [
        "from math import isclose"
      ],
      "metadata": {
        "id": "f9vgV28gN5lx"
      },
      "execution_count": 3,
      "outputs": []
    },
    {
      "cell_type": "code",
      "source": [
        "# Seu código aqui\n",
        "def determinante(matriz):\n",
        "    n = matriz.shape[0]\n",
        "\n",
        "    if n == 2:\n",
        "        return matriz[0][0] * matriz[1][1] - (matriz[0][1] * matriz[1][0])\n",
        "\n",
        "    sum = 0\n",
        "    # A primeira coluna será fixa e serão removidas as linhas\n",
        "    for i in range(n):\n",
        "        submatriz_1 = matriz[0:i, 1:n]\n",
        "        submatriz_2 = matriz[i+1:n, 1:n]\n",
        "        submatriz = np.concatenate((submatriz_1, submatriz_2))\n",
        "        cofator =  ((-1)**i) * matriz[i][0] * determinante(submatriz)\n",
        "        sum += cofator\n",
        "    return sum\n",
        "\n",
        "m = np.array([\n",
        "    [4,5,-3,0],\n",
        "    [2,-1,3,1],\n",
        "    [1,-3,2,1],\n",
        "    [0,2,-2,5]\n",
        "])\n",
        "\n",
        "det = determinante(m)\n",
        "print(det)\n",
        "isclose(linalg.det(m), det)"
      ],
      "metadata": {
        "id": "0wPSQqRAm_Pt",
        "colab": {
          "base_uri": "https://localhost:8080/"
        },
        "outputId": "c0c9599a-5d7c-4b3e-f516-025d4852a967"
      },
      "execution_count": 80,
      "outputs": [
        {
          "output_type": "stream",
          "name": "stdout",
          "text": [
            "210\n"
          ]
        },
        {
          "output_type": "execute_result",
          "data": {
            "text/plain": [
              "True"
            ]
          },
          "metadata": {},
          "execution_count": 80
        }
      ]
    },
    {
      "cell_type": "markdown",
      "source": [
        "**Questão 2:** Escreva um programa que calcule a solução de um sistema de equações lineares por meio da regra de Cramer. Seu programa deve iniciar lendo o numero de equações e variáveis, e, logo após, ler as matrizes de entrada do teclado coeficiente a coeficiente. Para o cálculo dos determinantes, você pode utilizar a função escrita no exercício 1, ou a função `det` do pacote `numPy`.\n"
      ],
      "metadata": {
        "id": "bVIFbrXQnSF0"
      }
    },
    {
      "cell_type": "code",
      "source": [
        "# Seu código aqui\n",
        "def leitura():\n",
        "    num_equacoes = int(input(\"Número de equeações: \"))\n",
        "    num_variaveis = int(input(\"Número de variáveis: \"))\n",
        "\n",
        "    if num_equacoes != num_variaveis:\n",
        "        raise ValueError (\"O número de equações deve ser igual ao de variaveis\")\n",
        "\n",
        "    # Sistema do tipo Ax=B\n",
        "    A = np.empty((num_equacoes, num_variaveis))\n",
        "    B = np.empty((num_equacoes,1))\n",
        "\n",
        "    for i in range(A.shape[0]):\n",
        "        for j in range(A.shape[1]):\n",
        "            A[i][j] = float(input(f\"Coeficiente [{i+1}, {j+1}]: \"))\n",
        "\n",
        "    for i in range(B.shape[0]):\n",
        "        B[i][0] = float(input(f\"Termo independente {i+1}: \"))\n",
        "\n",
        "    matriz_final = np.concatenate((A, B), axis = 1)\n",
        "    return matriz_final\n",
        "\n",
        "def cramer(matriz: np.array):\n",
        "    A = matriz.T[:-1].T\n",
        "    B = matriz.T[-1].T\n",
        "\n",
        "    det_A = determinante(A)\n",
        "    resultados = []\n",
        "\n",
        "    for i in range(matriz.shape[0]):\n",
        "        A_copia = A.T.copy()\n",
        "        A_copia[i] = B\n",
        "        det_temp = determinante(A_copia.T) / det_A\n",
        "        resultados.append(det_temp)\n",
        "\n",
        "    return resultados"
      ],
      "metadata": {
        "id": "Ht3eOR6rnUhK"
      },
      "execution_count": 41,
      "outputs": []
    },
    {
      "cell_type": "markdown",
      "source": [
        "**Questão 3:** Implemente uma função que resolva sistemas de equações lineares através do método de eliminação de Gauss. Rode a função para algum exemplo, e compare com a solução obtida com o código da questão 2.\n",
        "Meça o tempo de execução para verificar qual algoritmo executa mais rápido."
      ],
      "metadata": {
        "id": "A_4NUQppnXJF"
      }
    },
    {
      "cell_type": "code",
      "source": [
        "# Seu código aqui\n",
        "def eliminacao_gauss(matriz: np.array):\n",
        "    if determinante(matriz) == 0:\n",
        "        raise ValueError (\"Determinante zero implica em infinitas soluções, logo a matriz é inválida\")\n",
        "\n",
        "    n = matriz.shape[0]\n",
        "    matriz_copy = matriz.copy()\n",
        "\n",
        "    for i in range(n):\n",
        "        pivo = matriz_copy[i][i]\n",
        "        matriz_copy[i] = matriz_copy[i] / pivo # Dividindo a linha atual pelo pivo\n",
        "\n",
        "        # aplicando Linha[i] -m * Linha[j]\n",
        "        for linha in range(i+1, n):\n",
        "            m = matriz_copy[linha][i] / matriz_copy[i][i]\n",
        "            matriz_copy[linha] = matriz_copy[linha] - m * matriz_copy[i]\n",
        "\n",
        "    # Apos obter a matriz triangular superior, aplicamos o metodo direto indo da ultima variavel ate a primeira\n",
        "    # para obter os valores de cada termo\n",
        "    Xs = []\n",
        "    xn = matriz_copy[-1][-1] / matriz_copy[-1][-2]\n",
        "    Xs.append(xn)\n",
        "\n",
        "    for i in reversed(range(n - 1)):\n",
        "        somatorio = 0\n",
        "        for j in range(i+1, n):\n",
        "            somatorio += matriz_copy[i][j] * Xs[-(n-j)]\n",
        "        xi = (matriz_copy[i][-1] - somatorio) / matriz_copy[i][i]\n",
        "        Xs.insert(0, xi)\n",
        "\n",
        "    return Xs"
      ],
      "metadata": {
        "id": "4FUPyqrgnYbo"
      },
      "execution_count": 42,
      "outputs": []
    },
    {
      "cell_type": "code",
      "source": [
        "import time\n",
        "matriz = np.array([\n",
        "    [2, 3, -4, 0, 8],\n",
        "    [1, -1, 0, -1, 0],\n",
        "    [0, 1, 1, 1, 2],\n",
        "    [1, 2, 2, 4, 8]\n",
        "]).astype(np.float64)\n",
        "\n",
        "tempos = np.empty((2, 10), dtype=np.float64)\n",
        "resultados = np.empty((2, matriz.shape[0]), dtype=np.float64)\n",
        "# Executando ambos os códigos 10 vezes para possuir uma média dos tempos de execução\n",
        "for i in range(10):\n",
        "    for index, metodo in enumerate([cramer, eliminacao_gauss]):\n",
        "        inicio = time.time()\n",
        "        resultado = metodo(matriz)\n",
        "        final = time.time()\n",
        "\n",
        "        tempos[index][i] = final - inicio\n",
        "        if i == 9:\n",
        "            resultados[index] = resultado\n",
        "\n",
        "tempos = np.average(tempos, axis = 1)\n",
        "print(f\"Cramer: {tempos[0]}s\")\n",
        "print(f\"Gauss : {tempos[1]}s\")\n",
        "print(\"Os valores de tempo são uma média de 10 execuções de cada algoritmo para a mesma matriz\\n\")\n",
        "\n",
        "melhor = \"Gauss\"\n",
        "pior   = \"Cramer\"\n",
        "if tempos[0] < tempos[1]:\n",
        "    melhor = \"Cramer\"\n",
        "    pior = \"Gauss\"\n",
        "print(f\"O método de {melhor} foi mais rápido do que o método de {pior}\\n\")\n",
        "\n",
        "print(f\"Resultados Cramer: {resultados[0]}\")\n",
        "print(f\"Resultados Gauss : {resultados[1]}\")"
      ],
      "metadata": {
        "id": "yvNUDr8lQT0a",
        "colab": {
          "base_uri": "https://localhost:8080/"
        },
        "outputId": "69c95be8-f6c7-4cf4-bc47-e92b13edf5c7"
      },
      "execution_count": 75,
      "outputs": [
        {
          "output_type": "stream",
          "name": "stdout",
          "text": [
            "Cramer: 0.00044956207275390623s\n",
            "Gauss : 0.00013113021850585938s\n",
            "Os valores de tempo são uma média de 10 execuções de cada algoritmo para a mesma matriz\n",
            "\n",
            "O método de Gauss foi mais rápido do que o método de Cramer\n",
            "\n",
            "Resultados Cramer: [ 2.0952381   1.14285714 -0.0952381   0.95238095]\n",
            "Resultados Gauss : [ 2.0952381   1.14285714 -0.0952381   0.95238095]\n"
          ]
        }
      ]
    }
  ]
}