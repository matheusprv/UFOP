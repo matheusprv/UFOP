{
 "cells": [
  {
   "cell_type": "code",
   "execution_count": null,
   "id": "b6e91c4c",
   "metadata": {},
   "outputs": [],
   "source": [
    "import numpy as np\n",
    "import matplotlib.pyplot as plt"
   ]
  },
  {
   "cell_type": "code",
   "execution_count": 16,
   "id": "ef3ac1c0",
   "metadata": {},
   "outputs": [],
   "source": [
    "def omabd(x: list, tdd:float) -> list:\n",
    "    \"\"\"\n",
    "    Input: \n",
    "        1) x: Dataset D representado por x[0..m][0..n], \n",
    "            onde x[i][j] é o j-ésimo atributo do i-ésimo objeto\n",
    "        2) tdd: Limiar de dissimilaridade\n",
    "    \n",
    "    Retorno:\n",
    "        Índices dos outliers\n",
    "    \"\"\"\n",
    "\n",
    "    # Passo 1: Obter Xmaxf, Xminf e Xf de cada atributo \n",
    "    m = len(x)\n",
    "    n = len(x[0])\n",
    "\n",
    "    xmaxf = [0 for _ in range(n)]\n",
    "    xminf = [0 for _ in range(n)]\n",
    "    xf    = [0 for _ in range(n)]\n",
    "\n",
    "    for i in range(n):\n",
    "        xmaxf[i] = x[0][i]\n",
    "        xminf[i] = x[0][i]\n",
    "        xf[i] = x[0][i]\n",
    "\n",
    "        for j in range(1, m):\n",
    "            if x[j][i] > xmaxf[i]: xmaxf[i] = x[j][i]\n",
    "            if x[j][i] < xminf[i]: xminf[i] = x[j][i]\n",
    "            xf[i] += x[j][i]\n",
    "        \n",
    "        xf[i] /= m\n",
    "\n",
    "    # Passo 2: Computar a matriz dm e dmax\n",
    "    dmax = 0.0\n",
    "    sd = [0 for _ in range(m)]\n",
    "    od = [[0 for _ in range(m)] for _ in range(m)] \n",
    "    \n",
    "    for i in range(m):\n",
    "        for j in range(m):\n",
    "            for k in range(n):\n",
    "                temp = abs(abs(x[i][k]-xf[k]) - abs(x[j][k]-xf[k]))\n",
    "                od[i][j] += (temp*temp) / (xmaxf[k]-xminf[k])\n",
    "            \n",
    "            od[i][j] = od[i][j] / n\n",
    "            sd[i] += od[i][j]\n",
    "            \n",
    "            if dmax < sd[i]: dmax=sd[i]\n",
    "    \n",
    "    # Passo 3: Detectando outliers usando o tdd\n",
    "    outliers = []\n",
    "    for i in range(m):\n",
    "        dd = (dmax - sd[i]) / dmax\n",
    "        if dd < tdd: outliers.append(i)\n",
    "\n",
    "    return outliers\n"
   ]
  },
  {
   "cell_type": "code",
   "execution_count": 17,
   "id": "0dc66f34",
   "metadata": {},
   "outputs": [],
   "source": [
    "def omabd_numpy(x:np.array, tdd:float) -> list:\n",
    "    \"\"\"\n",
    "    Input: \n",
    "        1) x: Dataset D representado por x[1..m][1..n], onde x[i][j] é o j-ésimo atributo do i-ésimo objeto\n",
    "        2) tdd: Limiar de dissimilaridade\n",
    "    \n",
    "    Retorno:\n",
    "        Índices dos outliers\n",
    "    \"\"\"\n",
    "\n",
    "    m, n = x.shape\n",
    "\n",
    "    # Passo 1: Obter Xmaxf, Xminf e Xf de cada atributo \n",
    "    xmaxf = np.max(x, axis=0)\n",
    "    xminf = np.min(x, axis=0)\n",
    "    xf = np.mean(x, axis=0)\n",
    "\n",
    "    # Passo 2: Computar a matriz dm e dmax\n",
    "    dmax = 0.0\n",
    "    sd = np.zeros(shape=(m))\n",
    "    od = np.zeros(shape=(m, m))\n",
    "    \n",
    "    for i in range(m):\n",
    "        for j in range(m):\n",
    "            for k in range(n):\n",
    "                temp = abs(abs(x[i][k]-xf[k]) - abs(x[j][k]-xf[k]))\n",
    "                od[i][j] += (temp*temp) / (xmaxf[k]-xminf[k])\n",
    "            \n",
    "            od[i][j] = od[i][j] / n\n",
    "            sd[i] += od[i][j]\n",
    "            \n",
    "            if(dmax<sd[i]): dmax=sd[i]\n",
    "    \n",
    "    # Passo 3: Detectando outliers usando o tdd\n",
    "    outliers = []\n",
    "    for i in range(m):\n",
    "        dd = (dmax - sd[i]) / dmax\n",
    "        if dd < tdd: outliers.append(i)\n",
    "\n",
    "    return outliers"
   ]
  },
  {
   "cell_type": "code",
   "execution_count": null,
   "id": "faba5336",
   "metadata": {},
   "outputs": [
    {
     "data": {
      "image/png": "[encoded data removed]",
      "text/plain": [
       "<Figure size 640x480 with 1 Axes>"
      ]
     },
     "metadata": {},
     "output_type": "display_data"
    }
   ],
   "source": [
    "# Definindo a função polinomial\n",
    "coefficients = [4, 6, 0, -1]\n",
    "polynomial = np.poly1d(coefficients)\n",
    "\n",
    "# Gerando os valores de X e Y\n",
    "x = np.linspace(-2, 1, 30)\n",
    "y = polynomial(x)\n",
    "\n",
    "x = x.tolist()\n",
    "y = y.tolist()\n",
    "\n",
    "# Gerando outliers arbitrários\n",
    "outliers = [\n",
    "    (-1.0, -20.0),\n",
    "    (-0.7, -17.0),\n",
    "    (0.7, 25.0)\n",
    "]\n",
    "\n",
    "D = list(zip(x, y)) + outliers\n",
    "D = sorted(D, key=lambda x: x[0])\n",
    "\n",
    "# Plot\n",
    "plt.plot(x, y, label=r'$f(x) = 4x^3 + 6x^2 - 1$', color='blue')\n",
    "plt.scatter(x, y, color = \"black\", label=\"Dados normais\")\n",
    "plt.scatter([x for x, _ in outliers], [y for _, y in outliers], color = \"red\", label=\"Outliers\")\n",
    "plt.xlabel(\"x\")\n",
    "plt.ylabel(\"y\")\n",
    "plt.title('$f(x) = 4x^3 + 6x^2 - 1$')\n",
    "plt.grid(True)\n",
    "plt.legend()\n",
    "plt.savefig('foo.png')\n",
    "plt.show()"
   ]
  },
  {
   "cell_type": "code",
   "execution_count": 19,
   "id": "9efb9e5c",
   "metadata": {},
   "outputs": [
    {
     "name": "stdout",
     "output_type": "stream",
     "text": [
      "outliers: [10, 14, 29]\n",
      "(-1.0, -20.0)\n",
      "(-0.7, -17.0)\n",
      "(0.7, 25.0)\n"
     ]
    }
   ],
   "source": [
    "indexes = omabd(D, tdd=0.6)\n",
    "print(f\"outliers: {indexes}\")\n",
    "for i in indexes:\n",
    "    print(D[i])"
   ]
  },
  {
   "cell_type": "code",
   "execution_count": 14,
   "id": "6883823c",
   "metadata": {},
   "outputs": [
    {
     "name": "stdout",
     "output_type": "stream",
     "text": [
      "184.99732987848213\n",
      "outliers: [10, 14, 29]\n",
      "184.99732987848213\n",
      "outliers: [10, 14, 29]\n"
     ]
    }
   ],
   "source": [
    "tdd = 0.6\n",
    "indexes = omabd(D, tdd)\n",
    "print(f\"outliers: {indexes}\")\n",
    "\n",
    "indexes = omabd_numpy(np.array(D), tdd)\n",
    "print(f\"outliers: {indexes}\")\n",
    "\n"
   ]
  }
 ],
 "metadata": {
  "kernelspec": {
   "display_name": "Python 3",
   "language": "python",
   "name": "python3"
  },
  "language_info": {
   "codemirror_mode": {
    "name": "ipython",
    "version": 3
   },
   "file_extension": ".py",
   "mimetype": "text/x-python",
   "name": "python",
   "nbconvert_exporter": "python",
   "pygments_lexer": "ipython3",
   "version": "3.10.12"
  }
 },
 "nbformat": 4,
 "nbformat_minor": 5
}
